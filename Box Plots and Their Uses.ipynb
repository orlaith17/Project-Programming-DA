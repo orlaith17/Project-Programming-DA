{
 "cells": [
  {
   "cell_type": "markdown",
   "metadata": {},
   "source": [
    "# Box Plots and Their Uses\n",
    "\n",
    "The box plot is common in data analysis for investigating individual numerical variables.\n",
    "In this project, you will investigate and explain box plots and their uses. The boxplot\n",
    "function from the Python package matplotlib.pyplot can be used to create box plots.\n",
    "Your submission should be in the form of a repository containing a Jupyter notebook in\n",
    "which you detail your findings. In your notebook, you should:\n",
    "1. Summarise the history of the box plot and situations in which it is used.\n",
    "2. Demonstrate the use of the box plot using data of your choosing.\n",
    "3. Explain any relevant terminology such as the terms quartile and percentile.\n",
    "4. Compare the box plot to alternatives."
   ]
  },
  {
   "cell_type": "markdown",
   "metadata": {},
   "source": [
    "# 1. History of the Box Plot and Situations in which it used\n",
    "\n",
    "### 1.1 History of the Box Plot\n",
    "\n",
    "<img src=\"https://www.opensciencedatacloud.org/static/dashboard/img/home/john-tukey-crop.jpg\" alt=\"Drawing\" style=\"width: 800px;\"/>\n",
    "\n",
    "The Box Plot was invented in 1970 by John W Tukey’s as part of his toolkit for exploratory data analysis. Tukey was an American statistician who also introduced the word software to describe programs on which electronic calculators ran and was the first to use the word bit as an abbreviation for binary digit. \n",
    "\n",
    "The Box Plot did not become widely known until formal publication in 1977, however, it has become one of the most frequently used statistical graphics and is one of the few plot types invented in the 20th century that has found widespread adoption.\n",
    "\n",
    "*They are different, but not different enough to matter -- like the maple leaves off the tree in my yard, when all I want to do is rake them up.* Roald Hoffmann, 1981 Nobel Laureate in Chemistry from: The Same and Not the Same\n",
    "\n",
    "As the quote above goes, Tukey's contribution was to think deeply about appropriate summary statistics that worked for a wide range of data and to connect those to the visual components of the range bar culminating in a succinct distributional summary. \n",
    "\n",
    "Today, what we call a boxplot is more closely related to what Tukey called a schematic plot; a box-and-whiskers plot. It consists of: \n",
    "1. A line (vertical or horizontal) extending from the minimum value to the maximum value. \n",
    "2. A box, the end lines of which depict the 25th percentile and the 75th percentile \n",
    "3. A central line within which depicts the median.\n",
    "4. Outliers are plotted as individual data points.\n",
    "\n",
    "As computers have become more prevalent and more powerful, it has become easier to produce compact summaries that display more data and thus the Box Plot has evolved and been adapted. Evolution the of Box Plot:\n",
    "- 1950’s Spear basic graphic box plot with range bar\n",
    "- 1970's Box Plot by American statistician John Wilder Tukey\n",
    "- Variable-width and Notched Box Plots (McGill and Larsen, 1978)\n",
    "- Rangefinder Plot (Becketti and Gould, 1987) mapped to 2D\n",
    "- Vase Plot (Benjamini, 1988), depicting symmetrical display of estimated density rather than a box\n",
    "- HDR Box Plot (Hyndman, 1996)\n",
    "- Violin Plots (Hintze and Nelson, 1998) which are similar to Vase plots but display the density for all data points\n",
    "- Robust Bivariate Boxplot (Zani et al., 1998), uses convex hull peeling to find the central regions\n",
    "- Bagplot, (Rousseuw et al., 1999), also 2D\n",
    "- Rotational Boxplot of Muth et al. (2000) used a circular approach\n",
    "- Midgap Plot (Tufte, 2001) \n",
    "- Raindrop Plot (Barrowman and Myers, 2003)\n",
    "- Box-percentile Plot (Esty and Banfield, 2003)\n",
    "- Letter-value Box Plot (Hofmann et al., 2006) \n",
    "- Sectioned Density Plot (Cohen and Cohen, 2006)\n",
    "- Bean Plot (Kampstra, 2008)\n",
    "- Summary Plot (Potter et al., 2010) \n",
    "- Functional boxplots (Hyndman and Shang, 2010; Sun and Genton, 2011) take the ideas of 2d boxplots and extend them to the infinite-dimensional functional case"
   ]
  },
  {
   "cell_type": "markdown",
   "metadata": {},
   "source": [
    "### 1.2 Situations in which it is used\n",
    "\n",
    "There are several ways to describe the centre and spread of a distribution. One way to present this information is with a five-number summary. It uses the median as its centre value and gives a brief picture of the other important distribution values. A box and whisker plot (sometimes called a boxplot) is a graph that presents information from a five-number summary.\n",
    "\n",
    "<img src=\"https://marketingland.com/wp-content/themes/marketingland/img/externals/Boxplot-PartyPeopleAll.png\" alt=\"Drawing\" style=\"width: 500px;\"/>\n",
    "\n",
    "*“A box plot is a graphical rendition of statistical data based on the minimum, first quartile, median, third quartile, and maximum. The term “box plot” comes from the fact that the graph looks like a rectangle with lines extending from the top and bottom. Because of the extending lines, this type of graph is sometimes called a box-and-whisker plot.”* https://whatis.techtarget.com/definition/box-plot\n",
    "\n",
    "<img src=\"https://dr282zn36sxxg.cloudfront.net/datastreams/f-d%3A76c695b74012b2ac940d6fe7e7d4d082ffa0e626210fa4ce8cdf548e%2BIMAGE%2BIMAGE.1\" alt=\"Drawing\" style=\"width: 500px;\"/>\n",
    "\n",
    "It is useful for:\n",
    "1. revealing the central tendency and variability of a data set, \n",
    "2. the distribution (particularly symmetry or skewness) of the data,  \n",
    "3. the presence of outliers (unusual observations), \n",
    "4. comparing samples from two or more different treatments or populations, and \n",
    "5. plotting values such as the mean, standard deviation, range, etc.\n",
    "\n",
    "Box Plots are great for examining and comparing data at a glance because the centre, spread and overall range is immediately apparent whilst also giving a nice summary of several numeric variables. "
   ]
  },
  {
   "cell_type": "markdown",
   "metadata": {},
   "source": [
    "# 2. Uses of the Box Plot Using the Iris Data Set"
   ]
  },
  {
   "cell_type": "markdown",
   "metadata": {},
   "source": [
    "#### What you might expect to find plotting a boxplot from the Iris Data Set (Image): \n",
    "<img src=\"https://shanelynnwebsite-mid9n9g1q9y8tt.netdna-ssl.com/wp-content/uploads/2016/07/boxplot_tableau.png\" alt=\"Drawing\" style=\"width: 500px;\"/>"
   ]
  },
  {
   "cell_type": "code",
   "execution_count": 112,
   "metadata": {},
   "outputs": [],
   "source": [
    "# Import numpy as np\n",
    "import numpy as np\n",
    "\n",
    "# import matplot\n",
    "import matplotlib.pyplot as plt\n",
    "\n",
    "#Use the 'inline' backend, so that the matplotlib graphs are included in notebook, next to the code\n",
    "%matplotlib inline\n",
    "\n",
    "# Import pandas\n",
    "import pandas as pd\n",
    "\n",
    "# import seaborn \n",
    "import seaborn as sns"
   ]
  },
  {
   "cell_type": "code",
   "execution_count": 113,
   "metadata": {},
   "outputs": [],
   "source": [
    "# Load the iris data set from a URL.\n",
    "df = pd.read_csv(\"https://raw.githubusercontent.com/uiuc-cse/data-fa14/gh-pages/data/iris.csv\")"
   ]
  },
  {
   "cell_type": "code",
   "execution_count": 114,
   "metadata": {},
   "outputs": [
    {
     "data": {
      "text/html": [
       "<div>\n",
       "<style scoped>\n",
       "    .dataframe tbody tr th:only-of-type {\n",
       "        vertical-align: middle;\n",
       "    }\n",
       "\n",
       "    .dataframe tbody tr th {\n",
       "        vertical-align: top;\n",
       "    }\n",
       "\n",
       "    .dataframe thead th {\n",
       "        text-align: right;\n",
       "    }\n",
       "</style>\n",
       "<table border=\"1\" class=\"dataframe\">\n",
       "  <thead>\n",
       "    <tr style=\"text-align: right;\">\n",
       "      <th></th>\n",
       "      <th>sepal_length</th>\n",
       "      <th>sepal_width</th>\n",
       "      <th>petal_length</th>\n",
       "      <th>petal_width</th>\n",
       "      <th>species</th>\n",
       "    </tr>\n",
       "  </thead>\n",
       "  <tbody>\n",
       "    <tr>\n",
       "      <th>0</th>\n",
       "      <td>5.1</td>\n",
       "      <td>3.5</td>\n",
       "      <td>1.4</td>\n",
       "      <td>0.2</td>\n",
       "      <td>setosa</td>\n",
       "    </tr>\n",
       "    <tr>\n",
       "      <th>1</th>\n",
       "      <td>4.9</td>\n",
       "      <td>3.0</td>\n",
       "      <td>1.4</td>\n",
       "      <td>0.2</td>\n",
       "      <td>setosa</td>\n",
       "    </tr>\n",
       "    <tr>\n",
       "      <th>2</th>\n",
       "      <td>4.7</td>\n",
       "      <td>3.2</td>\n",
       "      <td>1.3</td>\n",
       "      <td>0.2</td>\n",
       "      <td>setosa</td>\n",
       "    </tr>\n",
       "    <tr>\n",
       "      <th>3</th>\n",
       "      <td>4.6</td>\n",
       "      <td>3.1</td>\n",
       "      <td>1.5</td>\n",
       "      <td>0.2</td>\n",
       "      <td>setosa</td>\n",
       "    </tr>\n",
       "    <tr>\n",
       "      <th>4</th>\n",
       "      <td>5.0</td>\n",
       "      <td>3.6</td>\n",
       "      <td>1.4</td>\n",
       "      <td>0.2</td>\n",
       "      <td>setosa</td>\n",
       "    </tr>\n",
       "  </tbody>\n",
       "</table>\n",
       "</div>"
      ],
      "text/plain": [
       "   sepal_length  sepal_width  petal_length  petal_width species\n",
       "0           5.1          3.5           1.4          0.2  setosa\n",
       "1           4.9          3.0           1.4          0.2  setosa\n",
       "2           4.7          3.2           1.3          0.2  setosa\n",
       "3           4.6          3.1           1.5          0.2  setosa\n",
       "4           5.0          3.6           1.4          0.2  setosa"
      ]
     },
     "execution_count": 114,
     "metadata": {},
     "output_type": "execute_result"
    }
   ],
   "source": [
    "# check if the link works\n",
    "# prints the first few rows of the iris data set\n",
    "df.head()"
   ]
  },
  {
   "cell_type": "code",
   "execution_count": 115,
   "metadata": {},
   "outputs": [
    {
     "data": {
      "text/html": [
       "<div>\n",
       "<style scoped>\n",
       "    .dataframe tbody tr th:only-of-type {\n",
       "        vertical-align: middle;\n",
       "    }\n",
       "\n",
       "    .dataframe tbody tr th {\n",
       "        vertical-align: top;\n",
       "    }\n",
       "\n",
       "    .dataframe thead th {\n",
       "        text-align: right;\n",
       "    }\n",
       "</style>\n",
       "<table border=\"1\" class=\"dataframe\">\n",
       "  <thead>\n",
       "    <tr style=\"text-align: right;\">\n",
       "      <th></th>\n",
       "      <th>sepal_length</th>\n",
       "      <th>sepal_width</th>\n",
       "      <th>petal_length</th>\n",
       "      <th>petal_width</th>\n",
       "    </tr>\n",
       "  </thead>\n",
       "  <tbody>\n",
       "    <tr>\n",
       "      <th>count</th>\n",
       "      <td>150.000000</td>\n",
       "      <td>150.000000</td>\n",
       "      <td>150.000000</td>\n",
       "      <td>150.000000</td>\n",
       "    </tr>\n",
       "    <tr>\n",
       "      <th>mean</th>\n",
       "      <td>5.843333</td>\n",
       "      <td>3.054000</td>\n",
       "      <td>3.758667</td>\n",
       "      <td>1.198667</td>\n",
       "    </tr>\n",
       "    <tr>\n",
       "      <th>std</th>\n",
       "      <td>0.828066</td>\n",
       "      <td>0.433594</td>\n",
       "      <td>1.764420</td>\n",
       "      <td>0.763161</td>\n",
       "    </tr>\n",
       "    <tr>\n",
       "      <th>min</th>\n",
       "      <td>4.300000</td>\n",
       "      <td>2.000000</td>\n",
       "      <td>1.000000</td>\n",
       "      <td>0.100000</td>\n",
       "    </tr>\n",
       "    <tr>\n",
       "      <th>25%</th>\n",
       "      <td>5.100000</td>\n",
       "      <td>2.800000</td>\n",
       "      <td>1.600000</td>\n",
       "      <td>0.300000</td>\n",
       "    </tr>\n",
       "    <tr>\n",
       "      <th>50%</th>\n",
       "      <td>5.800000</td>\n",
       "      <td>3.000000</td>\n",
       "      <td>4.350000</td>\n",
       "      <td>1.300000</td>\n",
       "    </tr>\n",
       "    <tr>\n",
       "      <th>75%</th>\n",
       "      <td>6.400000</td>\n",
       "      <td>3.300000</td>\n",
       "      <td>5.100000</td>\n",
       "      <td>1.800000</td>\n",
       "    </tr>\n",
       "    <tr>\n",
       "      <th>max</th>\n",
       "      <td>7.900000</td>\n",
       "      <td>4.400000</td>\n",
       "      <td>6.900000</td>\n",
       "      <td>2.500000</td>\n",
       "    </tr>\n",
       "  </tbody>\n",
       "</table>\n",
       "</div>"
      ],
      "text/plain": [
       "       sepal_length  sepal_width  petal_length  petal_width\n",
       "count    150.000000   150.000000    150.000000   150.000000\n",
       "mean       5.843333     3.054000      3.758667     1.198667\n",
       "std        0.828066     0.433594      1.764420     0.763161\n",
       "min        4.300000     2.000000      1.000000     0.100000\n",
       "25%        5.100000     2.800000      1.600000     0.300000\n",
       "50%        5.800000     3.000000      4.350000     1.300000\n",
       "75%        6.400000     3.300000      5.100000     1.800000\n",
       "max        7.900000     4.400000      6.900000     2.500000"
      ]
     },
     "execution_count": 115,
     "metadata": {},
     "output_type": "execute_result"
    }
   ],
   "source": [
    "# describe what is going on across all datasets for x and y\n",
    "df.describe()"
   ]
  },
  {
   "cell_type": "code",
   "execution_count": 116,
   "metadata": {},
   "outputs": [
    {
     "data": {
      "image/png": "[encoded data removed]",
      "text/plain": [
       "<Figure size 432x288 with 1 Axes>"
      ]
     },
     "metadata": {
      "needs_background": "light"
     },
     "output_type": "display_data"
    }
   ],
   "source": [
    "# plot the Box Plot for the sepal length\n",
    "plt.boxplot(df.sepal_length)\n",
    "plt.show()"
   ]
  },
  {
   "cell_type": "code",
   "execution_count": 117,
   "metadata": {},
   "outputs": [
    {
     "data": {
      "image/png": "[encoded data removed]",
      "text/plain": [
       "<Figure size 432x288 with 1 Axes>"
      ]
     },
     "metadata": {
      "needs_background": "light"
     },
     "output_type": "display_data"
    }
   ],
   "source": [
    "# plot the Box Plot for the petal length\n",
    "plt.boxplot(df.petal_length)\n",
    "plt.show()"
   ]
  },
  {
   "cell_type": "code",
   "execution_count": 118,
   "metadata": {},
   "outputs": [
    {
     "data": {
      "text/plain": [
       "3.7586666666666693"
      ]
     },
     "execution_count": 118,
     "metadata": {},
     "output_type": "execute_result"
    }
   ],
   "source": [
    "# calculate mean for petal length or look at describe table above\n",
    "mean = np.mean(df.petal_length)\n",
    "mean"
   ]
  },
  {
   "cell_type": "markdown",
   "metadata": {},
   "source": [
    "The median as shown in the yellow line above is the numeric value separating the higher half of the sample petal lengths from the lower half.\n",
    "\n",
    "We can see the the median is slightly higher than the mean of the petal length in the iris data set meaning that the data is skewed. "
   ]
  },
  {
   "cell_type": "code",
   "execution_count": 119,
   "metadata": {},
   "outputs": [
    {
     "data": {
      "text/plain": [
       "virginica     50\n",
       "setosa        50\n",
       "versicolor    50\n",
       "Name: species, dtype: int64"
      ]
     },
     "execution_count": 119,
     "metadata": {},
     "output_type": "execute_result"
    }
   ],
   "source": [
    "# check the number of values within the species variable to indicate number of box plots we see by plotting \n",
    "# species against another variable. \n",
    "df['species'].value_counts()"
   ]
  },
  {
   "cell_type": "code",
   "execution_count": 120,
   "metadata": {},
   "outputs": [
    {
     "data": {
      "text/plain": [
       "<matplotlib.axes._subplots.AxesSubplot at 0xd890240>"
      ]
     },
     "execution_count": 120,
     "metadata": {},
     "output_type": "execute_result"
    },
    {
     "data": {
      "image/png": "[encoded data removed]",
      "text/plain": [
       "<Figure size 432x288 with 1 Axes>"
      ]
     },
     "metadata": {
      "needs_background": "light"
     },
     "output_type": "display_data"
    }
   ],
   "source": [
    "# plot petal width against species\n",
    "df.boxplot(column='sepal_length', by='species')"
   ]
  },
  {
   "cell_type": "markdown",
   "metadata": {},
   "source": [
    "When we plot the sepal length against species, we see that there are two outliers in the virginica species. "
   ]
  },
  {
   "cell_type": "code",
   "execution_count": 121,
   "metadata": {},
   "outputs": [
    {
     "data": {
      "image/png": "[encoded data removed]",
      "text/plain": [
       "<Figure size 432x288 with 1 Axes>"
      ]
     },
     "metadata": {
      "needs_background": "light"
     },
     "output_type": "display_data"
    }
   ],
   "source": [
    "# Another way to describe it using Seaborn\n",
    "\n",
    "sns.boxplot(x=\"species\", y=\"sepal_length\", data=df )\n",
    "plt.show()"
   ]
  },
  {
   "cell_type": "code",
   "execution_count": 122,
   "metadata": {},
   "outputs": [
    {
     "data": {
      "text/plain": [
       "<matplotlib.axes._subplots.AxesSubplot at 0xc2c6550>"
      ]
     },
     "execution_count": 122,
     "metadata": {},
     "output_type": "execute_result"
    },
    {
     "data": {
      "image/png": "[encoded data removed]",
      "text/plain": [
       "<Figure size 432x288 with 1 Axes>"
      ]
     },
     "metadata": {
      "needs_background": "light"
     },
     "output_type": "display_data"
    }
   ],
   "source": [
    "# Using Seaborn, we can layer a swarmplot atop the Box Plot\n",
    "\n",
    "# Box Plot\n",
    "ax = sns.boxplot(x='species', y='sepal_length', data=df)\n",
    " \n",
    "# Swarmplot\n",
    "ax = sns.swarmplot(x='species', y='sepal_length', data=df, color=\"grey\")\n",
    "\n",
    "ax\n"
   ]
  },
  {
   "cell_type": "markdown",
   "metadata": {},
   "source": [
    "We can see that the distribution of values on the swarmplot are contained within the box and whiskers of the Box Plot bar the outlier of the virginica. "
   ]
  },
  {
   "cell_type": "code",
   "execution_count": 123,
   "metadata": {},
   "outputs": [
    {
     "data": {
      "image/png": "[encoded data removed]",
      "text/plain": [
       "<Figure size 432x288 with 1 Axes>"
      ]
     },
     "metadata": {
      "needs_background": "light"
     },
     "output_type": "display_data"
    }
   ],
   "source": [
    "# Alternative graphical display laying SwarmPlot over Box Plot for full data set: \n",
    "ax = sns.boxplot(data=df, orient=\"h\", palette=\"Set2\")\n",
    "ax = sns.swarmplot(data=df, orient=\"h\")"
   ]
  },
  {
   "cell_type": "markdown",
   "metadata": {},
   "source": [
    "### Examining the Distribution\n",
    "\n",
    "#### Sepal Length\n",
    "\n",
    "The median of the data set is quite centrally located meaning there is little to no skewness. This is verified by the even distribution of the swarmplot for same. \n",
    "\n",
    "The right whisker is longer than the left whisker meaning the distribution is positively skewed.\n",
    "\n",
    "#### Sepal Width\n",
    "\n",
    "The median of the data set is quite centrally located meaning there is little to no skewness. This is verified by the even distribution of the swarmplot for same.\n",
    "\n",
    "The whiskers are almost the same length meaning the distribution is approximately symmetric. \n",
    "\n",
    "#### Petal Length\n",
    "\n",
    "The median of the data set is located to the right of the center of the box meaning the distribution is negatively skewed. This is verified by the uneven distribution of the swarmplot for same.\n",
    "\n",
    "The right whisker is longer than the left whisker meaning the distribution is positively skewed.\n",
    "\n",
    "#### Petal Width\n",
    "\n",
    "The median of the data set is located to the right of the center of the box meaning the distribution is negatively skewed. This is verified by the uneven distribution of the swarmplot for same.\n",
    "\n",
    "The right whisker is longer than the left whisker meaning the distribution is positively skewed."
   ]
  },
  {
   "cell_type": "markdown",
   "metadata": {},
   "source": [
    "# 3. Terminology"
   ]
  },
  {
   "cell_type": "markdown",
   "metadata": {},
   "source": [
    "<img style=\"float: center;\" src=\"https://dr282zn36sxxg.cloudfront.net/datastreams/f-d%3Ac85d101d220100e34b569a895441f5c1ba672eea0d9f600e201d241c%2BIMAGE_TINY%2BIMAGE_TINY.1\" alt=\"Drawing\" style=\"width: 1000px;\"/>"
   ]
  },
  {
   "cell_type": "markdown",
   "metadata": {},
   "source": [
    "### Five Number Summary:\n",
    "Is a set of descriptive statistics that provide information about a dataset. It consists of the five most important sample percentiles: \n",
    "\n",
    "1. Minimum (Extreme) - lease value in the set\n",
    "2. First Quartile (25th percentile) - 25% of the data values are below this value\n",
    "3. Median - shown as a line within the box of the box plot. 50% of the data values are below this value and 50% are above this value\n",
    "4. Third Quartile (75th percentile) - 25% of the data values are above this value\n",
    "5. Maximum (Extreme) - highest value in the set\n",
    "\n",
    "A boxplot is a visual display of a five number summary. "
   ]
  },
  {
   "cell_type": "markdown",
   "metadata": {},
   "source": [
    "### Interquartile Range (IQR)\n",
    "\n",
    "The box portion of the box plot is defined by two lines at the 25th percentile and 75th percentile. Thus, the middle 50% of the data values fall within the box. The distance between the 75th percentile and 25th percentile lines of the box is called the inter-quartile range (IQR). IQR is a popular measure of spread. "
   ]
  },
  {
   "cell_type": "markdown",
   "metadata": {},
   "source": [
    "### Box Plot is a Univariate Plot\n",
    "A univariate plot shows the data and summarizes its distribution. "
   ]
  },
  {
   "cell_type": "markdown",
   "metadata": {},
   "source": [
    "### Whisker \n",
    "A box plot whisker is a line that goes out from the box boundaries (25th percentile and 75th percentile) to the extreme values. They each contain 25% of the data. The length of the whiskers gives you information about how spread out the data is as mentioned in previous section. "
   ]
  },
  {
   "cell_type": "markdown",
   "metadata": {},
   "source": [
    "### Outlier\n",
    "Point outside the whisker boundaries\n",
    "\n",
    "In general, they are either 3×IQR or more above the third quartile or 3×IQR or more below the first quartile. Suspected outliers are are slightly more central versions of outliers; either 1.5×IQR or more above the third quartile or 1.5×IQR or more below the first quartile.\n",
    "\n",
    "Outliers may but not always be down to error in collecting the data. "
   ]
  },
  {
   "cell_type": "markdown",
   "metadata": {},
   "source": [
    "### To Summarise: \n",
    "\n",
    "<img style=\"float: left;\" src=\"http://www.lac.inpe.br/~rafael.santos/Docs/R/CAP394/resources/interpret_boxplots.png\" alt=\"Drawing\" style=\"width: 400px;\"/>"
   ]
  },
  {
   "cell_type": "markdown",
   "metadata": {},
   "source": [
    "# 4. Comparing the Box Plot to Other Plots"
   ]
  },
  {
   "cell_type": "markdown",
   "metadata": {},
   "source": [
    "While the Box Plot may be useful for identifying outliers, it hides the number of values existing behind the variable and it may be prudent to study individual points via, for example, the swarmplot used in the Iris Data Set analysis. "
   ]
  },
  {
   "cell_type": "markdown",
   "metadata": {},
   "source": [
    "### Histogram"
   ]
  },
  {
   "cell_type": "markdown",
   "metadata": {},
   "source": [
    "The Box Plot does not show a distribution in much detail. To look at the distribution in greater detail we use a histogram. Below, the petal length appears to be bi-modal (two peaks). The sepal length appears to be multi-modal. \n",
    "\n",
    "A uniform shaped histogram indicates data that is very consistent. "
   ]
  },
  {
   "cell_type": "code",
   "execution_count": 124,
   "metadata": {},
   "outputs": [
    {
     "data": {
      "image/png": "[encoded data removed]",
      "text/plain": [
       "<Figure size 432x288 with 1 Axes>"
      ]
     },
     "metadata": {
      "needs_background": "light"
     },
     "output_type": "display_data"
    }
   ],
   "source": [
    "# plot a histogram\n",
    "x = [df.petal_length] \n",
    "plt.hist(x)\n",
    "plt.show()"
   ]
  },
  {
   "cell_type": "code",
   "execution_count": 125,
   "metadata": {},
   "outputs": [
    {
     "data": {
      "image/png": "[encoded data removed]",
      "text/plain": [
       "<Figure size 432x288 with 1 Axes>"
      ]
     },
     "metadata": {
      "needs_background": "light"
     },
     "output_type": "display_data"
    }
   ],
   "source": [
    "# plot a histogram\n",
    "y = [df.sepal_length] \n",
    "plt.hist(y)\n",
    "plt.show()"
   ]
  },
  {
   "cell_type": "code",
   "execution_count": 126,
   "metadata": {},
   "outputs": [
    {
     "name": "stderr",
     "output_type": "stream",
     "text": [
      "C:\\Users\\user\\Anaconda3\\lib\\site-packages\\scipy\\stats\\stats.py:1713: FutureWarning: Using a non-tuple sequence for multidimensional indexing is deprecated; use `arr[tuple(seq)]` instead of `arr[seq]`. In the future this will be interpreted as an array index, `arr[np.array(seq)]`, which will result either in an error or a different result.\n",
      "  return np.add.reduce(sorted[indexer] * weights, axis=axis) / sumval\n"
     ]
    },
    {
     "data": {
      "text/plain": [
       "[Text(0.5,0,'')]"
      ]
     },
     "execution_count": 126,
     "metadata": {},
     "output_type": "execute_result"
    },
    {
     "data": {
      "image/png": "[encoded data removed]",
      "text/plain": [
       "<Figure size 432x288 with 2 Axes>"
      ]
     },
     "metadata": {
      "needs_background": "light"
     },
     "output_type": "display_data"
    }
   ],
   "source": [
    "# https://python-graph-gallery.com/24-histogram-with-a-boxplot-on-top-seaborn/\n",
    "# Cut the window in 2 parts\n",
    "f, (ax_box, ax_hist) = plt.subplots(2, sharex=True, gridspec_kw={\"height_ratios\": (.15, .85)})\n",
    " \n",
    "# Add a graph in each part\n",
    "sns.boxplot(df[\"petal_length\"], ax=ax_box)\n",
    "sns.distplot(df[\"petal_length\"], ax=ax_hist)\n",
    " \n",
    "# Remove x axis name for the boxplot\n",
    "ax_box.set(xlabel='')\n"
   ]
  },
  {
   "cell_type": "markdown",
   "metadata": {},
   "source": [
    "### Violin Plot"
   ]
  },
  {
   "cell_type": "markdown",
   "metadata": {},
   "source": [
    "Displays density for all data points and is used generally when there is large chunks of data or many observations. Violin plots are closely related to Box Plots but they also add useful information such as the distribution of the sample data (density trace). By default, box plots show data points outside 1.5 * the inter-quartile range as outliers above or below the whiskers whereas violin plots show the whole range of the data."
   ]
  },
  {
   "cell_type": "code",
   "execution_count": 127,
   "metadata": {},
   "outputs": [
    {
     "name": "stderr",
     "output_type": "stream",
     "text": [
      "C:\\Users\\user\\Anaconda3\\lib\\site-packages\\scipy\\stats\\stats.py:1713: FutureWarning: Using a non-tuple sequence for multidimensional indexing is deprecated; use `arr[tuple(seq)]` instead of `arr[seq]`. In the future this will be interpreted as an array index, `arr[np.array(seq)]`, which will result either in an error or a different result.\n",
      "  return np.add.reduce(sorted[indexer] * weights, axis=axis) / sumval\n"
     ]
    },
    {
     "data": {
      "text/plain": [
       "<matplotlib.axes._subplots.AxesSubplot at 0xe146550>"
      ]
     },
     "execution_count": 127,
     "metadata": {},
     "output_type": "execute_result"
    },
    {
     "data": {
      "image/png": "[encoded data removed]",
      "text/plain": [
       "<Figure size 432x288 with 1 Axes>"
      ]
     },
     "metadata": {
      "needs_background": "light"
     },
     "output_type": "display_data"
    }
   ],
   "source": [
    "sns.violinplot(x=\"species\", y=\"petal_width\", data=df, size=6)"
   ]
  },
  {
   "cell_type": "markdown",
   "metadata": {},
   "source": [
    "# References \n",
    "\n",
    "https://matplotlib.org/api/_as_gen/matplotlib.pyplot.boxplot.html\n",
    "***\n",
    "https://en.wikipedia.org/wiki/Box_plot\n",
    "***\n",
    "https://stat.ethz.ch/R-manual/R-devel/library/grDevices/html/boxplot.stats.html\n",
    "***\n",
    "https://www.tandfonline.com/doi/abs/10.1080/00031305.1989.10475612\n",
    "***\n",
    "http://vita.had.co.nz/papers/boxplots.pdf\n",
    "***\n",
    "https://matplotlib.org/gallery/statistics/boxplot_demo.html\n",
    "***\n",
    "https://matplotlib.org/examples/pylab_examples/boxplot_demo.html\n",
    "***\n",
    "http://www.physics.csbsju.edu/stats/box2.html\n",
    "***\n",
    "https://en.wikipedia.org/wiki/Five-number_summary\n",
    "***\n",
    "https://www.itl.nist.gov/div898/handbook/eda/section3/boxplot.htm\n",
    "***\n",
    "https://happygostacie.wordpress.com/2016/04/24/boxplot-fun-with-python/\n",
    "***\n",
    "https://digibio.blogspot.com/2016/09/box-plots-and-connect-by-median.html\n",
    "***\n",
    "https://www.kaggle.com/kmuvunyi/iris-data-visualization\n",
    "***\n",
    "http://python-graph-gallery.com/boxplot/\n",
    "***\n",
    "https://www150.statcan.gc.ca/n1/edu/power-pouvoir/ch12/5214889-eng.htm\n",
    "***\n",
    "https://plot.ly/matplotlib/box-plots/\n",
    "***\n",
    "http://alpha.imag.pub.ro/~rasche/course/patrec/patrec1.pdf\n",
    "***\n",
    "https://matplotlib.org/examples/pylab_examples/boxplot_demo.html\n",
    "***\n",
    "https://matplotlib.org/gallery/statistics/boxplot_demo.html\n",
    "***\n",
    "http://blog.bharatbhole.com/creating-boxplots-with-matplotlib/\n"
   ]
  },
  {
   "cell_type": "markdown",
   "metadata": {},
   "source": [
    "# End"
   ]
  }
 ],
 "metadata": {
  "kernelspec": {
   "display_name": "Python 3",
   "language": "python",
   "name": "python3"
  },
  "language_info": {
   "codemirror_mode": {
    "name": "ipython",
    "version": 3
   },
   "file_extension": ".py",
   "mimetype": "text/x-python",
   "name": "python",
   "nbconvert_exporter": "python",
   "pygments_lexer": "ipython3",
   "version": "3.7.0"
  }
 },
 "nbformat": 4,
 "nbformat_minor": 2
}
