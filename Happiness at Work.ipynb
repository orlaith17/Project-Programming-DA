{
 "cells": [
  {
   "cell_type": "markdown",
   "metadata": {},
   "source": [
    "For this project you must create a data set by simulating a real-world phenomenon of\n",
    "your choosing. You may pick any phenomenon you wish – you might pick one that is\n",
    "of interest to you in your personal or professional life. Then, rather than collect data\n",
    "related to the phenomenon, you should model and synthesise such data using Python.\n",
    "We suggest you use the numpy.random package for this purpose.\n",
    "Specifically, in this project you should:\n",
    "- Choose a real-world phenomenon that can be measured and for which you could collect at least one-hundred data points across at least four different variables.\n",
    "- Investigate the types of variables involved, their likely distributions, and their relationships with each other.\n",
    "- Synthesise/simulate a data set as closely matching their properties as possible.\n",
    "- Detail your research and implement the simulation in a Jupyter notebook – the data set itself can simply be displayed in an output cell within the notebook."
   ]
  },
  {
   "cell_type": "markdown",
   "metadata": {},
   "source": [
    "# 1. Happiness at Work \n",
    "\n",
    "### Real-world Phenomenon with at least one-hundred data points across four variables. \n",
    "\n",
    "![employee happy face](https://www.incimages.com/uploaded_files/image/970x450/getty_175280847_9707219704500142_47976.jpg)\n",
    "\n",
    "There is an assumption that to be successful and paid well in your job will amount to happiness. Happier employees are more productive and organizations try to improve their employees’ happiness with the objective to achieve higher profitability and company value. In fact, a 2015 review of several global studies concluded that happier employees were up to 12% more productive. Basing the project on the figures from the workplace I intend to investigate some contributing factors to happiness in the workplace. "
   ]
  },
  {
   "cell_type": "markdown",
   "metadata": {},
   "source": [
    "### Identify the Variables \n",
    "\n",
    "Some factors affecting your happiness at work may include but not limited to: \n",
    "\n",
    "- Gender \n",
    "- Marital status \n",
    "- Education \n",
    "- Sector \n",
    "- Pay \n",
    "- Hours of Work \n",
    "- Age \n",
    "- Size of Office "
   ]
  },
  {
   "cell_type": "markdown",
   "metadata": {},
   "source": [
    "# 2. Variables \n",
    "\n",
    "### Investigate variables, their likely distributions and relationships with each other"
   ]
  },
  {
   "cell_type": "markdown",
   "metadata": {},
   "source": [
    "<img src=\"http://blog.cloudera.com/wp-content/uploads/2015/12/distribution.png\" alt=\"Drawing\" style=\"width: 500px;\"/>"
   ]
  },
  {
   "cell_type": "markdown",
   "metadata": {},
   "source": [
    "### Explicit/Named Variables\n",
    "\n",
    "Gender \n",
    "- Variable 1: Male\n",
    "- Variable 2: Female\n",
    "- Assumption that there is an equitable distribution of men and women\n",
    "- 50/50 Bernoulli distribution\n",
    "\n",
    "Marital status \n",
    "- Variable 1: Single (30%)\n",
    "- Variable 2: Partnered (70%)\n",
    "- Arbitrary assumption\n",
    "\n",
    "Education \n",
    "- Variable 1: Bachelors (40%)\n",
    "- Variable 2: No Bachelors (40%)\n",
    "- Variable 3: More than a Bachelors (20%)\n",
    "- Assumption based on the amount of third level qualifications from 1991-2016 at the CSO \n",
    "\n",
    "Sector \n",
    "- 35.7% of the employees’ companies are in private sector and closely held\n",
    "- 28.6% in private sector and public held\n",
    "- 29.5% in public sector, and \n",
    "- 6.2% in charity or non-profits. \n",
    "- 2014 US Happiness @ Work survey\n",
    "\n",
    "Size of Business \n",
    "- Micro <10 (20%)\n",
    "- Small-Medium 10-250 (60%)\n",
    "- Large 250+ (20%)\n",
    "- Assumption based on OECD Statistic shows that SMEs account for 60-70% of the workforce\n",
    "- This could have also been considered as a sliding scale variable with normal distribution peaking somewhere in the middle of the SMEs. \n",
    "\n",
    "### Sliding Scale Variables\n",
    "\n",
    "Pay (€)\n",
    "- Minimum: €18,041 (minimum wage in Ireland)\n",
    "- Mean: €45,611 is the mean wage based on 2016 CSO figures\n",
    "- Standard Deviation: €15,000 (Assumption)\n",
    "\n",
    "Hours of Work (hrs)\n",
    "- Mean: 39 hours based on CSO statistic\n",
    "- Maximum: 48 (Irish legislation)\n",
    "\n",
    "Age (yrs)\n",
    "- Range: 17-65 \n",
    "- Median: 42.3 years based on a US Age Demographic of workforce\n",
    "\n",
    "#### For the purposes of the Project, we will look at (i) Gender, (ii) Education, (iii) Pay, (iv) Hours of Work and (v) Age variables\n",
    "\n",
    "\n",
    "Gender and marital status may determine if work-life balance is possible when starting children\n",
    "Good education may lead to a better job\n",
    "Some sectors are high pressure environments leading to stress\n",
    "Less hours and more pay should have a positive impact on your happiness \n",
    "Maybe work gets easier as you climb the ladder and get older\n",
    "Size of office may be capable of offering more benefits to its employees but also lacking in personability"
   ]
  },
  {
   "cell_type": "code",
   "execution_count": 131,
   "metadata": {},
   "outputs": [],
   "source": [
    "# Import numpy as np\n",
    "import numpy as np\n",
    "\n",
    "# import matplot\n",
    "import matplotlib.pyplot as plt\n",
    "\n",
    "#Use the 'inline' backend, so that the matplotlib graphs are included in notebook, next to the code\n",
    "%matplotlib inline\n",
    "\n",
    "# Import pandas\n",
    "import pandas as pd\n",
    "\n",
    "# import seaborn \n",
    "import seaborn as sns"
   ]
  },
  {
   "cell_type": "code",
   "execution_count": 132,
   "metadata": {},
   "outputs": [
    {
     "data": {
      "text/plain": [
       "array([1, 0, 0, 1, 1, 0, 1, 1, 0, 1, 0, 0, 0, 0, 0, 1, 1, 1, 0, 1, 0, 0,\n",
       "       0, 1, 1, 1, 0, 1, 1, 1, 1, 0, 1, 1, 0, 0, 1, 1, 1, 1, 1, 1, 0, 0,\n",
       "       1, 0, 0, 1, 0, 1, 1, 0, 1, 1, 1, 1, 0, 0, 1, 0, 1, 1, 1, 1, 1, 0,\n",
       "       1, 1, 1, 1, 1, 0, 1, 0, 1, 0, 1, 1, 1, 1, 1, 1, 1, 0, 0, 0, 0, 1,\n",
       "       0, 0, 0, 1, 1, 1, 0, 1, 0, 1, 1, 1, 1, 0, 0, 1, 0, 0, 0, 1, 0, 0,\n",
       "       0, 0, 1, 1, 1, 1, 0, 0, 0, 0, 0, 0, 0, 0, 1, 1, 0, 1, 1, 0, 1, 0,\n",
       "       1, 0, 1, 1, 0, 1, 0, 1, 0, 1, 0, 1, 0, 0, 1, 0, 0, 1, 0, 0, 1, 1,\n",
       "       0, 1, 1, 1, 1, 1, 0, 0, 1, 1, 0, 0, 1, 1, 0, 1, 0, 0, 0, 0, 0, 0,\n",
       "       1, 0, 0, 1, 1, 0, 1, 1, 0, 0, 1, 0, 0, 1, 0, 1, 1, 0, 0, 0, 0, 1,\n",
       "       0, 0])"
      ]
     },
     "execution_count": 132,
     "metadata": {},
     "output_type": "execute_result"
    }
   ],
   "source": [
    "# Gender \n",
    "\n",
    "# Set the seed to generate numbers from\n",
    "np.random.seed(135) \n",
    "\n",
    "# Random sample of Gender - either male or female - from a sample of 200\n",
    "Gender = np.random.binomial(1, 0.5, 200) \n",
    "Gender"
   ]
  },
  {
   "cell_type": "code",
   "execution_count": 133,
   "metadata": {},
   "outputs": [
    {
     "data": {
      "text/plain": [
       "200"
      ]
     },
     "execution_count": 133,
     "metadata": {},
     "output_type": "execute_result"
    }
   ],
   "source": [
    "len (Gender)"
   ]
  },
  {
   "cell_type": "code",
   "execution_count": 134,
   "metadata": {},
   "outputs": [
    {
     "data": {
      "image/png": "[encoded data removed]",
      "text/plain": [
       "<Figure size 432x288 with 1 Axes>"
      ]
     },
     "metadata": {
      "needs_background": "light"
     },
     "output_type": "display_data"
    }
   ],
   "source": [
    "plt.hist(Gender)\n",
    "plt.show()"
   ]
  },
  {
   "cell_type": "code",
   "execution_count": 135,
   "metadata": {},
   "outputs": [
    {
     "data": {
      "image/png": "[encoded data removed]",
      "text/plain": [
       "<Figure size 432x288 with 1 Axes>"
      ]
     },
     "metadata": {
      "needs_background": "light"
     },
     "output_type": "display_data"
    }
   ],
   "source": [
    "# Marital Status \n",
    "\n",
    "# Set the seed to generate numbers from\n",
    "np.random.seed(50) \n",
    "\n",
    "# Random sample of Marital Status - either single or married - from a sample of 200\n",
    "MS = np.random.binomial(1, 0.7, 200) \n",
    "plt.hist(MS)\n",
    "plt.show()"
   ]
  },
  {
   "cell_type": "code",
   "execution_count": 136,
   "metadata": {},
   "outputs": [],
   "source": [
    "# Education \n",
    "\n",
    "# Set the seed to generate numbers from\n",
    "np.random.seed(55) \n",
    "\n",
    "# Bachelors, No Bachelors, More than a Bachelors\n",
    "# (mean, standard deviation, size), rounded to one decimal place\n"
   ]
  },
  {
   "cell_type": "code",
   "execution_count": 169,
   "metadata": {},
   "outputs": [
    {
     "data": {
      "text/plain": [
       "array([28113.29, 31467.82, 48970.99, 24913.76, 17478.7 , 50398.09,\n",
       "       44709.07, 41122.11, 37340.89, 26280.65, 27897.93, 30127.3 ,\n",
       "       60143.89, 37680.67, 30585.31, 39512.38, 48999.84, 40132.48,\n",
       "       42939.53, 37907.14, 39981.43, 15221.32, 37044.39, 34696.07,\n",
       "       50451.9 , 46764.98, 45728.61, 29535.63, 37713.9 , 42470.82,\n",
       "       37288.62,  9198.57, 29943.05, 48525.12, 41191.52, 26360.25,\n",
       "       49411.46, 43243.43, 37934.91, 42618.6 , 57080.46, 34287.12,\n",
       "       48519.68, 46652.45, 45613.4 , 37593.98, 27358.9 , 16016.52,\n",
       "       20712.94, 33665.62, 37623.16, 45145.04, 47143.74, 42177.86,\n",
       "       19568.31, 36400.46, 45943.09, 31003.73, 18273.24, 31157.69,\n",
       "       51293.75, 53550.84, 55869.56, 36780.53, 30903.22, 62241.28,\n",
       "       52220.3 , 32374.3 , 36581.44, 33892.37, 54355.2 , 37773.99,\n",
       "       49649.41, 37068.79, 54012.03, 48885.59, 43057.97, 57557.53,\n",
       "       33052.71, 33421.3 , 35667.98, 22694.85, 44766.02, 35043.83,\n",
       "       31989.33, 33122.53, 47189.34, 42109.87, 36259.59, 21317.8 ,\n",
       "       26007.68, 42074.09, 37946.51, 41172.82, 24565.48, 27189.6 ,\n",
       "       41489.59, 53664.75, 47974.  , 32304.72, 21156.48, 59011.77,\n",
       "       43628.72, 52475.43, 22298.33, 34847.23, 49352.34, 35083.49,\n",
       "       38991.81, 26435.09, 33225.03, 42573.26, 26730.39, 44834.18,\n",
       "       23952.83, 33421.09, 35501.95, 26603.62, 43715.34, 27151.72,\n",
       "       25275.7 , 42984.62, 41841.76, 55405.18, 26101.06, 32032.03,\n",
       "       63683.93, 28467.41, 50896.84, 35878.13, 27494.13, 37045.51,\n",
       "       34481.78, 20865.85, 24647.41, 24859.86, 51385.41, 26233.65,\n",
       "       39714.44, 51720.67, 35849.5 , 52167.07, 31002.54, 30314.64,\n",
       "       26199.04, 28989.61, 23619.91, 40174.91, 28690.38, 44634.54,\n",
       "       46114.62, 40973.3 , 34890.53, 34069.63, 32072.09, 37534.42,\n",
       "       25503.83, 32775.6 , 32913.51, 42542.03, 55327.57, 51355.75,\n",
       "       15090.56, 56685.33, 38897.  , 26568.99, 37028.47, 30377.72,\n",
       "       32062.99, 41078.58, 54603.61, 39144.89, 42689.21, 38782.18,\n",
       "       44896.05, 31966.7 , 25403.43, 36922.17, 34562.74, 25885.27,\n",
       "       26396.94, 29696.29, 46316.52, 36575.68, 35560.78, 33280.78,\n",
       "       50295.51, 24038.4 , 26276.47, 48383.31, 33634.32, 37144.17,\n",
       "       24594.73, 29179.63, 47970.59, 37708.28, 35992.67, 44476.23,\n",
       "       30232.3 , 42013.83])"
      ]
     },
     "execution_count": 169,
     "metadata": {},
     "output_type": "execute_result"
    }
   ],
   "source": [
    "# Pay\n",
    "\n",
    "# Set the seed to generate numbers from\n",
    "np.random.seed(60) \n",
    "\n",
    "# (mean, standard deviation, size), rounded to one decimal place\n",
    "Pay = np.random.normal(37331, 10000, 200).round(2)\n",
    "Pay"
   ]
  },
  {
   "cell_type": "code",
   "execution_count": 138,
   "metadata": {},
   "outputs": [
    {
     "data": {
      "text/plain": [
       "array([48.51, 41.78, 31.47, 35.56, 37.97, 51.01,  9.65, 35.85, 26.57,\n",
       "       32.27, 23.25, 48.05, 35.05, 34.96, 34.04, 43.74, 44.13, 38.16,\n",
       "       46.52, 50.75, 27.15, 27.39, 70.9 , 27.62, 34.58, 45.21, 32.15,\n",
       "       26.34, 39.12, 43.08, 25.83, 39.24, 46.98, 33.75, 32.87, 30.05,\n",
       "       38.14, 13.32, 36.7 , 37.08, 38.56, 30.42, 62.69, 46.64, 48.99,\n",
       "       36.34, 44.63, 40.8 , 36.55, 49.64, 49.71, 32.04, 47.85, 43.07,\n",
       "       51.07, 46.69, 47.47, 37.89, 39.59, 35.86, 32.4 , 30.04, 27.51,\n",
       "       35.24, 36.92, 34.39, 41.01, 31.9 , 40.05, 61.51, 40.22, 37.37,\n",
       "       47.73, 50.62, 43.82, 37.12, 41.29, 44.13, 47.82, 42.07, 48.88,\n",
       "       42.15, 18.01, 38.4 , 32.85, 45.86, 45.83, 36.49, 56.52, 24.15,\n",
       "       21.88, 49.68, 46.06, 47.73, 13.31, 58.53, 42.38, 31.54, 37.33,\n",
       "       34.56, 47.17, 50.46, 33.21, 28.92, 45.21, 33.36, 26.9 , 41.02,\n",
       "       61.66, 31.79, 21.72, 37.39, 32.06, 44.8 , 30.6 , 44.54, 23.12,\n",
       "       47.83, 28.43, 49.61, 41.34, 62.19, 37.51, 43.57, 59.43, 27.  ,\n",
       "       49.67, 39.72, 50.62, 36.05, 38.06, 40.62, 50.8 , 34.88, 41.91,\n",
       "       36.54, 62.65, 56.79, 23.14, 37.88, 37.07, 17.6 , 32.95, 39.61,\n",
       "       58.27, 37.11, 44.59, 26.88, 37.47, 46.43, 42.21, 33.14, 35.94,\n",
       "       35.12, 38.52, 68.6 , 59.05, 37.76, 30.9 , 55.52, 38.41, 43.83,\n",
       "       37.34, 30.24, 54.66, 44.79, 30.92, 40.21, 37.26, 35.23, 35.34,\n",
       "       38.15, 30.67, 26.85, 51.48, 26.57, 55.28, 47.55, 27.41, 43.2 ,\n",
       "       53.4 , 20.94, 65.9 , 53.28, 45.55, 51.6 , 44.99, 35.45, 39.99,\n",
       "       27.39, 42.31, 39.86, 42.56, 36.13, 34.61, 31.65, 41.5 , 32.4 ,\n",
       "       56.8 , 33.37])"
      ]
     },
     "execution_count": 138,
     "metadata": {},
     "output_type": "execute_result"
    }
   ],
   "source": [
    "# Hours at Work\n",
    "\n",
    "# Set the seed to generate numbers from\n",
    "np.random.seed(70) \n",
    "\n",
    "# (mean, standard deviation, size), rounded to one decimal place\n",
    "Hours = np.random.normal(40, 10, 200).round(2) \n",
    "Hours"
   ]
  },
  {
   "cell_type": "code",
   "execution_count": 139,
   "metadata": {},
   "outputs": [
    {
     "data": {
      "image/png": "[encoded data removed]",
      "text/plain": [
       "<Figure size 432x288 with 1 Axes>"
      ]
     },
     "metadata": {
      "needs_background": "light"
     },
     "output_type": "display_data"
    },
    {
     "data": {
      "text/plain": [
       "array([56., 30., 33., 49., 28., 42., 36., 56., 45., 44., 41., 61., 46.,\n",
       "       48., 63., 35., 58., 24., 40., 28., 44., 22., 32., 48., 46., 34.,\n",
       "       44., 26., 50., 54., 61., 61., 41., 65., 42., 51., 20., 43., 38.,\n",
       "       46., 53., 50., 41., 62., 25., 37., 30., 28., 41., 40., 42., 25.,\n",
       "       57., 29., 44., 35., 28., 54., 54., 21., 42., 63., 39., 36., 29.,\n",
       "       39., 61., 63., 54., 22., 60., 26., 33., 22., 60., 34., 25., 44.,\n",
       "       53., 45., 54., 32., 45., 63., 24., 61., 23., 24., 55., 35., 45.,\n",
       "       36., 18., 34., 52., 46., 24., 37., 59., 32., 62., 64., 18., 36.,\n",
       "       26., 19., 31., 47., 50., 45., 47., 61., 30., 54., 30., 26., 56.,\n",
       "       33., 18., 39., 34., 51., 57., 62., 57., 36., 43., 49., 44., 37.,\n",
       "       52., 26., 34., 34., 64., 40., 33., 26., 51., 30., 48., 36., 26.,\n",
       "       40., 42., 34., 28., 54., 26., 45., 35., 34., 38., 56., 36., 41.,\n",
       "       33., 46., 31., 47., 34., 42., 43., 34., 52., 41., 46., 35., 28.,\n",
       "       45., 36., 50., 30., 35., 17., 42., 60., 35., 50., 52., 48., 53.,\n",
       "       56., 38., 48., 23., 48., 38., 54., 50., 36., 55., 28., 38., 45.,\n",
       "       42., 33., 41., 37., 29., 27., 37., 35., 59., 41., 33., 27., 41.,\n",
       "       60., 41., 49., 47., 59., 33., 47., 41., 30., 41., 44., 44., 41.,\n",
       "       44., 32., 23., 37., 42., 47., 36., 32., 35., 27., 46., 51., 35.,\n",
       "       37., 29., 38., 45., 22., 39., 45., 28., 41., 30., 42., 37., 44.,\n",
       "       29., 55., 40.])"
      ]
     },
     "execution_count": 139,
     "metadata": {},
     "output_type": "execute_result"
    }
   ],
   "source": [
    "# Set the seed to generate numbers from\n",
    "np.random.seed(45) \n",
    "\n",
    "# https://stackoverflow.com/questions/36537811/numpy-trapezoidal-distribution-for-age-distribution\n",
    "\n",
    "def agedistro(turn,end,size):\n",
    "    pass\n",
    "    totarea = turn + (end-turn)/2  # e.g. 50 + (90-50)/2\n",
    "    areauptoturn = turn             # say 50\n",
    "    areasloped = (end-turn)/2     # (90-50)/2\n",
    "    size1= int(size*areauptoturn/totarea)\n",
    "    size2= size- size1 \n",
    "    s1 = np.random.uniform(low=0,high=turn,size= size1)  # (low=0.0, high=1.0, size=None)\n",
    "    s2 = np.random.triangular(left=turn,mode=turn,right=end,size=size2) #(left, mode, right, size=None)\n",
    "            # mode : scalar-  the value where the peak of the distribution occurs. \n",
    "            #The value should fulfill the condition left <= mode <= right.\n",
    "    s3= np.concatenate((s1,s2)) # don't use add , it will add the numbers piecewise\n",
    "    return s3\n",
    "\n",
    "\n",
    "\n",
    "s3=agedistro(turn=50,end=90,size=1000000)    \n",
    "plt.hist(s3,bins=50)\n",
    "plt.show()\n",
    "\n",
    "\n",
    "Age1 = np.random.uniform(17,65,125)  # (low, high, size)\n",
    "Age2 = np.random.triangular(17,37,65,125) # (left, mode, right, size)\n",
    "Age = np.concatenate((Age1,Age2)) # Concatenating the distributions\n",
    "\n",
    "Age.round(0)"
   ]
  },
  {
   "cell_type": "code",
   "execution_count": 140,
   "metadata": {},
   "outputs": [
    {
     "data": {
      "image/png": "[encoded data removed]",
      "text/plain": [
       "<Figure size 432x288 with 1 Axes>"
      ]
     },
     "metadata": {
      "needs_background": "light"
     },
     "output_type": "display_data"
    }
   ],
   "source": [
    "bins = np.linspace(0, 70, 30) # linspace returns evenly spaced numbers over a specified interval\n",
    "plt.hist([Age1, Age2], bins, label=['Age1', 'Age2']) # Adding distribution samples and labelling them\n",
    "plt.legend(loc='upper left') # Legend location\n",
    "plt.ylabel('Frequency') # labelling y axis\n",
    "plt.xlabel('Age') # labelling x axis \n",
    "plt.title('Student age') # Adding title\n",
    "\n",
    "plt.show()"
   ]
  },
  {
   "cell_type": "markdown",
   "metadata": {},
   "source": [
    "# 3. Synthesise/simulate a data set \n",
    "\n",
    "Create a dataframe in pandas\n",
    "\n",
    "we should be capable to prepare the dataframe but that your research analysis will show your understanding of that information created\n",
    "\n",
    "use a seed to generate the numbers"
   ]
  },
  {
   "cell_type": "code",
   "execution_count": 141,
   "metadata": {},
   "outputs": [],
   "source": [
    "import pandas as pd"
   ]
  },
  {
   "cell_type": "code",
   "execution_count": 142,
   "metadata": {},
   "outputs": [],
   "source": [
    "# load Numpy\n",
    "import numpy as np\n",
    "\n",
    "# load Matplotlib for plotting\n",
    "import matplotlib.pyplot as plt\n",
    "% matplotlib inline"
   ]
  },
  {
   "cell_type": "code",
   "execution_count": 143,
   "metadata": {},
   "outputs": [
    {
     "data": {
      "text/html": [
       "<div>\n",
       "<style scoped>\n",
       "    .dataframe tbody tr th:only-of-type {\n",
       "        vertical-align: middle;\n",
       "    }\n",
       "\n",
       "    .dataframe tbody tr th {\n",
       "        vertical-align: top;\n",
       "    }\n",
       "\n",
       "    .dataframe thead th {\n",
       "        text-align: right;\n",
       "    }\n",
       "</style>\n",
       "<table border=\"1\" class=\"dataframe\">\n",
       "  <thead>\n",
       "    <tr style=\"text-align: right;\">\n",
       "      <th></th>\n",
       "      <th>name</th>\n",
       "      <th>age</th>\n",
       "      <th>favorite_color</th>\n",
       "      <th>test_one</th>\n",
       "      <th>test_two</th>\n",
       "    </tr>\n",
       "  </thead>\n",
       "  <tbody>\n",
       "    <tr>\n",
       "      <th>0</th>\n",
       "      <td>Willard Morris</td>\n",
       "      <td>20</td>\n",
       "      <td>blue</td>\n",
       "      <td>88</td>\n",
       "      <td>78</td>\n",
       "    </tr>\n",
       "    <tr>\n",
       "      <th>1</th>\n",
       "      <td>Al Jennings</td>\n",
       "      <td>19</td>\n",
       "      <td>blue</td>\n",
       "      <td>92</td>\n",
       "      <td>100</td>\n",
       "    </tr>\n",
       "    <tr>\n",
       "      <th>2</th>\n",
       "      <td>Omar Mullins</td>\n",
       "      <td>22</td>\n",
       "      <td>yellow</td>\n",
       "      <td>95</td>\n",
       "      <td>90</td>\n",
       "    </tr>\n",
       "    <tr>\n",
       "      <th>3</th>\n",
       "      <td>Spencer McDaniel</td>\n",
       "      <td>21</td>\n",
       "      <td>green</td>\n",
       "      <td>70</td>\n",
       "      <td>85</td>\n",
       "    </tr>\n",
       "  </tbody>\n",
       "</table>\n",
       "</div>"
      ],
      "text/plain": [
       "               name  age favorite_color  test_one  test_two\n",
       "0    Willard Morris   20           blue        88        78\n",
       "1       Al Jennings   19           blue        92       100\n",
       "2      Omar Mullins   22         yellow        95        90\n",
       "3  Spencer McDaniel   21          green        70        85"
      ]
     },
     "execution_count": 143,
     "metadata": {},
     "output_type": "execute_result"
    }
   ],
   "source": [
    "raw_data = {'name': ['Willard Morris', 'Al Jennings', 'Omar Mullins', 'Spencer McDaniel'],\n",
    "                      'age': [20, 19, 22, 21],\n",
    "                      'favorite_color': ['blue', 'blue', 'yellow', \"green\"],\n",
    "                      'test_one': [88, 92, 95, 70],\n",
    "                      'test_two': [78, 100, 90, 85]}\n",
    "df = pd.DataFrame(raw_data)\n",
    "df"
   ]
  },
  {
   "cell_type": "markdown",
   "metadata": {},
   "source": [
    "What you can do is create a set of 'allowed values' in a list, say:\n",
    "\n",
    "allowed_names = ['Patrick', 'Joe', 'John', etc etc]\n",
    "\n",
    "Then you can create your list of names using the np.random.choice() function to draw samples from this as follows:\n",
    "\n",
    "my_names = [np.random.choice(allowed_names) for i in range(100)]\n",
    "\n",
    "my_names is a list of 100 names drawn from the allowed values - each with equal chance of being drawn - if you check out the np.random.choice() documentation it covers how to load the selections and give more weighting to particular values,\n",
    "\n",
    "\n",
    "\n",
    " linking two variables is exactly one of the challenges I imagined students would discover while completing the project. You might have a look at something like this: https://erikrood.com/Python_References/create_new_col_pandas.html"
   ]
  },
  {
   "cell_type": "markdown",
   "metadata": {},
   "source": [
    "# 4. Detail your research and implement the simulation "
   ]
  },
  {
   "cell_type": "markdown",
   "metadata": {},
   "source": [
    "# 2. Explain the use of the “Simple random data” and “Permutations” functions."
   ]
  },
  {
   "cell_type": "markdown",
   "metadata": {},
   "source": [
    "## (i) Simple Random Data\n",
    "\n",
    "(standard and normal are generally the same so there is no need to go into great detail on both)\n",
    "![numpy graph](https://docs.scipy.org/doc/numpy-1.15.0/_images/numpy-random-normal-1.png) "
   ]
  },
  {
   "cell_type": "markdown",
   "metadata": {},
   "source": [
    "In statistics, a simple random sample is a subset of individuals (a sample) chosen from a larger set (a population). Each individual is chosen randomly and entirely by chance, such that each individual has the same probability of being chosen at any stage during the sampling process, and each subset of k individuals has the same probability of being chosen for the sample as any other subset of k individuals. This process and technique is known as simple random sampling, and should not be confused with systematic random sampling. A simple random sample is an unbiased surveying technique.\n",
    "\n",
    "Simple random sampling is a basic type of sampling, since it can be a component of other more complex sampling methods. The principle of simple random sampling is that every object has the same probability of being chosen, e.g. winning the Lottery or a raffle. \n",
    "\n",
    "Simple random sampling refers to a sampling method that has the following properties: \n",
    "- The population consists of N objects.\n",
    "- The sample consists of n objects.\n",
    "- All possible samples of n objects are equally likely to occur.\n",
    "\n",
    "An important benefit of simple random sampling is that it allows researchers to use statistical methods to analyze sample results. \n",
    "\n",
    "The Simple Random Data functions in Numpy.random generate random numbers and number sets for a given distribution. "
   ]
  },
  {
   "cell_type": "code",
   "execution_count": 144,
   "metadata": {
    "scrolled": true
   },
   "outputs": [
    {
     "data": {
      "text/plain": [
       "array([[0.09956234, 0.32005545, 0.34982015],\n",
       "       [0.67560786, 0.33571588, 0.05886679],\n",
       "       [0.68553462, 0.23714382, 0.4989081 ],\n",
       "       [0.46009845, 0.04126036, 0.51127124]])"
      ]
     },
     "execution_count": 144,
     "metadata": {},
     "output_type": "execute_result"
    }
   ],
   "source": [
    "np.random.rand(4,3)\n",
    "\n",
    "# rand function is between [0, 1). [0 includes 0, 1) excludes 1\n",
    "# returns random values in a given shape"
   ]
  },
  {
   "cell_type": "code",
   "execution_count": 145,
   "metadata": {},
   "outputs": [
    {
     "data": {
      "text/plain": [
       "0.08703130243893675"
      ]
     },
     "execution_count": 145,
     "metadata": {},
     "output_type": "execute_result"
    }
   ],
   "source": [
    "np.random.rand()\n",
    "# returns one value when left blank"
   ]
  },
  {
   "cell_type": "code",
   "execution_count": 146,
   "metadata": {},
   "outputs": [
    {
     "data": {
      "text/plain": [
       "array([0.53873351, 0.31076947, 0.62237671, ..., 0.04822847, 0.24519502,\n",
       "       0.74115565])"
      ]
     },
     "execution_count": 146,
     "metadata": {},
     "output_type": "execute_result"
    }
   ],
   "source": [
    "# returns 10000 random numbers between 0 and 1\n",
    "x = np.random.rand(10000)\n",
    "x"
   ]
  },
  {
   "cell_type": "code",
   "execution_count": 147,
   "metadata": {},
   "outputs": [
    {
     "data": {
      "text/plain": [
       "(array([1016.,  972., 1015., 1037.,  992.,  974., 1010.,  960.,  982.,\n",
       "        1042.]),\n",
       " array([1.67083649e-04, 1.00141033e-01, 2.00114982e-01, 3.00088932e-01,\n",
       "        4.00062881e-01, 5.00036830e-01, 6.00010779e-01, 6.99984729e-01,\n",
       "        7.99958678e-01, 8.99932627e-01, 9.99906577e-01]),\n",
       " <a list of 10 Patch objects>)"
      ]
     },
     "execution_count": 147,
     "metadata": {},
     "output_type": "execute_result"
    },
    {
     "data": {
      "image/png": "[encoded data removed]",
      "text/plain": [
       "<Figure size 432x288 with 1 Axes>"
      ]
     },
     "metadata": {
      "needs_background": "light"
     },
     "output_type": "display_data"
    }
   ],
   "source": [
    "# result is a fairly even distribution of numbers\n",
    "plt.hist (x)"
   ]
  },
  {
   "cell_type": "code",
   "execution_count": 148,
   "metadata": {},
   "outputs": [
    {
     "data": {
      "text/plain": [
       "array([6.19611824, 6.71658031, 6.44971011, 6.76269091, 7.45929728,\n",
       "       5.87412392, 5.47732863, 5.54996518, 5.54313153, 6.52152233])"
      ]
     },
     "execution_count": 148,
     "metadata": {},
     "output_type": "execute_result"
    }
   ],
   "source": [
    "# .rand gives you numbers from 0-1 whereas .uniform lets you define the numbers\n",
    "\n",
    "np.random.uniform(5,8,10)\n",
    "# 10 generated random numbers between 5 a"
   ]
  },
  {
   "cell_type": "code",
   "execution_count": 149,
   "metadata": {},
   "outputs": [],
   "source": [
    "y = np.random.uniform(5,8,10)"
   ]
  },
  {
   "cell_type": "code",
   "execution_count": 150,
   "metadata": {},
   "outputs": [
    {
     "data": {
      "text/plain": [
       "(array([3., 2., 0., 0., 1., 0., 0., 0., 3., 1.]),\n",
       " array([5.22778283, 5.48448059, 5.74117834, 5.9978761 , 6.25457385,\n",
       "        6.51127161, 6.76796937, 7.02466712, 7.28136488, 7.53806264,\n",
       "        7.79476039]),\n",
       " <a list of 10 Patch objects>)"
      ]
     },
     "execution_count": 150,
     "metadata": {},
     "output_type": "execute_result"
    },
    {
     "data": {
      "image/png": "[encoded data removed]",
      "text/plain": [
       "<Figure size 432x288 with 1 Axes>"
      ]
     },
     "metadata": {
      "needs_background": "light"
     },
     "output_type": "display_data"
    }
   ],
   "source": [
    "plt.hist (y)"
   ]
  },
  {
   "cell_type": "code",
   "execution_count": 151,
   "metadata": {},
   "outputs": [
    {
     "data": {
      "text/plain": [
       "array([ 0.43044299,  1.60310587,  0.33596298, -0.03367112, -1.86528119,\n",
       "       -0.11528018, -1.95456661, -0.86353005, -0.86019835,  0.80315243,\n",
       "        0.66607058])"
      ]
     },
     "execution_count": 151,
     "metadata": {},
     "output_type": "execute_result"
    }
   ],
   "source": [
    "# Return a sample (or samples) from the “standard normal” distribution\n",
    "np.random.randn(11)"
   ]
  },
  {
   "cell_type": "code",
   "execution_count": 152,
   "metadata": {},
   "outputs": [
    {
     "data": {
      "text/plain": [
       "(array([1., 0., 0., 0., 1., 3., 3., 1., 1., 1.]),\n",
       " array([-2.29434527, -1.84308595, -1.39182664, -0.94056733, -0.48930802,\n",
       "        -0.03804871,  0.4132106 ,  0.86446991,  1.31572922,  1.76698853,\n",
       "         2.21824785]),\n",
       " <a list of 10 Patch objects>)"
      ]
     },
     "execution_count": 152,
     "metadata": {},
     "output_type": "execute_result"
    },
    {
     "data": {
      "image/png": "[encoded data removed]",
      "text/plain": [
       "<Figure size 432x288 with 1 Axes>"
      ]
     },
     "metadata": {
      "needs_background": "light"
     },
     "output_type": "display_data"
    }
   ],
   "source": [
    "plt.hist(np.random.randn(11))"
   ]
  },
  {
   "cell_type": "code",
   "execution_count": 153,
   "metadata": {},
   "outputs": [
    {
     "data": {
      "text/plain": [
       "9"
      ]
     },
     "execution_count": 153,
     "metadata": {},
     "output_type": "execute_result"
    }
   ],
   "source": [
    "# Generates a random sample from a given 1-D array\n",
    "# generates an integer between 0 and 10\n",
    "np.random.choice(11)"
   ]
  },
  {
   "cell_type": "markdown",
   "metadata": {},
   "source": [
    "## (ii) Permutations\n",
    "\n",
    "There are only two functions in the Permutations category of numpy.random; shuffle and permutation. \n",
    "\n",
    "A permutation is an arrangement of all or part of a set of objects, with regard to the order of the arrangement. For example, suppose we have a set of three letters: A, B, and C. We might ask how many ways we can arrange 2 letters from that set. \n",
    "\n",
    "Note the distinction between a permutation and a combination . A combination focuses on the selection of objects without regard to the order in which they are selected. A permutation, in contrast, focuses on the arrangement of objects with regard to the order in which they are arranged. \n",
    "\n",
    "The permutation function is distinct from shuffle since shuffle modifies the sequence of numbers whereas permutation modifies the sequence of numbers and returns a value/string. \n",
    "\n",
    "Parameters\n",
    "- n distinct objects taken r at a time"
   ]
  },
  {
   "cell_type": "code",
   "execution_count": 154,
   "metadata": {},
   "outputs": [
    {
     "data": {
      "text/plain": [
       "array([3, 9, 1, 4, 6, 8, 0, 7, 5, 2])"
      ]
     },
     "execution_count": 154,
     "metadata": {},
     "output_type": "execute_result"
    }
   ],
   "source": [
    "# shuffle(x)\n",
    "# Modify a sequence in-place by shuffling its contents.\n",
    "\n",
    "# string of numbers 0-9\n",
    "arr = np.arange(10)\n",
    "# puts the string of numbers 0-9 in a random order\n",
    "np.random.shuffle(arr)\n",
    "# returns arr\n",
    "arr\n"
   ]
  },
  {
   "cell_type": "code",
   "execution_count": 155,
   "metadata": {},
   "outputs": [
    {
     "data": {
      "text/plain": [
       "array([9, 1, 2, 5, 0, 7, 4, 3, 6, 8])"
      ]
     },
     "execution_count": 155,
     "metadata": {},
     "output_type": "execute_result"
    }
   ],
   "source": [
    "# permutation(x)\n",
    "# Randomly permute a sequence, or return a permuted range.\n",
    "\n",
    "# as above returns the string of numbers 0-9 in a random order with one line of code\n",
    "np.random.permutation(10)\n"
   ]
  },
  {
   "cell_type": "markdown",
   "metadata": {},
   "source": [
    "# 3. Explain the use and purpose of at least five “Distributions” functions."
   ]
  },
  {
   "cell_type": "markdown",
   "metadata": {},
   "source": [
    "Probability distributions describe what we think the probability of each outcome is, which is sometimes more interesting to know than simply which single outcome is most likely. They come in many shapes, but in only one size: probabilities in a distribution always add up to 1."
   ]
  },
  {
   "cell_type": "markdown",
   "metadata": {},
   "source": [
    "## (i) Bernoulli / Binomial\n",
    "### \"Unfair coin toss\"\n",
    "\n",
    "A distribution over 0 and 1, over 0 heads (i.e. tails) or 1 heads. Both outcomes are equally likely, and that’s what’s illustrated in the diagram. The Bernoulli PDF has two lines of equal height, representing the two equally-probable outcomes of 0 and 1 at either end.\n",
    "\n",
    "The Bernoulli distribution could represent outcomes that aren’t equally likely, like the result of an unfair coin toss. Then, the probability of heads is not 0.5, but some other value p, and the probability of tails is 1-p. \n",
    "\n",
    "If you pass n=1 to the Binomial distribution it is equivalent to the Bernoulli distribution. In this case the function could be thought of simulating coin flips. \n",
    "\n",
    "Parameters:\n",
    "- Trials\n",
    "- Probability\n",
    "- Size\n",
    "\n",
    "A Binomially distributed random variable has two parameters n and p, and can be thought of as the distribution of the number of heads obtained when flipping a biased coin n times, where the probability of getting a head at each flip is p."
   ]
  },
  {
   "cell_type": "code",
   "execution_count": 156,
   "metadata": {},
   "outputs": [
    {
     "data": {
      "text/plain": [
       "array([1, 3, 2, 3, 1, 0, 0, 2, 0, 0, 1, 0, 1, 0, 0, 3, 1, 1, 0, 1, 1, 1,\n",
       "       1, 1, 0, 0, 1, 2, 0, 1])"
      ]
     },
     "execution_count": 156,
     "metadata": {},
     "output_type": "execute_result"
    }
   ],
   "source": [
    "n, p = 10, .1  # number of trials, probability of each trial\n",
    "s = np.random.binomial(n, p, 30)\n",
    "# result of flipping a coin 10 times, tested 30 times.\n",
    "s"
   ]
  },
  {
   "cell_type": "code",
   "execution_count": 157,
   "metadata": {},
   "outputs": [
    {
     "data": {
      "text/plain": [
       "0.03964"
      ]
     },
     "execution_count": 157,
     "metadata": {},
     "output_type": "execute_result"
    }
   ],
   "source": [
    "# 9 trial holes on land by sea. Estimated probability of good soil of 0.3. All trial holes are waterlogged sandy soil. What is the probability of that happening?\n",
    "# Let’s do 200,000 trials of the model, and count the number that generate zero positive results.\n",
    "\n",
    "sum(np.random.binomial(9, 0.3, 200000) == 0)/200000\n",
    "# answer = 0.04, or 4%."
   ]
  },
  {
   "cell_type": "markdown",
   "metadata": {},
   "source": [
    "#### Bernoulli trials are experiments with one of two outcomes: success or failure, e.g. flipping a coin. The geometric distribution models the number of trials that must be run in order to achieve success. "
   ]
  },
  {
   "cell_type": "markdown",
   "metadata": {},
   "source": [
    "## (ii) Geometric\n",
    "### “How many failures until a success?”\n",
    "![geometric distributions](https://www.mql5.com/en/docs/img/demogeometricdistribution.png)\n",
    "\n",
    "\n",
    "\n",
    "Bernoulli trials are experiments with one of two outcomes: success or failure (an example of such an experiment is flipping a coin). The geometric distribution models the number of trials that must be run in order to achieve success. It is therefore also represented by positive integers. \n",
    "\n",
    "Parameters:\t\n",
    "- Probability of success of individual trial\n",
    "- Size"
   ]
  },
  {
   "cell_type": "code",
   "execution_count": 158,
   "metadata": {},
   "outputs": [
    {
     "data": {
      "text/plain": [
       "0.4979"
      ]
     },
     "execution_count": 158,
     "metadata": {},
     "output_type": "execute_result"
    }
   ],
   "source": [
    "# Draw ten thousand values from the geometric distribution, with the probability of an individual success equal to 0.5:\n",
    "z = np.random.geometric(p=0.5, size=10000)\n",
    "# How many trials succeeded after a single run?\n",
    "\n",
    "(z == 1).sum() / 10000.\n",
    "# answer = 0.4963, or 49-50%."
   ]
  },
  {
   "cell_type": "code",
   "execution_count": 159,
   "metadata": {},
   "outputs": [
    {
     "data": {
      "text/plain": [
       "array([ 79,  88,  71, 125,  90, 203, 221,  54, 101,  14])"
      ]
     },
     "execution_count": 159,
     "metadata": {},
     "output_type": "execute_result"
    }
   ],
   "source": [
    "# np.random.geometric(p,n)\n",
    "\n",
    "np.random.geometric(.01, 10)\n",
    "\n",
    "# To make it close to uniform you make p close to 1. p represents the probability of a Bernoulli trial succeeding. When p=1, all trials succeed, so the output is an array of ones. "
   ]
  },
  {
   "cell_type": "markdown",
   "metadata": {},
   "source": [
    "#### The exponent in geometric sequence formula is always integer. Hence if you plot the sequence you get step-function kind of discrete plot with sudden jumps. The exponent of exponential growth is real number. So we have differential (smooth) and continuous plot for the exponential growth."
   ]
  },
  {
   "cell_type": "markdown",
   "metadata": {},
   "source": [
    "## (iii) Exponential\n",
    "\n",
    "### \"How long until the next customer calls in hours, minutes, seconds, milliseconds....infinitismel time slices\"\n",
    "\n",
    "The exponential distribution is a continuous analogue of the geometric distribution. It describes many common situations, such as the size of raindrops measured over many rainstorms, or the time between page requests to Wikipedia. \n",
    "\n",
    "Parameters:\t\n",
    "- Scale\n",
    "- Size\n",
    "\n",
    "How long until the next customer calls? The distribution of this waiting time sounds like it could be geometric, because every second that nobody calls is like a failure, until a second in which finally a customer calls. The number of failures is like the number of the seconds that nobody called, and that’s almost the waiting time until the next call, but almost isn’t close enough. The catch this time is that the sum will always be in whole seconds, but this fails to account for the wait within that second until the customer finally called.\n",
    "\n",
    "As before, take the geometric distribution to the limit, towards infinitesimal time slices, you get the exponential distribution, which accurately describes the distribution of time until a call. It’s a continuous distribution. "
   ]
  },
  {
   "cell_type": "code",
   "execution_count": 160,
   "metadata": {},
   "outputs": [
    {
     "data": {
      "text/plain": [
       "array([9.39678074e-03, 6.94099524e-03, 1.47380134e-02, 4.08130426e-03,\n",
       "       8.20347913e-03, 2.79507427e-05, 4.41287238e-03, 1.63117374e-03,\n",
       "       1.55585919e-02, 6.25760865e-03])"
      ]
     },
     "execution_count": 160,
     "metadata": {},
     "output_type": "execute_result"
    }
   ],
   "source": [
    "np.random.exponential(.01, 10)"
   ]
  },
  {
   "cell_type": "code",
   "execution_count": 161,
   "metadata": {},
   "outputs": [
    {
     "data": {
      "image/png": "[encoded data removed]",
      "text/plain": [
       "<Figure size 432x288 with 1 Axes>"
      ]
     },
     "metadata": {
      "needs_background": "light"
     },
     "output_type": "display_data"
    }
   ],
   "source": [
    "# np.random.exponential(p,n)\n",
    "n = 250\n",
    "p = 1.0/n\n",
    "\n",
    "Y = np.random.exponential(p, 5000)\n",
    "plt.hist(Y)\n",
    "plt.show()"
   ]
  },
  {
   "cell_type": "markdown",
   "metadata": {},
   "source": [
    "#### Echoing the binomial-geometric relationship, Poisson’s “How many events per time?” relates to the exponential’s “How long until an event?” Given events whose count per time follows a Poisson distribution, then the time between events follows an exponential distribution with the same rate parameter. Exponential is a continuous distribution while poisson is a discrete one."
   ]
  },
  {
   "cell_type": "markdown",
   "metadata": {},
   "source": [
    "## (iv) Poisson\n",
    "\n",
    "### \"Count of customers calling a support hotline\" \n",
    "\n",
    "A discrete frequency distribution which gives the probability of a number of independent events occurring in a fixed time.\n",
    "\n",
    "For instance, an individual keeping track of the amount of mail they receive each day may notice that they receive an average number of 4 letters per day. If receiving any particular piece of mail does not affect the arrival times of future pieces of mail, i.e., if pieces of mail from a wide range of sources arrive independently of one another, then a reasonable assumption is that the number of pieces of mail received in a day obeys a Poisson distribution. \n",
    "\n",
    "Like the binomial distribution, the Poisson distribution is the distribution of a count—the count of times something happened. The Poisson distribution is what you must think of when trying to count events over a time given the continuous rate of events occurring.\n",
    "\n",
    "Parameters: \n",
    "- Average number of successes occurring in a given time interval, the constant value of np where n is number of trials and p is probability\n",
    "- Known constant rate of np"
   ]
  },
  {
   "cell_type": "code",
   "execution_count": 162,
   "metadata": {},
   "outputs": [
    {
     "data": {
      "image/png": "[encoded data removed]",
      "text/plain": [
       "<Figure size 432x288 with 1 Axes>"
      ]
     },
     "metadata": {
      "needs_background": "light"
     },
     "output_type": "display_data"
    }
   ],
   "source": [
    "s = np.random.poisson(15, 1000)\n",
    "\n",
    "# Display histogram of the sample:\n",
    "count, bins, ignored = plt.hist(s, 14, density=True)\n",
    "plt.show()"
   ]
  },
  {
   "cell_type": "markdown",
   "metadata": {},
   "source": [
    "#### The sum of Bernoulli trials follows a binomial distribution, and as the number of trials increases, that binomial distribution becomes more like the normal distribution. Its cousin the hypergeometric distribution does too. The Poisson distribution—an extreme form of binomial—also approaches the normal distribution as the rate parameter increases."
   ]
  },
  {
   "cell_type": "markdown",
   "metadata": {},
   "source": [
    "## (v) Normal (Gaussian)\n",
    "\n",
    "### \"Take a bunch of values following the same distribution — any distribution — and sum them\"\n",
    "\n",
    "The Gaussian distribution is a continuous function which approximates the exact binomial distribution of events. It is related to distributions of sums of things. The Gaussian distribution is normalized so that the sum over all values of x gives a probability of 1. It is a bell shaped curve and this particular type of distribution is called the central limit theorem. \n",
    "\n",
    "The normal distributions occurs often in nature. For example, it describes the commonly occurring distribution of samples influenced by a large number of tiny, random disturbances, each with its own unique distribution. \n",
    "\n",
    "Parameters:\t\n",
    "- Mean (mu)\n",
    "- Standard deviation (sigma)"
   ]
  },
  {
   "cell_type": "code",
   "execution_count": 163,
   "metadata": {},
   "outputs": [
    {
     "name": "stderr",
     "output_type": "stream",
     "text": [
      "C:\\Users\\user\\Anaconda3\\lib\\site-packages\\matplotlib\\axes\\_axes.py:6571: UserWarning: The 'normed' kwarg is deprecated, and has been replaced by the 'density' kwarg.\n",
      "  warnings.warn(\"The 'normed' kwarg is deprecated, and has been \"\n"
     ]
    },
    {
     "data": {
      "image/png": "[encoded data removed]",
      "text/plain": [
       "<Figure size 432x288 with 1 Axes>"
      ]
     },
     "metadata": {
      "needs_background": "light"
     },
     "output_type": "display_data"
    }
   ],
   "source": [
    "mu, sigma = 0.5, 0.1\n",
    "s = np.random.normal(mu, sigma, 1000)\n",
    "\n",
    "# Create the bins and histogram\n",
    "count, bins, ignored = plt.hist(s, 20, normed=True)\n",
    "\n",
    "# Plot the distribution curve\n",
    "plt.plot(bins, 1/(sigma * np.sqrt(2 * np.pi)) *\n",
    "    np.exp( - (bins - mu)**2 / (2 * sigma**2) ),       linewidth=3, color='y')\n",
    "plt.show()"
   ]
  },
  {
   "cell_type": "code",
   "execution_count": 164,
   "metadata": {},
   "outputs": [],
   "source": [
    "z = np.random.normal(500, 100, 10000)"
   ]
  },
  {
   "cell_type": "code",
   "execution_count": 165,
   "metadata": {},
   "outputs": [
    {
     "data": {
      "text/plain": [
       "(array([3.000e+00, 2.800e+01, 2.700e+02, 1.203e+03, 2.732e+03, 3.261e+03,\n",
       "        1.831e+03, 5.840e+02, 7.800e+01, 1.000e+01]),\n",
       " array([ 57.77327584, 142.73403984, 227.69480384, 312.65556784,\n",
       "        397.61633184, 482.57709584, 567.53785983, 652.49862383,\n",
       "        737.45938783, 822.42015183, 907.38091583]),\n",
       " <a list of 10 Patch objects>)"
      ]
     },
     "execution_count": 165,
     "metadata": {},
     "output_type": "execute_result"
    },
    {
     "data": {
      "image/png": "[encoded data removed]",
      "text/plain": [
       "<Figure size 432x288 with 1 Axes>"
      ]
     },
     "metadata": {
      "needs_background": "light"
     },
     "output_type": "display_data"
    }
   ],
   "source": [
    "plt.hist (z)"
   ]
  },
  {
   "cell_type": "markdown",
   "metadata": {},
   "source": [
    "# 4. Explain the use of seeds in generating pseudorandom numbers"
   ]
  },
  {
   "cell_type": "markdown",
   "metadata": {},
   "source": [
    "The source of randomness that we inject into our programs and algorithms is a mathematical trick called a pseudorandom number generator. A random number generator is a system that generates random numbers from a true source of randomness. In machine learning, pseudorandomness is a sample of numbers that look close to true random, but were generated using a deterministic process, meaning the sequence is seeded with an initial number and given the same seed, it will produce the same sequence of numbers every time. The choice of seed does not matter. \n",
    "\n",
    "The seed is the key piece of information related to the beginning of the generation of numbers. Generally, if you do not explicitly seed the pseudorandom number generator, then it may use the current system time in seconds or milliseconds as the seed.\n",
    "\n",
    "Pi has a decimel expansion that never repeats or ends which makes it a simple example of picking a seed and random number generation.  \n",
    "\n",
    "Parameters:\t\n",
    "- For an input x called seed and a count n, returns a set of values "
   ]
  },
  {
   "cell_type": "code",
   "execution_count": 166,
   "metadata": {},
   "outputs": [
    {
     "name": "stdout",
     "output_type": "stream",
     "text": [
      "0.13436424411240122 0.8474337369372327 0.763774618976614\n",
      "0.13436424411240122 0.8474337369372327 0.763774618976614\n"
     ]
    }
   ],
   "source": [
    "# seed the pseudorandom number generator\n",
    "from random import seed\n",
    "from random import random\n",
    "# seed random number generator\n",
    "seed(1)\n",
    "# generate some random numbers\n",
    "print(random(), random(), random())\n",
    "# reset the seed\n",
    "seed(1)\n",
    "# generate some random numbers\n",
    "print(random(), random(), random())"
   ]
  },
  {
   "cell_type": "markdown",
   "metadata": {},
   "source": [
    "Running the example seeds the pseudorandom number generator with the value 1, generates 3 random numbers, reseeds the generator, and shows that the same three random numbers are generated."
   ]
  },
  {
   "cell_type": "code",
   "execution_count": 167,
   "metadata": {},
   "outputs": [
    {
     "data": {
      "text/plain": [
       "array([[0.27259261, 0.27646426, 0.80187218],\n",
       "       [0.95813935, 0.87593263, 0.35781727]])"
      ]
     },
     "execution_count": 167,
     "metadata": {},
     "output_type": "execute_result"
    }
   ],
   "source": [
    "np.random.seed(1234)\n",
    "\n",
    "np.random.uniform(0, 10, 5)\n",
    "\n",
    "np.random.rand(2,3)"
   ]
  },
  {
   "cell_type": "code",
   "execution_count": 168,
   "metadata": {},
   "outputs": [
    {
     "data": {
      "text/plain": [
       "array([[0.50308317, 0.01376845, 0.77282662],\n",
       "       [0.88264119, 0.36488598, 0.61539618]])"
      ]
     },
     "execution_count": 168,
     "metadata": {},
     "output_type": "execute_result"
    }
   ],
   "source": [
    "np.random.RandomState(1234)\n",
    "\n",
    "np.random.uniform(0, 10, 5)\n",
    "\n",
    "np.random.rand(2,3)"
   ]
  },
  {
   "cell_type": "markdown",
   "metadata": {},
   "source": [
    "np.random.seed(0) resets the state of the existing global RandomState instance that underlies the functions in the np.random namespace. np.random.RandomState(0) returns a new seeded RandomState instance but otherwise does not change anything. You have to use the returned RandomState instance to get consistent pseudorandom numbers. If you use the functions in the numpy.random namespace, you will not get consistent pseudorandom numbers because they are pulling from a different RandomState instance than the one just created. In the interest of reproducibility, it is highly preferable to structure your code to pass around RandomState instances. These functions make the random numbers predictable which is useful when testing using random number generators. "
   ]
  },
  {
   "cell_type": "markdown",
   "metadata": {},
   "source": [
    "# References \n",
    "\n",
    "https://www.esri.ie/pubs/RS84.pdf\n",
    "***\n",
    "https://en.wikipedia.org/wiki/Simpson%27s_paradox\n",
    "***\n",
    "https://www.irishtimes.com/life-and-style/health-family/what-makes-us-happy-at-work-1.3347589\n",
    "***\n",
    "https://www.irishtimes.com/business/work/happiness-at-work-requires-good-relationships-purpose-and-vision-1.2025872\n",
    "***\n",
    "https://hbr.org/2017/09/happiness-traps\n",
    "***\n",
    "http://eureka.sbs.ox.ac.uk/6319/1/2017-07.pdf\n",
    "***\n",
    "https://s3.amazonaws.com/happiness-report/2018/WHR_web.pdf\n",
    "***\n",
    "https://drum.lib.umd.edu/bitstream/handle/1903/18191/Huang_umd_0117N_16920.pdf?sequence=1\n",
    "***\n",
    "https://stackoverflow.com/questions/36537811/numpy-trapezoidal-distribution-for-age-distribution\n",
    "***\n",
    "https://www.irishexaminer.com/breakingnews/ireland/this-is-the-average-full-time-wage-in-ireland-795670.html\n",
    "***\n",
    "https://www.cso.ie/en/releasesandpublications/er/elcq/earningsandlabourcostsq22018finalq32018preliminaryestimates/\n",
    "***\n",
    "https://www.cso.ie/en/releasesandpublications/ep/p-wamii/womenandmeninireland2016/employment/\n",
    "***\n",
    "http://www.governing.com/gov-data/ages-of-workforce-for-industries-average-medians.html\n",
    "***\n",
    "https://www.huffingtonpost.com/kristie-arslan/five-big-myths-about-amer_b_866118.html"
   ]
  },
  {
   "cell_type": "markdown",
   "metadata": {},
   "source": [
    "# End"
   ]
  }
 ],
 "metadata": {
  "kernelspec": {
   "display_name": "Python 3",
   "language": "python",
   "name": "python3"
  },
  "language_info": {
   "codemirror_mode": {
    "name": "ipython",
    "version": 3
   },
   "file_extension": ".py",
   "mimetype": "text/x-python",
   "name": "python",
   "nbconvert_exporter": "python",
   "pygments_lexer": "ipython3",
   "version": "3.7.0"
  }
 },
 "nbformat": 4,
 "nbformat_minor": 2
}
