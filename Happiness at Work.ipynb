{
 "cells": [
  {
   "cell_type": "markdown",
   "metadata": {},
   "source": [
    "For this project you must create a data set by simulating a real-world phenomenon of\n",
    "your choosing. You may pick any phenomenon you wish – you might pick one that is\n",
    "of interest to you in your personal or professional life. Then, rather than collect data\n",
    "related to the phenomenon, you should model and synthesise such data using Python.\n",
    "We suggest you use the numpy.random package for this purpose.\n",
    "Specifically, in this project you should:\n",
    "- Choose a real-world phenomenon that can be measured and for which you could collect at least one-hundred data points across at least four different variables.\n",
    "- Investigate the types of variables involved, their likely distributions, and their relationships with each other.\n",
    "- Synthesise/simulate a data set as closely matching their properties as possible.\n",
    "- Detail your research and implement the simulation in a Jupyter notebook – the data set itself can simply be displayed in an output cell within the notebook."
   ]
  },
  {
   "cell_type": "markdown",
   "metadata": {},
   "source": [
    "# 1. Happiness at Work \n",
    "\n",
    "### Real-world Phenomenon with at least one-hundred data points across four variables. \n",
    "\n",
    "![employee happy face](https://www.incimages.com/uploaded_files/image/970x450/getty_175280847_9707219704500142_47976.jpg)\n",
    "\n",
    "There is an assumption that to be successful and paid well in your job will amount to happiness. Happier employees are more productive and organizations try to improve their employees’ happiness with the objective to achieve higher profitability and company value. In fact, a 2015 review of several global studies concluded that happier employees were up to 12% more productive. Basing the project on the figures from the workplace I intend to investigate contributing factors to happiness in the workplace. "
   ]
  },
  {
   "cell_type": "markdown",
   "metadata": {},
   "source": [
    "### Identify the Variables \n",
    "\n",
    "Some factors affecting your happiness at work may include but not limited to: \n",
    "\n",
    "- Gender \n",
    "- Marital status \n",
    "- Education \n",
    "- Sector \n",
    "- Pay \n",
    "- Hours of Work \n",
    "- Age \n",
    "- Size of Office "
   ]
  },
  {
   "cell_type": "markdown",
   "metadata": {},
   "source": [
    "# 2. Variables \n",
    "\n",
    "### Investigate variables, their likely distributions and relationships with each other"
   ]
  },
  {
   "cell_type": "markdown",
   "metadata": {},
   "source": [
    "<img src=\"http://blog.cloudera.com/wp-content/uploads/2015/12/distribution.png\" alt=\"Drawing\" style=\"width: 500px;\"/>"
   ]
  },
  {
   "cell_type": "markdown",
   "metadata": {},
   "source": [
    "### Explicit/Named Variables\n",
    "\n",
    "Gender \n",
    "- Variable 1: Male\n",
    "- Variable 2: Female\n",
    "- Assumption that there is an equitable distribution of men and women\n",
    "- 50/50 Bernoulli distribution\n",
    "\n",
    "Marital status \n",
    "- Variable 1: Single (30%)\n",
    "- Variable 2: Partnered (70%)\n",
    "- Arbitrary assumption\n",
    "- Binomial distribution\n",
    "\n",
    "Education \n",
    "- Variable 1: Bachelors (40%)\n",
    "- Variable 2: No Bachelors (40%)\n",
    "- Variable 3: More than a Bachelors (20%)\n",
    "- Assumption based on the amount of third level qualifications from 1991-2016 at the CSO \n",
    "- Binomial distribution\n",
    "\n",
    "Sector \n",
    "- 35.7% of the employees’ companies are in private sector and closely held\n",
    "- 28.6% in private sector and public held\n",
    "- 29.5% in public sector, and \n",
    "- 6.2% in charity or non-profits. \n",
    "- 2014 US Happiness @ Work survey\n",
    "- Binomial distribution\n",
    "\n",
    "Size of Business \n",
    "- Micro <10 (20%)\n",
    "- Small-Medium 10-250 (60%)\n",
    "- Large 250+ (20%)\n",
    "- Assumption based on OECD Statistic shows that SMEs account for 60-70% of the workforce\n",
    "- Binomial distribution. This could have also been considered as a sliding scale variable with normal distribution peaking somewhere in the middle of the SMEs. \n",
    "\n",
    "### Sliding Scale Variables\n",
    "\n",
    "Job Satisfaction (0-10)\n",
    "- Mean: 7.308 \n",
    "- Standard Deviation: 1.968\n",
    "- Summary Statistics Survey: European Social\n",
    "- Normal distribution\n",
    "\n",
    "Pay (€)\n",
    "- Minimum: €18,041 (minimum wage in Ireland)\n",
    "- Mean: €45,611 is the mean wage based on 2016 CSO figures\n",
    "- Standard Deviation: €15,000 (Assumption)\n",
    "- Normal distribution\n",
    "\n",
    "Hours of Work (hrs)\n",
    "- Mean: 39 hours based on CSO statistic\n",
    "- Maximum: 48 (Irish legislation)\n",
    "- Normal distribution\n",
    "\n",
    "Age (yrs)\n",
    "- Range: 17-65 \n",
    "- Median: 42.3 years based on a US Age Demographic of workforce\n",
    "- Combined uniform and triangular distribution\n",
    "\n",
    "#### For the purposes of the Project, we will look at (i) Gender, (ii) Education, (iii) Pay, (iv) Hours of Work, (v) Age variables, and, (vi) Job Satisfaction"
   ]
  },
  {
   "cell_type": "code",
   "execution_count": 34,
   "metadata": {},
   "outputs": [],
   "source": [
    "# Import numpy as np\n",
    "import numpy as np\n",
    "\n",
    "# import matplot\n",
    "import matplotlib.pyplot as plt\n",
    "\n",
    "#Use the 'inline' backend, so that the matplotlib graphs are included in notebook, next to the code\n",
    "%matplotlib inline\n",
    "\n",
    "# Import pandas\n",
    "import pandas as pd\n",
    "\n",
    "# import seaborn \n",
    "import seaborn as sns"
   ]
  },
  {
   "cell_type": "code",
   "execution_count": 35,
   "metadata": {},
   "outputs": [
    {
     "data": {
      "text/plain": [
       "array(['Male', 'Male', 'Male', 'Male', 'Female', 'Female', 'Male',\n",
       "       'Female', 'Male', 'Male', 'Male', 'Female', 'Female', 'Female',\n",
       "       'Female', 'Female', 'Female', 'Female', 'Male', 'Male', 'Male',\n",
       "       'Male', 'Female', 'Female', 'Female', 'Female', 'Male', 'Female',\n",
       "       'Male', 'Female', 'Female', 'Female', 'Female', 'Male', 'Female',\n",
       "       'Female', 'Female', 'Male', 'Male', 'Male', 'Female', 'Female',\n",
       "       'Female', 'Female', 'Female', 'Male', 'Female', 'Female', 'Female',\n",
       "       'Female', 'Male', 'Female', 'Male', 'Male', 'Male', 'Male', 'Male',\n",
       "       'Male', 'Male', 'Male', 'Female', 'Female', 'Male', 'Male',\n",
       "       'Female', 'Female', 'Female', 'Female', 'Female', 'Male', 'Male',\n",
       "       'Male', 'Female', 'Male', 'Female', 'Male', 'Male', 'Male',\n",
       "       'Female', 'Female', 'Male', 'Male', 'Male', 'Female', 'Male',\n",
       "       'Female', 'Female', 'Female', 'Male', 'Female', 'Female', 'Male',\n",
       "       'Male', 'Male', 'Female', 'Male', 'Female', 'Female', 'Female',\n",
       "       'Female', 'Male', 'Female', 'Male', 'Male', 'Male', 'Male', 'Male',\n",
       "       'Male', 'Female', 'Male', 'Female', 'Male', 'Female', 'Male',\n",
       "       'Male', 'Female', 'Male', 'Male', 'Male', 'Female', 'Male',\n",
       "       'Female', 'Male', 'Male', 'Female', 'Female', 'Female', 'Female',\n",
       "       'Female', 'Male', 'Male', 'Male', 'Male', 'Male', 'Female',\n",
       "       'Female', 'Female', 'Female', 'Female', 'Female', 'Male', 'Female',\n",
       "       'Male', 'Male', 'Female', 'Male', 'Female', 'Male', 'Male', 'Male',\n",
       "       'Male', 'Male', 'Male', 'Female', 'Male', 'Male', 'Female', 'Male',\n",
       "       'Male', 'Female', 'Female', 'Female', 'Male', 'Female', 'Female',\n",
       "       'Male', 'Female', 'Female', 'Female', 'Male', 'Male', 'Male',\n",
       "       'Female', 'Female', 'Female', 'Male', 'Female', 'Female', 'Female',\n",
       "       'Female', 'Female', 'Male', 'Male', 'Female', 'Female', 'Female',\n",
       "       'Female', 'Male', 'Male', 'Male', 'Female', 'Male', 'Female',\n",
       "       'Female', 'Female', 'Female', 'Male', 'Male', 'Female', 'Male'],\n",
       "      dtype='<U6')"
      ]
     },
     "execution_count": 35,
     "metadata": {},
     "output_type": "execute_result"
    }
   ],
   "source": [
    "# Gender \n",
    "\n",
    "gender_arr = ['Male', 'Female']\n",
    "\n",
    "gender = (np.random.choice(gender_arr, 200))\n",
    "gender\n"
   ]
  },
  {
   "cell_type": "code",
   "execution_count": 36,
   "metadata": {},
   "outputs": [
    {
     "data": {
      "text/plain": [
       "200"
      ]
     },
     "execution_count": 36,
     "metadata": {},
     "output_type": "execute_result"
    }
   ],
   "source": [
    "len (gender)"
   ]
  },
  {
   "cell_type": "code",
   "execution_count": 37,
   "metadata": {},
   "outputs": [
    {
     "data": {
      "image/png": "[encoded data removed]",
      "text/plain": [
       "<Figure size 432x288 with 1 Axes>"
      ]
     },
     "metadata": {
      "needs_background": "light"
     },
     "output_type": "display_data"
    }
   ],
   "source": [
    "plt.hist(gender) \n",
    "plt.ylabel('Count of 200') # labelling y axis\n",
    "plt.xlabel('Gender') # labelling x axis \n",
    "plt.title('Gender Count') # Adding title\n",
    "\n",
    "plt.show()"
   ]
  },
  {
   "cell_type": "code",
   "execution_count": 38,
   "metadata": {},
   "outputs": [
    {
     "data": {
      "text/plain": [
       "array(['Bachelors', 'Post Bachelors', 'No Bachelors', 'Bachelors',\n",
       "       'No Bachelors', 'Bachelors', 'Post Bachelors', 'Bachelors',\n",
       "       'Bachelors', 'No Bachelors', 'Bachelors', 'No Bachelors',\n",
       "       'Bachelors', 'No Bachelors', 'Post Bachelors', 'Post Bachelors',\n",
       "       'Post Bachelors', 'No Bachelors', 'Bachelors', 'Post Bachelors',\n",
       "       'Bachelors', 'No Bachelors', 'Bachelors', 'Post Bachelors',\n",
       "       'No Bachelors', 'No Bachelors', 'No Bachelors', 'No Bachelors',\n",
       "       'Post Bachelors', 'No Bachelors', 'No Bachelors', 'No Bachelors',\n",
       "       'Bachelors', 'Bachelors', 'Bachelors', 'Bachelors',\n",
       "       'Post Bachelors', 'Bachelors', 'Bachelors', 'Post Bachelors',\n",
       "       'No Bachelors', 'No Bachelors', 'Post Bachelors', 'No Bachelors',\n",
       "       'Bachelors', 'Bachelors', 'Post Bachelors', 'No Bachelors',\n",
       "       'No Bachelors', 'Post Bachelors', 'No Bachelors', 'Bachelors',\n",
       "       'Bachelors', 'Bachelors', 'Bachelors', 'Bachelors', 'No Bachelors',\n",
       "       'Post Bachelors', 'Bachelors', 'No Bachelors', 'Post Bachelors',\n",
       "       'No Bachelors', 'Bachelors', 'Bachelors', 'Bachelors', 'Bachelors',\n",
       "       'Bachelors', 'Bachelors', 'Post Bachelors', 'No Bachelors',\n",
       "       'Bachelors', 'Bachelors', 'No Bachelors', 'Post Bachelors',\n",
       "       'Bachelors', 'No Bachelors', 'Post Bachelors', 'Bachelors',\n",
       "       'Post Bachelors', 'No Bachelors', 'Bachelors', 'No Bachelors',\n",
       "       'Bachelors', 'Bachelors', 'No Bachelors', 'No Bachelors',\n",
       "       'Bachelors', 'No Bachelors', 'No Bachelors', 'Bachelors',\n",
       "       'No Bachelors', 'Post Bachelors', 'Bachelors', 'No Bachelors',\n",
       "       'Bachelors', 'Post Bachelors', 'No Bachelors', 'Post Bachelors',\n",
       "       'Bachelors', 'Bachelors', 'Bachelors', 'No Bachelors',\n",
       "       'No Bachelors', 'No Bachelors', 'Bachelors', 'Post Bachelors',\n",
       "       'Bachelors', 'No Bachelors', 'No Bachelors', 'No Bachelors',\n",
       "       'Post Bachelors', 'No Bachelors', 'No Bachelors', 'No Bachelors',\n",
       "       'Bachelors', 'Post Bachelors', 'No Bachelors', 'Bachelors',\n",
       "       'Bachelors', 'No Bachelors', 'No Bachelors', 'Bachelors',\n",
       "       'No Bachelors', 'Bachelors', 'No Bachelors', 'No Bachelors',\n",
       "       'Bachelors', 'Post Bachelors', 'Bachelors', 'No Bachelors',\n",
       "       'Bachelors', 'No Bachelors', 'Bachelors', 'Bachelors',\n",
       "       'No Bachelors', 'Post Bachelors', 'No Bachelors', 'No Bachelors',\n",
       "       'No Bachelors', 'Bachelors', 'Bachelors', 'Bachelors', 'Bachelors',\n",
       "       'Bachelors', 'Bachelors', 'No Bachelors', 'No Bachelors',\n",
       "       'Bachelors', 'No Bachelors', 'Bachelors', 'Post Bachelors',\n",
       "       'No Bachelors', 'Post Bachelors', 'Bachelors', 'Bachelors',\n",
       "       'Bachelors', 'Bachelors', 'No Bachelors', 'Bachelors', 'Bachelors',\n",
       "       'No Bachelors', 'No Bachelors', 'No Bachelors', 'No Bachelors',\n",
       "       'Bachelors', 'Bachelors', 'No Bachelors', 'No Bachelors',\n",
       "       'Bachelors', 'Post Bachelors', 'Bachelors', 'Post Bachelors',\n",
       "       'Post Bachelors', 'No Bachelors', 'No Bachelors', 'Post Bachelors',\n",
       "       'Bachelors', 'Bachelors', 'Bachelors', 'Bachelors', 'No Bachelors',\n",
       "       'Post Bachelors', 'No Bachelors', 'Bachelors', 'No Bachelors',\n",
       "       'Bachelors', 'Bachelors', 'Bachelors', 'No Bachelors', 'Bachelors',\n",
       "       'Bachelors', 'Bachelors', 'No Bachelors', 'Bachelors',\n",
       "       'Post Bachelors', 'No Bachelors', 'Bachelors', 'Bachelors',\n",
       "       'No Bachelors', 'Bachelors'], dtype='<U14')"
      ]
     },
     "execution_count": 38,
     "metadata": {},
     "output_type": "execute_result"
    }
   ],
   "source": [
    "# Education \n",
    "\n",
    "# Set the seed to generate numbers from\n",
    "np.random.seed(55) \n",
    "\n",
    "education_arr = ['Bachelors', 'No Bachelors', 'Post Bachelors']\n",
    "education = np.random.choice(education_arr, 200, p= [0.4, 0.4, 0.2])\n",
    "\n",
    "education"
   ]
  },
  {
   "cell_type": "code",
   "execution_count": 39,
   "metadata": {
    "scrolled": true
   },
   "outputs": [
    {
     "data": {
      "text/plain": [
       "200"
      ]
     },
     "execution_count": 39,
     "metadata": {},
     "output_type": "execute_result"
    }
   ],
   "source": [
    "len (education)"
   ]
  },
  {
   "cell_type": "code",
   "execution_count": 40,
   "metadata": {},
   "outputs": [
    {
     "data": {
      "image/png": "[encoded data removed]",
      "text/plain": [
       "<Figure size 432x288 with 1 Axes>"
      ]
     },
     "metadata": {
      "needs_background": "light"
     },
     "output_type": "display_data"
    }
   ],
   "source": [
    "plt.hist(education)\n",
    "plt.ylabel('Count of 200') # labelling y axis\n",
    "plt.title('Education') # Adding title\n",
    "plt.show()"
   ]
  },
  {
   "cell_type": "code",
   "execution_count": 41,
   "metadata": {},
   "outputs": [
    {
     "data": {
      "text/plain": [
       "array([31784.44, 36816.24, 63070.99, 26985.14, 15832.55, 65211.63,\n",
       "       56678.11, 51297.67, 45625.84, 29035.48, 31461.39, 34805.44,\n",
       "       79830.34, 46135.51, 35492.47, 48883.07, 63114.26, 49813.22,\n",
       "       54023.79, 46475.22, 49586.64, 12446.49, 45181.08, 41658.61,\n",
       "       65292.36, 59761.97, 58207.41, 33917.94, 46185.34, 53320.73,\n",
       "       45547.43,  3412.36, 34529.08, 62402.18, 51401.78, 29154.87,\n",
       "       63731.69, 54479.64, 46516.87, 53542.4 , 75235.19, 41045.18,\n",
       "       62394.02, 59593.18, 58034.59, 46005.46, 30652.85, 13639.28,\n",
       "       20683.91, 40112.93, 46049.24, 57332.07, 60330.11, 52881.29,\n",
       "       18966.97, 44215.19, 58529.14, 36120.09, 17024.36, 36351.03,\n",
       "       66555.13, 69940.76, 73418.84, 44785.3 , 35969.33, 82976.42,\n",
       "       67944.96, 38175.96, 44486.67, 40453.05, 71147.3 , 46275.49,\n",
       "       64088.62, 45217.69, 70632.55, 62942.89, 54201.45, 75950.79,\n",
       "       39193.57, 39746.45, 43116.48, 23656.78, 56763.53, 42180.25,\n",
       "       37598.5 , 39298.3 , 60398.52, 52779.31, 44003.89, 21591.19,\n",
       "       28626.03, 52725.63, 46534.27, 51373.73, 26462.72, 30398.9 ,\n",
       "       51848.88, 70111.62, 61575.49, 38071.58, 21349.22, 78132.16,\n",
       "       55057.58, 68327.65, 23061.99, 41885.34, 63643.01, 42239.74,\n",
       "       48102.21, 29267.13, 39452.05, 53474.39, 29710.08, 56865.77,\n",
       "       25543.74, 39746.14, 42867.43, 29519.94, 55187.5 , 30342.07,\n",
       "       27528.05, 54091.42, 52377.13, 72722.27, 28766.1 , 37662.54,\n",
       "       85140.39, 32315.61, 65959.76, 43431.69, 30855.69, 45182.76,\n",
       "       41337.17, 20913.28, 26585.61, 26904.28, 66692.62, 28964.97,\n",
       "       49186.16, 67195.5 , 43388.75, 67865.1 , 36118.31, 35086.46,\n",
       "       28913.06, 33098.91, 25044.37, 49876.87, 32650.07, 56566.32,\n",
       "       58786.43, 51074.44, 41950.29, 40718.94, 37722.63, 45916.14,\n",
       "       27870.24, 38777.9 , 38984.76, 53427.55, 72605.86, 66648.12,\n",
       "       12250.34, 74642.5 , 47960.01, 29467.99, 45157.2 , 35181.08,\n",
       "       37708.98, 51232.37, 71519.91, 48331.83, 53648.31, 47787.77,\n",
       "       56958.57, 37564.54, 27719.64, 44997.75, 41458.61, 28442.4 ,\n",
       "       29209.92, 34158.94, 59089.28, 44478.02, 42955.67, 39535.67,\n",
       "       65057.76, 25672.09, 29029.21, 62189.46, 40065.98, 45330.75,\n",
       "       26506.6 , 33383.94, 61570.38, 46176.92, 43603.51, 56328.84,\n",
       "       34962.95, 52635.25])"
      ]
     },
     "execution_count": 41,
     "metadata": {},
     "output_type": "execute_result"
    }
   ],
   "source": [
    "# Pay\n",
    "\n",
    "# Set the seed to generate numbers from\n",
    "np.random.seed(60) \n",
    "\n",
    "# (mean, standard deviation, size), rounded to one decimal place\n",
    "pay = np.random.normal(45611, 15000, 200).round(2)\n",
    "pay"
   ]
  },
  {
   "cell_type": "code",
   "execution_count": 42,
   "metadata": {
    "scrolled": true
   },
   "outputs": [
    {
     "data": {
      "text/plain": [
       "200"
      ]
     },
     "execution_count": 42,
     "metadata": {},
     "output_type": "execute_result"
    }
   ],
   "source": [
    "len (pay)"
   ]
  },
  {
   "cell_type": "code",
   "execution_count": 43,
   "metadata": {},
   "outputs": [
    {
     "data": {
      "image/png": "[encoded data removed]",
      "text/plain": [
       "<Figure size 432x288 with 1 Axes>"
      ]
     },
     "metadata": {
      "needs_background": "light"
     },
     "output_type": "display_data"
    }
   ],
   "source": [
    "plt.hist(pay)\n",
    "plt.ylabel('Count of 200') # labelling y axis\n",
    "plt.xlabel('Payscale') # labelling x axis \n",
    "plt.title('Salary') # Adding title\n",
    "plt.show()"
   ]
  },
  {
   "cell_type": "code",
   "execution_count": 44,
   "metadata": {},
   "outputs": [
    {
     "data": {
      "text/plain": [
       "<matplotlib.collections.PathCollection at 0xb90b198>"
      ]
     },
     "execution_count": 44,
     "metadata": {},
     "output_type": "execute_result"
    },
    {
     "data": {
      "image/png": "[encoded data removed]",
      "text/plain": [
       "<Figure size 432x288 with 1 Axes>"
      ]
     },
     "metadata": {
      "needs_background": "light"
     },
     "output_type": "display_data"
    }
   ],
   "source": [
    "plt.scatter(pay,education)"
   ]
  },
  {
   "cell_type": "code",
   "execution_count": 45,
   "metadata": {},
   "outputs": [
    {
     "data": {
      "image/png": "[encoded data removed]",
      "text/plain": [
       "<Figure size 432x288 with 1 Axes>"
      ]
     },
     "metadata": {
      "needs_background": "light"
     },
     "output_type": "display_data"
    }
   ],
   "source": [
    "plt.boxplot(pay)\n",
    "plt.ylabel('Distribution of Pay') # labelling y axis\n",
    "plt.title('Salary') # Adding title\n",
    "plt.show()"
   ]
  },
  {
   "cell_type": "code",
   "execution_count": 46,
   "metadata": {},
   "outputs": [
    {
     "data": {
      "text/plain": [
       "array([42.4 , 39.71, 35.59, 37.22, 38.19, 43.4 , 26.86, 37.34, 33.63,\n",
       "       35.91, 32.3 , 42.22, 37.02, 36.98, 36.62, 40.5 , 40.65, 38.27,\n",
       "       41.61, 43.3 , 33.86, 33.96, 51.36, 34.05, 36.83, 41.08, 35.86,\n",
       "       33.54, 38.65, 40.23, 33.33, 38.7 , 41.79, 36.5 , 36.15, 35.02,\n",
       "       38.25, 28.33, 37.68, 37.83, 38.42, 35.17, 48.08, 41.65, 42.6 ,\n",
       "       37.54, 40.85, 39.32, 37.62, 42.86, 42.88, 35.81, 42.14, 40.23,\n",
       "       43.43, 41.67, 41.99, 38.16, 38.84, 37.35, 35.96, 35.02, 34.01,\n",
       "       37.1 , 37.77, 36.75, 39.41, 35.76, 39.02, 47.6 , 39.09, 37.95,\n",
       "       42.09, 43.25, 40.53, 37.85, 39.52, 40.65, 42.13, 39.83, 42.55,\n",
       "       39.86, 30.21, 38.36, 36.14, 41.34, 41.33, 37.59, 45.61, 32.66,\n",
       "       31.75, 42.87, 41.42, 42.09, 28.33, 46.41, 39.95, 35.62, 37.93,\n",
       "       36.82, 41.87, 43.18, 36.28, 34.57, 41.08, 36.34, 33.76, 39.41,\n",
       "       47.67, 35.72, 31.69, 37.95, 35.82, 40.92, 35.24, 40.81, 32.25,\n",
       "       42.13, 34.37, 42.84, 39.54, 47.88, 38.  , 40.43, 46.77, 33.8 ,\n",
       "       42.87, 38.89, 43.25, 37.42, 38.22, 39.25, 43.32, 36.95, 39.76,\n",
       "       37.62, 48.06, 45.72, 32.26, 38.15, 37.83, 30.04, 36.18, 38.85,\n",
       "       46.31, 37.84, 40.84, 33.75, 37.99, 41.57, 39.88, 36.26, 37.38,\n",
       "       37.05, 38.41, 50.44, 46.62, 38.11, 35.36, 45.21, 38.36, 40.53,\n",
       "       37.94, 35.09, 44.86, 40.92, 35.37, 39.09, 37.9 , 37.09, 37.14,\n",
       "       38.26, 35.27, 33.74, 43.59, 33.63, 45.11, 42.02, 33.96, 40.28,\n",
       "       44.36, 31.38, 49.36, 44.31, 41.22, 43.64, 41.  , 37.18, 38.99,\n",
       "       33.95, 39.92, 38.95, 40.02, 37.45, 36.84, 35.66, 39.6 , 35.96,\n",
       "       45.72, 36.35])"
      ]
     },
     "execution_count": 46,
     "metadata": {},
     "output_type": "execute_result"
    }
   ],
   "source": [
    "# Hours at Work\n",
    "\n",
    "# Set the seed to generate numbers from\n",
    "np.random.seed(70) \n",
    "\n",
    "# (mean, standard deviation, size), rounded to one decimal place\n",
    "hours = np.random.normal(39, 4, 200).round(2) \n",
    "hours"
   ]
  },
  {
   "cell_type": "code",
   "execution_count": 47,
   "metadata": {
    "scrolled": true
   },
   "outputs": [
    {
     "data": {
      "text/plain": [
       "200"
      ]
     },
     "execution_count": 47,
     "metadata": {},
     "output_type": "execute_result"
    }
   ],
   "source": [
    "len (hours)"
   ]
  },
  {
   "cell_type": "code",
   "execution_count": 48,
   "metadata": {},
   "outputs": [
    {
     "data": {
      "image/png": "[encoded data removed]",
      "text/plain": [
       "<Figure size 432x288 with 1 Axes>"
      ]
     },
     "metadata": {
      "needs_background": "light"
     },
     "output_type": "display_data"
    }
   ],
   "source": [
    "plt.hist(hours)\n",
    "plt.ylabel('Number of People') # labelling y axis\n",
    "plt.xlabel('Number of Hours') # labelling x axis \n",
    "plt.title('Hours in a Week') # Adding title\n",
    "plt.show()"
   ]
  },
  {
   "cell_type": "code",
   "execution_count": 49,
   "metadata": {},
   "outputs": [
    {
     "data": {
      "text/plain": [
       "array([24.4, 52.5, 29.6, 42.6, 17.7, 61.1, 60.2, 18.6, 62.9, 23.6, 30.6,\n",
       "       46.1, 62.3, 57.9, 17.1, 42. , 43.5, 40.3, 53.9, 24.7, 53.7, 18. ,\n",
       "       23.5, 22.6, 31.9, 49.2, 39.6, 56.2, 30.9, 52.2, 50.7, 32.7, 33.1,\n",
       "       63.9, 47. , 62.6, 53.8, 56.6, 36.5, 38.7, 36.2, 64.8, 25.5, 63.2,\n",
       "       37.1, 37.4, 39.2, 34.9, 39.3, 18.7, 21. , 52.2, 47.5, 18.3, 31.4,\n",
       "       27.6, 19.6, 42.1, 37. , 19.3, 44.5, 55.6, 22.5, 30.3, 47.8, 40.7,\n",
       "       41.3, 39.1, 59.9, 46.1, 46. , 38.3, 40. , 59.6, 27. , 62.3, 20.5,\n",
       "       45.6, 18.5, 48.9, 47.6, 58.4, 62.2, 38.4, 49.2, 61.4, 46.7, 32.5,\n",
       "       32.3, 31. , 63. , 36.5, 62.4, 58.1, 50.1, 17.2, 60.2, 61.2, 17.3,\n",
       "       47.9, 38.6, 44. , 44.4, 44.1, 36.5, 26.2, 50.3, 55.2, 32.4, 33. ,\n",
       "       38.4, 39.1, 53.8, 32.7, 39.6, 45.4, 41.9, 37.1, 49.5, 29.8, 32.3,\n",
       "       39.1, 49.8, 34.6, 28.5, 56.3, 29.4, 44.3, 35.8, 44.8, 45.7, 26.1,\n",
       "       37.8, 37.2, 31.7, 20.1, 20.6, 44.1, 27.1, 36.6, 59.2, 53.3, 55.3,\n",
       "       31.4, 36.6, 34.1, 41.4, 42.7, 39.2, 48.2, 45.3, 45.7, 30.5, 48.4,\n",
       "       45.2, 36. , 38.4, 61.5, 37.5, 37.4, 44.5, 44.6, 21. , 43.5, 49.4,\n",
       "       57.6, 47. , 28.9, 34.3, 39.6, 45. , 27.8, 38.8, 36.8, 59.4, 59.2,\n",
       "       48.3, 42.1, 31.1, 57.6, 55.8, 53.7, 24.9, 49.3, 28.3, 54.8, 43.8,\n",
       "       61.4, 39.8, 44.9, 49.4, 34.8, 45.2, 51.3, 42.2, 39.7, 42.4, 57.3,\n",
       "       64.1, 46.1])"
      ]
     },
     "execution_count": 49,
     "metadata": {},
     "output_type": "execute_result"
    }
   ],
   "source": [
    "# Age\n",
    "\n",
    "# Set the seed to generate numbers from\n",
    "np.random.seed(12) \n",
    "\n",
    "# https://stackoverflow.com/questions/36537811/numpy-trapezoidal-distribution-for-age-distribution\n",
    "\n",
    "agex = np.random.uniform(17,65,100) \n",
    "agey = np.random.triangular(17,42.3,65,100)\n",
    "age = np.concatenate((agex,agey)) \n",
    "\n",
    "age.round(1)"
   ]
  },
  {
   "cell_type": "code",
   "execution_count": 50,
   "metadata": {
    "scrolled": true
   },
   "outputs": [
    {
     "data": {
      "text/plain": [
       "200"
      ]
     },
     "execution_count": 50,
     "metadata": {},
     "output_type": "execute_result"
    }
   ],
   "source": [
    "len (age)"
   ]
  },
  {
   "cell_type": "code",
   "execution_count": 51,
   "metadata": {},
   "outputs": [
    {
     "data": {
      "image/png": "[encoded data removed]",
      "text/plain": [
       "<Figure size 432x288 with 1 Axes>"
      ]
     },
     "metadata": {
      "needs_background": "light"
     },
     "output_type": "display_data"
    }
   ],
   "source": [
    "plt.hist(age)\n",
    "plt.ylabel('Number of People') # labelling y axis\n",
    "plt.xlabel('Age') # labelling x axis \n",
    "plt.title('Age Distribution') # Adding title\n",
    "plt.show()"
   ]
  },
  {
   "cell_type": "code",
   "execution_count": 52,
   "metadata": {},
   "outputs": [
    {
     "data": {
      "image/png": "[encoded data removed]",
      "text/plain": [
       "<Figure size 432x288 with 1 Axes>"
      ]
     },
     "metadata": {
      "needs_background": "light"
     },
     "output_type": "display_data"
    }
   ],
   "source": [
    "plt.boxplot(age)\n",
    "plt.ylabel('Age') # labelling y axis \n",
    "plt.title('Age Distribution') # Adding title\n",
    "plt.show()"
   ]
  },
  {
   "cell_type": "code",
   "execution_count": 53,
   "metadata": {},
   "outputs": [
    {
     "data": {
      "text/plain": [
       "array([ 3.09849001,  9.49653651,  7.37845746,  6.06784956,  7.30806968,\n",
       "        4.9287718 ,  7.88192405,  4.05951067,  4.34196995,  7.83007465,\n",
       "        7.10843922,  5.60491072,  8.72235607,  9.43118472,  7.02892626,\n",
       "        9.497668  ,  7.1946558 ,  7.32390898,  7.72266688,  9.30214605,\n",
       "        8.68667291,  7.9503771 ,  8.37592724,  6.22602843,  9.64939311,\n",
       "        8.94310948,  7.1266021 ,  8.15165056,  7.11999742,  3.39391539,\n",
       "        8.03944362,  3.70055056,  5.35101012,  5.77502863,  5.32239854,\n",
       "        9.89625512, 11.79734692,  5.50470102,  6.8582158 ,  5.52525752,\n",
       "        8.53390221,  4.34779888,  8.63203638,  7.48214606,  9.27407661,\n",
       "       10.51727997,  9.14952567,  2.7013682 , 10.57994779,  8.01970101,\n",
       "        7.39056525,  7.9939132 , 12.2411655 ,  6.68003487, 10.43780135,\n",
       "       10.3154003 ,  7.48163202,  7.98754882,  5.21560274,  6.26424441,\n",
       "        7.78183413,  7.90352725,  8.28592638,  5.92674959,  6.36461135,\n",
       "        7.87474411, 12.09148783,  6.55153738,  6.11230682,  7.86530675,\n",
       "        3.59120065,  8.32932557, 11.08252647,  3.39823267,  6.91608263,\n",
       "        5.30028214,  6.60885413,  6.31339791,  4.50181502,  6.31560149,\n",
       "       10.13487078,  6.16154957,  5.74620222, 10.60166946,  8.27844701,\n",
       "        6.87872014,  7.36432501, 11.42140164,  5.14818016,  4.35258712,\n",
       "        7.84708865,  6.73003131, 10.71572519,  8.30294287,  6.11392394,\n",
       "        7.81076266,  9.52399481,  8.45781049,  4.72197792,  9.897334  ,\n",
       "        9.13044146,  7.91734432,  9.48981415,  7.36911179,  6.40727143,\n",
       "        6.6387446 ,  7.77399026,  5.9523906 ,  6.92362151,  8.12963442,\n",
       "        7.83974006,  5.96050301,  5.60073533,  5.09385092,  8.34680165,\n",
       "        6.76998433,  3.71229086,  8.19973763,  6.43900434,  8.78193058,\n",
       "        8.4828293 , 10.00640312,  9.17627653,  8.08902188,  6.31089588,\n",
       "        5.59392448,  7.23501006,  5.71486598,  7.64963068,  5.75614674,\n",
       "        5.50927921, 10.57851132,  7.15920135,  6.62998843,  4.68441607,\n",
       "        5.24244108,  7.62961148,  5.23601182,  6.79296939,  7.36801483,\n",
       "        9.12344088, 10.29966264,  9.22504698,  6.78551074,  8.94309452,\n",
       "       10.16013136,  6.45627334, 11.27520736,  5.42159224,  8.45424772,\n",
       "        9.8585691 ,  5.15492269,  7.6003015 ,  5.16838335,  4.76736981,\n",
       "        5.86750271,  7.45309276,  6.71327912,  9.71326944, 10.54158827,\n",
       "        7.61939059,  7.21499087,  7.48963671,  7.14147972,  6.63607501,\n",
       "        6.5353375 , 11.65485507,  7.85648099,  9.03261884,  4.84895649,\n",
       "        7.84208465, 11.52940631,  8.1945171 , 11.26358194, 10.37460367,\n",
       "        6.40046512,  6.23646938,  4.50842393, 10.23641876,  5.07937641,\n",
       "        7.83690821,  6.20920155,  6.33391444,  8.74308219,  7.06232234,\n",
       "       10.54261384,  3.15027237, 10.93681542,  6.30107294,  8.41120671,\n",
       "        8.60989763,  7.45428268,  7.92591342,  6.62876948,  8.55809002,\n",
       "        9.10835188,  6.1197785 ,  6.52131173,  5.97354825,  4.70567719])"
      ]
     },
     "execution_count": 53,
     "metadata": {},
     "output_type": "execute_result"
    }
   ],
   "source": [
    "# Job Satisfaction \n",
    "\n",
    "# Set the seed to generate numbers from\n",
    "np.random.seed(63) \n",
    "\n",
    "# (mean, standard deviation, size), rounded to one decimal place\n",
    "job = np.random.normal(7.308, 1.968, 200)\n",
    "job"
   ]
  },
  {
   "cell_type": "code",
   "execution_count": 54,
   "metadata": {},
   "outputs": [
    {
     "data": {
      "text/plain": [
       "200"
      ]
     },
     "execution_count": 54,
     "metadata": {},
     "output_type": "execute_result"
    }
   ],
   "source": [
    "len(job)"
   ]
  },
  {
   "cell_type": "markdown",
   "metadata": {},
   "source": [
    "### Possible Relationships with Each Other\n",
    "Gender and marital status may determine if work-life balance is possible when starting children\n",
    "Good education may lead to a better job\n",
    "Some sectors are high pressure environments leading to stress\n",
    "Less hours and more pay should have a positive impact on your happiness \n",
    "Maybe work gets easier as you climb the ladder and get older\n",
    "Size of office may be capable of offering more benefits to its employees but also lacking in personability"
   ]
  },
  {
   "cell_type": "markdown",
   "metadata": {},
   "source": [
    "esri probable job stress vs support chart"
   ]
  },
  {
   "cell_type": "markdown",
   "metadata": {},
   "source": [
    "# 3. Synthesise/simulate a data set \n",
    "\n",
    "Create a dataframe in pandas\n",
    "\n",
    "we should be capable to prepare the dataframe but that your research analysis will show your understanding of that information created\n",
    "\n",
    "use a seed to generate the numbers"
   ]
  },
  {
   "cell_type": "markdown",
   "metadata": {},
   "source": [
    "ians added two columns together - hourly rate???"
   ]
  },
  {
   "cell_type": "code",
   "execution_count": 55,
   "metadata": {},
   "outputs": [
    {
     "data": {
      "text/html": [
       "<div>\n",
       "<style scoped>\n",
       "    .dataframe tbody tr th:only-of-type {\n",
       "        vertical-align: middle;\n",
       "    }\n",
       "\n",
       "    .dataframe tbody tr th {\n",
       "        vertical-align: top;\n",
       "    }\n",
       "\n",
       "    .dataframe thead th {\n",
       "        text-align: right;\n",
       "    }\n",
       "</style>\n",
       "<table border=\"1\" class=\"dataframe\">\n",
       "  <thead>\n",
       "    <tr style=\"text-align: right;\">\n",
       "      <th></th>\n",
       "      <th>Job Satisfaction</th>\n",
       "      <th>Gender</th>\n",
       "      <th>Education</th>\n",
       "      <th>Pay</th>\n",
       "      <th>Hours</th>\n",
       "      <th>Age</th>\n",
       "    </tr>\n",
       "  </thead>\n",
       "  <tbody>\n",
       "    <tr>\n",
       "      <th>0</th>\n",
       "      <td>3.098490</td>\n",
       "      <td>Male</td>\n",
       "      <td>Bachelors</td>\n",
       "      <td>31784.44</td>\n",
       "      <td>42.40</td>\n",
       "      <td>24.0</td>\n",
       "    </tr>\n",
       "    <tr>\n",
       "      <th>1</th>\n",
       "      <td>9.496537</td>\n",
       "      <td>Male</td>\n",
       "      <td>Post Bachelors</td>\n",
       "      <td>36816.24</td>\n",
       "      <td>39.71</td>\n",
       "      <td>53.0</td>\n",
       "    </tr>\n",
       "    <tr>\n",
       "      <th>2</th>\n",
       "      <td>7.378457</td>\n",
       "      <td>Male</td>\n",
       "      <td>No Bachelors</td>\n",
       "      <td>63070.99</td>\n",
       "      <td>35.59</td>\n",
       "      <td>30.0</td>\n",
       "    </tr>\n",
       "    <tr>\n",
       "      <th>3</th>\n",
       "      <td>6.067850</td>\n",
       "      <td>Male</td>\n",
       "      <td>Bachelors</td>\n",
       "      <td>26985.14</td>\n",
       "      <td>37.22</td>\n",
       "      <td>43.0</td>\n",
       "    </tr>\n",
       "    <tr>\n",
       "      <th>4</th>\n",
       "      <td>7.308070</td>\n",
       "      <td>Female</td>\n",
       "      <td>No Bachelors</td>\n",
       "      <td>15832.55</td>\n",
       "      <td>38.19</td>\n",
       "      <td>18.0</td>\n",
       "    </tr>\n",
       "  </tbody>\n",
       "</table>\n",
       "</div>"
      ],
      "text/plain": [
       "   Job Satisfaction  Gender       Education       Pay  Hours   Age\n",
       "0          3.098490    Male       Bachelors  31784.44  42.40  24.0\n",
       "1          9.496537    Male  Post Bachelors  36816.24  39.71  53.0\n",
       "2          7.378457    Male    No Bachelors  63070.99  35.59  30.0\n",
       "3          6.067850    Male       Bachelors  26985.14  37.22  43.0\n",
       "4          7.308070  Female    No Bachelors  15832.55  38.19  18.0"
      ]
     },
     "execution_count": 55,
     "metadata": {},
     "output_type": "execute_result"
    }
   ],
   "source": [
    "#Create dataframe with all the data randomly generated\n",
    "\n",
    "\n",
    "\n",
    "df = pd.DataFrame({'Job Satisfaction' : job, 'Gender': gender, 'Education': education, 'Pay' : pay, 'Hours': hours, 'Age' : age.round(0)})\n",
    "\n",
    "df.head()\n"
   ]
  },
  {
   "cell_type": "code",
   "execution_count": 56,
   "metadata": {},
   "outputs": [
    {
     "data": {
      "text/html": [
       "<div>\n",
       "<style scoped>\n",
       "    .dataframe tbody tr th:only-of-type {\n",
       "        vertical-align: middle;\n",
       "    }\n",
       "\n",
       "    .dataframe tbody tr th {\n",
       "        vertical-align: top;\n",
       "    }\n",
       "\n",
       "    .dataframe thead th {\n",
       "        text-align: right;\n",
       "    }\n",
       "</style>\n",
       "<table border=\"1\" class=\"dataframe\">\n",
       "  <thead>\n",
       "    <tr style=\"text-align: right;\">\n",
       "      <th></th>\n",
       "      <th>Job Satisfaction</th>\n",
       "      <th>Gender</th>\n",
       "      <th>Education</th>\n",
       "      <th>Pay</th>\n",
       "      <th>Hours</th>\n",
       "      <th>Age</th>\n",
       "      <th>Hourly Rate</th>\n",
       "    </tr>\n",
       "  </thead>\n",
       "  <tbody>\n",
       "    <tr>\n",
       "      <th>0</th>\n",
       "      <td>3.098490</td>\n",
       "      <td>Male</td>\n",
       "      <td>Bachelors</td>\n",
       "      <td>31784.44</td>\n",
       "      <td>42.40</td>\n",
       "      <td>24.0</td>\n",
       "      <td>14.416020</td>\n",
       "    </tr>\n",
       "    <tr>\n",
       "      <th>1</th>\n",
       "      <td>9.496537</td>\n",
       "      <td>Male</td>\n",
       "      <td>Post Bachelors</td>\n",
       "      <td>36816.24</td>\n",
       "      <td>39.71</td>\n",
       "      <td>53.0</td>\n",
       "      <td>17.829378</td>\n",
       "    </tr>\n",
       "    <tr>\n",
       "      <th>2</th>\n",
       "      <td>7.378457</td>\n",
       "      <td>Male</td>\n",
       "      <td>No Bachelors</td>\n",
       "      <td>63070.99</td>\n",
       "      <td>35.59</td>\n",
       "      <td>30.0</td>\n",
       "      <td>34.079900</td>\n",
       "    </tr>\n",
       "    <tr>\n",
       "      <th>3</th>\n",
       "      <td>6.067850</td>\n",
       "      <td>Male</td>\n",
       "      <td>Bachelors</td>\n",
       "      <td>26985.14</td>\n",
       "      <td>37.22</td>\n",
       "      <td>43.0</td>\n",
       "      <td>13.942638</td>\n",
       "    </tr>\n",
       "    <tr>\n",
       "      <th>4</th>\n",
       "      <td>7.308070</td>\n",
       "      <td>Female</td>\n",
       "      <td>No Bachelors</td>\n",
       "      <td>15832.55</td>\n",
       "      <td>38.19</td>\n",
       "      <td>18.0</td>\n",
       "      <td>7.972561</td>\n",
       "    </tr>\n",
       "  </tbody>\n",
       "</table>\n",
       "</div>"
      ],
      "text/plain": [
       "   Job Satisfaction  Gender       Education       Pay  Hours   Age  \\\n",
       "0          3.098490    Male       Bachelors  31784.44  42.40  24.0   \n",
       "1          9.496537    Male  Post Bachelors  36816.24  39.71  53.0   \n",
       "2          7.378457    Male    No Bachelors  63070.99  35.59  30.0   \n",
       "3          6.067850    Male       Bachelors  26985.14  37.22  43.0   \n",
       "4          7.308070  Female    No Bachelors  15832.55  38.19  18.0   \n",
       "\n",
       "   Hourly Rate  \n",
       "0    14.416020  \n",
       "1    17.829378  \n",
       "2    34.079900  \n",
       "3    13.942638  \n",
       "4     7.972561  "
      ]
     },
     "execution_count": 56,
     "metadata": {},
     "output_type": "execute_result"
    }
   ],
   "source": [
    "df['Hourly Rate'] = df.Pay/df.Hours/52\n",
    "df.head()"
   ]
  },
  {
   "cell_type": "code",
   "execution_count": 57,
   "metadata": {},
   "outputs": [
    {
     "data": {
      "text/html": [
       "<div>\n",
       "<style scoped>\n",
       "    .dataframe tbody tr th:only-of-type {\n",
       "        vertical-align: middle;\n",
       "    }\n",
       "\n",
       "    .dataframe tbody tr th {\n",
       "        vertical-align: top;\n",
       "    }\n",
       "\n",
       "    .dataframe thead th {\n",
       "        text-align: right;\n",
       "    }\n",
       "</style>\n",
       "<table border=\"1\" class=\"dataframe\">\n",
       "  <thead>\n",
       "    <tr style=\"text-align: right;\">\n",
       "      <th></th>\n",
       "      <th>Job Satisfaction</th>\n",
       "      <th>Gender</th>\n",
       "      <th>Education</th>\n",
       "      <th>Pay</th>\n",
       "      <th>Hours</th>\n",
       "      <th>Age</th>\n",
       "      <th>Hourly Rate</th>\n",
       "      <th>Above or Below Minimum Wage</th>\n",
       "    </tr>\n",
       "  </thead>\n",
       "  <tbody>\n",
       "    <tr>\n",
       "      <th>0</th>\n",
       "      <td>3.098490</td>\n",
       "      <td>Male</td>\n",
       "      <td>Bachelors</td>\n",
       "      <td>31784.44</td>\n",
       "      <td>42.40</td>\n",
       "      <td>24.0</td>\n",
       "      <td>14.416020</td>\n",
       "      <td>Above</td>\n",
       "    </tr>\n",
       "    <tr>\n",
       "      <th>1</th>\n",
       "      <td>9.496537</td>\n",
       "      <td>Male</td>\n",
       "      <td>Post Bachelors</td>\n",
       "      <td>36816.24</td>\n",
       "      <td>39.71</td>\n",
       "      <td>53.0</td>\n",
       "      <td>17.829378</td>\n",
       "      <td>Above</td>\n",
       "    </tr>\n",
       "    <tr>\n",
       "      <th>2</th>\n",
       "      <td>7.378457</td>\n",
       "      <td>Male</td>\n",
       "      <td>No Bachelors</td>\n",
       "      <td>63070.99</td>\n",
       "      <td>35.59</td>\n",
       "      <td>30.0</td>\n",
       "      <td>34.079900</td>\n",
       "      <td>Above</td>\n",
       "    </tr>\n",
       "    <tr>\n",
       "      <th>3</th>\n",
       "      <td>6.067850</td>\n",
       "      <td>Male</td>\n",
       "      <td>Bachelors</td>\n",
       "      <td>26985.14</td>\n",
       "      <td>37.22</td>\n",
       "      <td>43.0</td>\n",
       "      <td>13.942638</td>\n",
       "      <td>Above</td>\n",
       "    </tr>\n",
       "    <tr>\n",
       "      <th>4</th>\n",
       "      <td>7.308070</td>\n",
       "      <td>Female</td>\n",
       "      <td>No Bachelors</td>\n",
       "      <td>15832.55</td>\n",
       "      <td>38.19</td>\n",
       "      <td>18.0</td>\n",
       "      <td>7.972561</td>\n",
       "      <td>Below</td>\n",
       "    </tr>\n",
       "  </tbody>\n",
       "</table>\n",
       "</div>"
      ],
      "text/plain": [
       "   Job Satisfaction  Gender       Education       Pay  Hours   Age  \\\n",
       "0          3.098490    Male       Bachelors  31784.44  42.40  24.0   \n",
       "1          9.496537    Male  Post Bachelors  36816.24  39.71  53.0   \n",
       "2          7.378457    Male    No Bachelors  63070.99  35.59  30.0   \n",
       "3          6.067850    Male       Bachelors  26985.14  37.22  43.0   \n",
       "4          7.308070  Female    No Bachelors  15832.55  38.19  18.0   \n",
       "\n",
       "   Hourly Rate Above or Below Minimum Wage  \n",
       "0    14.416020                       Above  \n",
       "1    17.829378                       Above  \n",
       "2    34.079900                       Above  \n",
       "3    13.942638                       Above  \n",
       "4     7.972561                       Below  "
      ]
     },
     "execution_count": 57,
     "metadata": {},
     "output_type": "execute_result"
    }
   ],
   "source": [
    "np.where(df['Hourly Rate'] < 9.55, 'Underpaid', 'Paid Correctly')\n",
    "\n",
    "df['Above or Below Minimum Wage'] = np.where(df['Hourly Rate'] < 9.55, 'Below', 'Above')\n",
    "df.head()"
   ]
  },
  {
   "cell_type": "code",
   "execution_count": 64,
   "metadata": {},
   "outputs": [
    {
     "ename": "SyntaxError",
     "evalue": "invalid syntax (<ipython-input-64-f27dc245ae7a>, line 1)",
     "output_type": "error",
     "traceback": [
      "\u001b[1;36m  File \u001b[1;32m\"<ipython-input-64-f27dc245ae7a>\"\u001b[1;36m, line \u001b[1;32m1\u001b[0m\n\u001b[1;33m    if df.8 == 'Below':\u001b[0m\n\u001b[1;37m          ^\u001b[0m\n\u001b[1;31mSyntaxError\u001b[0m\u001b[1;31m:\u001b[0m invalid syntax\n"
     ]
    }
   ],
   "source": [
    "if df.8 == 'Below':\n",
    "    print df"
   ]
  },
  {
   "cell_type": "code",
   "execution_count": 58,
   "metadata": {},
   "outputs": [
    {
     "data": {
      "text/html": [
       "<div>\n",
       "<style scoped>\n",
       "    .dataframe tbody tr th:only-of-type {\n",
       "        vertical-align: middle;\n",
       "    }\n",
       "\n",
       "    .dataframe tbody tr th {\n",
       "        vertical-align: top;\n",
       "    }\n",
       "\n",
       "    .dataframe thead th {\n",
       "        text-align: right;\n",
       "    }\n",
       "</style>\n",
       "<table border=\"1\" class=\"dataframe\">\n",
       "  <thead>\n",
       "    <tr style=\"text-align: right;\">\n",
       "      <th></th>\n",
       "      <th>Job Satisfaction</th>\n",
       "      <th>Pay</th>\n",
       "      <th>Hours</th>\n",
       "      <th>Age</th>\n",
       "      <th>Hourly Rate</th>\n",
       "    </tr>\n",
       "  </thead>\n",
       "  <tbody>\n",
       "    <tr>\n",
       "      <th>count</th>\n",
       "      <td>200.000000</td>\n",
       "      <td>200.000000</td>\n",
       "      <td>200.000000</td>\n",
       "      <td>200.000000</td>\n",
       "      <td>200.000000</td>\n",
       "    </tr>\n",
       "    <tr>\n",
       "      <th>mean</th>\n",
       "      <td>7.442130</td>\n",
       "      <td>45678.575850</td>\n",
       "      <td>38.897250</td>\n",
       "      <td>41.625000</td>\n",
       "      <td>22.859610</td>\n",
       "    </tr>\n",
       "    <tr>\n",
       "      <th>std</th>\n",
       "      <td>1.985063</td>\n",
       "      <td>15514.397613</td>\n",
       "      <td>4.181342</td>\n",
       "      <td>12.387154</td>\n",
       "      <td>8.245822</td>\n",
       "    </tr>\n",
       "    <tr>\n",
       "      <th>min</th>\n",
       "      <td>2.701368</td>\n",
       "      <td>3412.360000</td>\n",
       "      <td>26.860000</td>\n",
       "      <td>17.000000</td>\n",
       "      <td>1.695667</td>\n",
       "    </tr>\n",
       "    <tr>\n",
       "      <th>25%</th>\n",
       "      <td>6.118315</td>\n",
       "      <td>34736.350000</td>\n",
       "      <td>36.240000</td>\n",
       "      <td>32.750000</td>\n",
       "      <td>17.330884</td>\n",
       "    </tr>\n",
       "    <tr>\n",
       "      <th>50%</th>\n",
       "      <td>7.384511</td>\n",
       "      <td>45169.140000</td>\n",
       "      <td>38.360000</td>\n",
       "      <td>42.000000</td>\n",
       "      <td>22.097052</td>\n",
       "    </tr>\n",
       "    <tr>\n",
       "      <th>75%</th>\n",
       "      <td>8.645696</td>\n",
       "      <td>56699.465000</td>\n",
       "      <td>41.580000</td>\n",
       "      <td>50.000000</td>\n",
       "      <td>27.878883</td>\n",
       "    </tr>\n",
       "    <tr>\n",
       "      <th>max</th>\n",
       "      <td>12.241165</td>\n",
       "      <td>85140.390000</td>\n",
       "      <td>51.360000</td>\n",
       "      <td>65.000000</td>\n",
       "      <td>43.445342</td>\n",
       "    </tr>\n",
       "  </tbody>\n",
       "</table>\n",
       "</div>"
      ],
      "text/plain": [
       "       Job Satisfaction           Pay       Hours         Age  Hourly Rate\n",
       "count        200.000000    200.000000  200.000000  200.000000   200.000000\n",
       "mean           7.442130  45678.575850   38.897250   41.625000    22.859610\n",
       "std            1.985063  15514.397613    4.181342   12.387154     8.245822\n",
       "min            2.701368   3412.360000   26.860000   17.000000     1.695667\n",
       "25%            6.118315  34736.350000   36.240000   32.750000    17.330884\n",
       "50%            7.384511  45169.140000   38.360000   42.000000    22.097052\n",
       "75%            8.645696  56699.465000   41.580000   50.000000    27.878883\n",
       "max           12.241165  85140.390000   51.360000   65.000000    43.445342"
      ]
     },
     "execution_count": 58,
     "metadata": {},
     "output_type": "execute_result"
    }
   ],
   "source": [
    "df.describe()"
   ]
  },
  {
   "cell_type": "code",
   "execution_count": 59,
   "metadata": {},
   "outputs": [
    {
     "ename": "NameError",
     "evalue": "name 'Batchdf' is not defined",
     "output_type": "error",
     "traceback": [
      "\u001b[1;31m---------------------------------------------------------------------------\u001b[0m",
      "\u001b[1;31mNameError\u001b[0m                                 Traceback (most recent call last)",
      "\u001b[1;32m<ipython-input-59-06d9420c130d>\u001b[0m in \u001b[0;36m<module>\u001b[1;34m()\u001b[0m\n\u001b[1;32m----> 1\u001b[1;33m \u001b[0msns\u001b[0m\u001b[1;33m.\u001b[0m\u001b[0mpairplot\u001b[0m\u001b[1;33m(\u001b[0m\u001b[0mBatchdf\u001b[0m\u001b[1;33m,\u001b[0m \u001b[0mdiag_kind\u001b[0m\u001b[1;33m=\u001b[0m\u001b[1;34m'kde'\u001b[0m\u001b[1;33m,\u001b[0m \u001b[0mplot_kws\u001b[0m\u001b[1;33m=\u001b[0m\u001b[1;33m{\u001b[0m\u001b[1;34m'alpha'\u001b[0m\u001b[1;33m:\u001b[0m\u001b[1;36m1.0\u001b[0m\u001b[1;33m}\u001b[0m\u001b[1;33m)\u001b[0m\u001b[1;33m;\u001b[0m\u001b[1;33m\u001b[0m\u001b[0m\n\u001b[0m",
      "\u001b[1;31mNameError\u001b[0m: name 'Batchdf' is not defined"
     ]
    }
   ],
   "source": [
    "sns.pairplot(Batchdf, diag_kind='kde', plot_kws={'alpha':1.0});"
   ]
  },
  {
   "cell_type": "markdown",
   "metadata": {},
   "source": [
    "# 4. Detail your research and implement the simulation "
   ]
  },
  {
   "cell_type": "code",
   "execution_count": null,
   "metadata": {},
   "outputs": [],
   "source": [
    "# Get coefficients of linear fit\n",
    "import warnings\n",
    "warnings.simplefilter(action='ignore', category=FutureWarning) #Workaround to remove 'FutureWarnings' message which appears to be a bug. \n",
    "# Linear regression for pH V RAP\n",
    "slope, intercept, r_value, p_value, std_err = stats.linregress(Batchdf['pH'],Batchdf['RAP'])\n",
    "\n",
    "# Set line label for legend\n",
    "ax = sns.lmplot(x='pH', y='RAP', data=Batchdf, height=10)\n",
    "\n",
    "plt.title(\"pH V RAP {}: y={:.1f}x+{:.1f} (p: {:.1f}, R^2: {:.2f})\".format(ax, slope, intercept,  p_value, r_value)) #Adds title and linear equation\n",
    "plt.show() # use of Seaborn to plot the relationships between data and generate the regression equation"
   ]
  },
  {
   "cell_type": "markdown",
   "metadata": {},
   "source": [
    "# 2. Explain the use of the “Simple random data” and “Permutations” functions."
   ]
  },
  {
   "cell_type": "markdown",
   "metadata": {},
   "source": [
    "## (i) Simple Random Data\n",
    "\n",
    "(standard and normal are generally the same so there is no need to go into great detail on both)\n",
    "![numpy graph](https://docs.scipy.org/doc/numpy-1.15.0/_images/numpy-random-normal-1.png) "
   ]
  },
  {
   "cell_type": "markdown",
   "metadata": {},
   "source": [
    "In statistics, a simple random sample is a subset of individuals (a sample) chosen from a larger set (a population). Each individual is chosen randomly and entirely by chance, such that each individual has the same probability of being chosen at any stage during the sampling process, and each subset of k individuals has the same probability of being chosen for the sample as any other subset of k individuals. This process and technique is known as simple random sampling, and should not be confused with systematic random sampling. A simple random sample is an unbiased surveying technique.\n",
    "\n",
    "Simple random sampling is a basic type of sampling, since it can be a component of other more complex sampling methods. The principle of simple random sampling is that every object has the same probability of being chosen, e.g. winning the Lottery or a raffle. \n",
    "\n",
    "Simple random sampling refers to a sampling method that has the following properties: \n",
    "- The population consists of N objects.\n",
    "- The sample consists of n objects.\n",
    "- All possible samples of n objects are equally likely to occur.\n",
    "\n",
    "An important benefit of simple random sampling is that it allows researchers to use statistical methods to analyze sample results. \n",
    "\n",
    "The Simple Random Data functions in Numpy.random generate random numbers and number sets for a given distribution. "
   ]
  },
  {
   "cell_type": "code",
   "execution_count": null,
   "metadata": {
    "scrolled": true
   },
   "outputs": [],
   "source": [
    "np.random.rand(4,3)\n",
    "\n",
    "# rand function is between [0, 1). [0 includes 0, 1) excludes 1\n",
    "# returns random values in a given shape"
   ]
  },
  {
   "cell_type": "code",
   "execution_count": null,
   "metadata": {},
   "outputs": [],
   "source": [
    "np.random.rand()\n",
    "# returns one value when left blank"
   ]
  },
  {
   "cell_type": "code",
   "execution_count": null,
   "metadata": {},
   "outputs": [],
   "source": [
    "# returns 10000 random numbers between 0 and 1\n",
    "x = np.random.rand(10000)\n",
    "x"
   ]
  },
  {
   "cell_type": "code",
   "execution_count": null,
   "metadata": {},
   "outputs": [],
   "source": [
    "# result is a fairly even distribution of numbers\n",
    "plt.hist (x)"
   ]
  },
  {
   "cell_type": "code",
   "execution_count": null,
   "metadata": {},
   "outputs": [],
   "source": [
    "# .rand gives you numbers from 0-1 whereas .uniform lets you define the numbers\n",
    "\n",
    "np.random.uniform(5,8,10)\n",
    "# 10 generated random numbers between 5 a"
   ]
  },
  {
   "cell_type": "code",
   "execution_count": null,
   "metadata": {},
   "outputs": [],
   "source": [
    "y = np.random.uniform(5,8,10)"
   ]
  },
  {
   "cell_type": "code",
   "execution_count": null,
   "metadata": {},
   "outputs": [],
   "source": [
    "plt.hist (y)"
   ]
  },
  {
   "cell_type": "code",
   "execution_count": null,
   "metadata": {},
   "outputs": [],
   "source": [
    "# Return a sample (or samples) from the “standard normal” distribution\n",
    "np.random.randn(11)"
   ]
  },
  {
   "cell_type": "code",
   "execution_count": null,
   "metadata": {},
   "outputs": [],
   "source": [
    "plt.hist(np.random.randn(11))"
   ]
  },
  {
   "cell_type": "code",
   "execution_count": null,
   "metadata": {},
   "outputs": [],
   "source": [
    "# Generates a random sample from a given 1-D array\n",
    "# generates an integer between 0 and 10\n",
    "np.random.choice(11)"
   ]
  },
  {
   "cell_type": "markdown",
   "metadata": {},
   "source": [
    "## (ii) Permutations\n",
    "\n",
    "There are only two functions in the Permutations category of numpy.random; shuffle and permutation. \n",
    "\n",
    "A permutation is an arrangement of all or part of a set of objects, with regard to the order of the arrangement. For example, suppose we have a set of three letters: A, B, and C. We might ask how many ways we can arrange 2 letters from that set. \n",
    "\n",
    "Note the distinction between a permutation and a combination . A combination focuses on the selection of objects without regard to the order in which they are selected. A permutation, in contrast, focuses on the arrangement of objects with regard to the order in which they are arranged. \n",
    "\n",
    "The permutation function is distinct from shuffle since shuffle modifies the sequence of numbers whereas permutation modifies the sequence of numbers and returns a value/string. \n",
    "\n",
    "Parameters\n",
    "- n distinct objects taken r at a time"
   ]
  },
  {
   "cell_type": "code",
   "execution_count": null,
   "metadata": {},
   "outputs": [],
   "source": [
    "# shuffle(x)\n",
    "# Modify a sequence in-place by shuffling its contents.\n",
    "\n",
    "# string of numbers 0-9\n",
    "arr = np.arange(10)\n",
    "# puts the string of numbers 0-9 in a random order\n",
    "np.random.shuffle(arr)\n",
    "# returns arr\n",
    "arr\n"
   ]
  },
  {
   "cell_type": "code",
   "execution_count": null,
   "metadata": {},
   "outputs": [],
   "source": [
    "# permutation(x)\n",
    "# Randomly permute a sequence, or return a permuted range.\n",
    "\n",
    "# as above returns the string of numbers 0-9 in a random order with one line of code\n",
    "np.random.permutation(10)\n"
   ]
  },
  {
   "cell_type": "markdown",
   "metadata": {},
   "source": [
    "# 3. Explain the use and purpose of at least five “Distributions” functions."
   ]
  },
  {
   "cell_type": "markdown",
   "metadata": {},
   "source": [
    "Probability distributions describe what we think the probability of each outcome is, which is sometimes more interesting to know than simply which single outcome is most likely. They come in many shapes, but in only one size: probabilities in a distribution always add up to 1."
   ]
  },
  {
   "cell_type": "markdown",
   "metadata": {},
   "source": [
    "## (i) Bernoulli / Binomial\n",
    "### \"Unfair coin toss\"\n",
    "\n",
    "A distribution over 0 and 1, over 0 heads (i.e. tails) or 1 heads. Both outcomes are equally likely, and that’s what’s illustrated in the diagram. The Bernoulli PDF has two lines of equal height, representing the two equally-probable outcomes of 0 and 1 at either end.\n",
    "\n",
    "The Bernoulli distribution could represent outcomes that aren’t equally likely, like the result of an unfair coin toss. Then, the probability of heads is not 0.5, but some other value p, and the probability of tails is 1-p. \n",
    "\n",
    "If you pass n=1 to the Binomial distribution it is equivalent to the Bernoulli distribution. In this case the function could be thought of simulating coin flips. \n",
    "\n",
    "Parameters:\n",
    "- Trials\n",
    "- Probability\n",
    "- Size\n",
    "\n",
    "A Binomially distributed random variable has two parameters n and p, and can be thought of as the distribution of the number of heads obtained when flipping a biased coin n times, where the probability of getting a head at each flip is p."
   ]
  },
  {
   "cell_type": "code",
   "execution_count": null,
   "metadata": {},
   "outputs": [],
   "source": [
    "n, p = 10, .1  # number of trials, probability of each trial\n",
    "s = np.random.binomial(n, p, 30)\n",
    "# result of flipping a coin 10 times, tested 30 times.\n",
    "s"
   ]
  },
  {
   "cell_type": "code",
   "execution_count": null,
   "metadata": {},
   "outputs": [],
   "source": [
    "# 9 trial holes on land by sea. Estimated probability of good soil of 0.3. All trial holes are waterlogged sandy soil. What is the probability of that happening?\n",
    "# Let’s do 200,000 trials of the model, and count the number that generate zero positive results.\n",
    "\n",
    "sum(np.random.binomial(9, 0.3, 200000) == 0)/200000\n",
    "# answer = 0.04, or 4%."
   ]
  },
  {
   "cell_type": "markdown",
   "metadata": {},
   "source": [
    "#### Bernoulli trials are experiments with one of two outcomes: success or failure, e.g. flipping a coin. The geometric distribution models the number of trials that must be run in order to achieve success. "
   ]
  },
  {
   "cell_type": "markdown",
   "metadata": {},
   "source": [
    "## (ii) Geometric\n",
    "### “How many failures until a success?”\n",
    "![geometric distributions](https://www.mql5.com/en/docs/img/demogeometricdistribution.png)\n",
    "\n",
    "\n",
    "\n",
    "Bernoulli trials are experiments with one of two outcomes: success or failure (an example of such an experiment is flipping a coin). The geometric distribution models the number of trials that must be run in order to achieve success. It is therefore also represented by positive integers. \n",
    "\n",
    "Parameters:\t\n",
    "- Probability of success of individual trial\n",
    "- Size"
   ]
  },
  {
   "cell_type": "code",
   "execution_count": null,
   "metadata": {},
   "outputs": [],
   "source": [
    "# Draw ten thousand values from the geometric distribution, with the probability of an individual success equal to 0.5:\n",
    "z = np.random.geometric(p=0.5, size=10000)\n",
    "# How many trials succeeded after a single run?\n",
    "\n",
    "(z == 1).sum() / 10000.\n",
    "# answer = 0.4963, or 49-50%."
   ]
  },
  {
   "cell_type": "code",
   "execution_count": null,
   "metadata": {},
   "outputs": [],
   "source": [
    "# np.random.geometric(p,n)\n",
    "\n",
    "np.random.geometric(.01, 10)\n",
    "\n",
    "# To make it close to uniform you make p close to 1. p represents the probability of a Bernoulli trial succeeding. When p=1, all trials succeed, so the output is an array of ones. "
   ]
  },
  {
   "cell_type": "markdown",
   "metadata": {},
   "source": [
    "#### The exponent in geometric sequence formula is always integer. Hence if you plot the sequence you get step-function kind of discrete plot with sudden jumps. The exponent of exponential growth is real number. So we have differential (smooth) and continuous plot for the exponential growth."
   ]
  },
  {
   "cell_type": "markdown",
   "metadata": {},
   "source": [
    "## (iii) Exponential\n",
    "\n",
    "### \"How long until the next customer calls in hours, minutes, seconds, milliseconds....infinitismel time slices\"\n",
    "\n",
    "The exponential distribution is a continuous analogue of the geometric distribution. It describes many common situations, such as the size of raindrops measured over many rainstorms, or the time between page requests to Wikipedia. \n",
    "\n",
    "Parameters:\t\n",
    "- Scale\n",
    "- Size\n",
    "\n",
    "How long until the next customer calls? The distribution of this waiting time sounds like it could be geometric, because every second that nobody calls is like a failure, until a second in which finally a customer calls. The number of failures is like the number of the seconds that nobody called, and that’s almost the waiting time until the next call, but almost isn’t close enough. The catch this time is that the sum will always be in whole seconds, but this fails to account for the wait within that second until the customer finally called.\n",
    "\n",
    "As before, take the geometric distribution to the limit, towards infinitesimal time slices, you get the exponential distribution, which accurately describes the distribution of time until a call. It’s a continuous distribution. "
   ]
  },
  {
   "cell_type": "code",
   "execution_count": null,
   "metadata": {},
   "outputs": [],
   "source": [
    "np.random.exponential(.01, 10)"
   ]
  },
  {
   "cell_type": "code",
   "execution_count": null,
   "metadata": {},
   "outputs": [],
   "source": [
    "# np.random.exponential(p,n)\n",
    "n = 250\n",
    "p = 1.0/n\n",
    "\n",
    "Y = np.random.exponential(p, 5000)\n",
    "plt.hist(Y)\n",
    "plt.show()"
   ]
  },
  {
   "cell_type": "markdown",
   "metadata": {},
   "source": [
    "#### Echoing the binomial-geometric relationship, Poisson’s “How many events per time?” relates to the exponential’s “How long until an event?” Given events whose count per time follows a Poisson distribution, then the time between events follows an exponential distribution with the same rate parameter. Exponential is a continuous distribution while poisson is a discrete one."
   ]
  },
  {
   "cell_type": "markdown",
   "metadata": {},
   "source": [
    "## (iv) Poisson\n",
    "\n",
    "### \"Count of customers calling a support hotline\" \n",
    "\n",
    "A discrete frequency distribution which gives the probability of a number of independent events occurring in a fixed time.\n",
    "\n",
    "For instance, an individual keeping track of the amount of mail they receive each day may notice that they receive an average number of 4 letters per day. If receiving any particular piece of mail does not affect the arrival times of future pieces of mail, i.e., if pieces of mail from a wide range of sources arrive independently of one another, then a reasonable assumption is that the number of pieces of mail received in a day obeys a Poisson distribution. \n",
    "\n",
    "Like the binomial distribution, the Poisson distribution is the distribution of a count—the count of times something happened. The Poisson distribution is what you must think of when trying to count events over a time given the continuous rate of events occurring.\n",
    "\n",
    "Parameters: \n",
    "- Average number of successes occurring in a given time interval, the constant value of np where n is number of trials and p is probability\n",
    "- Known constant rate of np"
   ]
  },
  {
   "cell_type": "code",
   "execution_count": null,
   "metadata": {},
   "outputs": [],
   "source": [
    "s = np.random.poisson(15, 1000)\n",
    "\n",
    "# Display histogram of the sample:\n",
    "count, bins, ignored = plt.hist(s, 14, density=True)\n",
    "plt.show()"
   ]
  },
  {
   "cell_type": "markdown",
   "metadata": {},
   "source": [
    "#### The sum of Bernoulli trials follows a binomial distribution, and as the number of trials increases, that binomial distribution becomes more like the normal distribution. Its cousin the hypergeometric distribution does too. The Poisson distribution—an extreme form of binomial—also approaches the normal distribution as the rate parameter increases."
   ]
  },
  {
   "cell_type": "markdown",
   "metadata": {},
   "source": [
    "## (v) Normal (Gaussian)\n",
    "\n",
    "### \"Take a bunch of values following the same distribution — any distribution — and sum them\"\n",
    "\n",
    "The Gaussian distribution is a continuous function which approximates the exact binomial distribution of events. It is related to distributions of sums of things. The Gaussian distribution is normalized so that the sum over all values of x gives a probability of 1. It is a bell shaped curve and this particular type of distribution is called the central limit theorem. \n",
    "\n",
    "The normal distributions occurs often in nature. For example, it describes the commonly occurring distribution of samples influenced by a large number of tiny, random disturbances, each with its own unique distribution. \n",
    "\n",
    "Parameters:\t\n",
    "- Mean (mu)\n",
    "- Standard deviation (sigma)"
   ]
  },
  {
   "cell_type": "code",
   "execution_count": null,
   "metadata": {},
   "outputs": [],
   "source": [
    "mu, sigma = 0.5, 0.1\n",
    "s = np.random.normal(mu, sigma, 1000)\n",
    "\n",
    "# Create the bins and histogram\n",
    "count, bins, ignored = plt.hist(s, 20, normed=True)\n",
    "\n",
    "# Plot the distribution curve\n",
    "plt.plot(bins, 1/(sigma * np.sqrt(2 * np.pi)) *\n",
    "    np.exp( - (bins - mu)**2 / (2 * sigma**2) ),       linewidth=3, color='y')\n",
    "plt.show()"
   ]
  },
  {
   "cell_type": "code",
   "execution_count": null,
   "metadata": {},
   "outputs": [],
   "source": [
    "z = np.random.normal(500, 100, 10000)"
   ]
  },
  {
   "cell_type": "code",
   "execution_count": null,
   "metadata": {},
   "outputs": [],
   "source": [
    "plt.hist (z)"
   ]
  },
  {
   "cell_type": "markdown",
   "metadata": {},
   "source": [
    "# References \n",
    "\n",
    "https://www.esri.ie/pubs/RS84.pdf\n",
    "***\n",
    "https://en.wikipedia.org/wiki/Simpson%27s_paradox\n",
    "***\n",
    "https://www.irishtimes.com/life-and-style/health-family/what-makes-us-happy-at-work-1.3347589\n",
    "***\n",
    "https://www.irishtimes.com/business/work/happiness-at-work-requires-good-relationships-purpose-and-vision-1.2025872\n",
    "***\n",
    "https://hbr.org/2017/09/happiness-traps\n",
    "***\n",
    "http://eureka.sbs.ox.ac.uk/6319/1/2017-07.pdf\n",
    "***\n",
    "https://s3.amazonaws.com/happiness-report/2018/WHR_web.pdf\n",
    "***\n",
    "https://drum.lib.umd.edu/bitstream/handle/1903/18191/Huang_umd_0117N_16920.pdf?sequence=1\n",
    "***\n",
    "https://stackoverflow.com/questions/36537811/numpy-trapezoidal-distribution-for-age-distribution\n",
    "***\n",
    "https://www.irishexaminer.com/breakingnews/ireland/this-is-the-average-full-time-wage-in-ireland-795670.html\n",
    "***\n",
    "https://www.cso.ie/en/releasesandpublications/er/elcq/earningsandlabourcostsq22018finalq32018preliminaryestimates/\n",
    "***\n",
    "https://www.cso.ie/en/releasesandpublications/ep/p-wamii/womenandmeninireland2016/employment/\n",
    "***\n",
    "http://www.governing.com/gov-data/ages-of-workforce-for-industries-average-medians.html\n",
    "***\n",
    "https://www.huffingtonpost.com/kristie-arslan/five-big-myths-about-amer_b_866118.html\n",
    "***\n",
    "https://docs.scipy.org/doc/numpy/reference/generated/numpy.random.choice.html\n",
    "***\n",
    "https://www.thejournal.ie/ireland-european-education-rankings-facts-eoghan-murphy-cnbc-2992092-Sep2016/\n",
    "***\n",
    "https://stackoverflow.com/questions/36537811/numpy-trapezoidal-distribution-for-age-distribution\n",
    "***\n",
    "https://books.google.ie/books?id=TPNFDwAAQBAJ&pg=PA82&lpg=PA82&dq=random+sample+python+male+female+dataframe&source=bl&ots=s696v_uf2o&sig=RtWn4gHinAg_CcHHrHfTEbVQ27Y&hl=en&sa=X&ved=2ahUKEwiq2M_h5Z3fAhXhRxUIHZOEB7sQ6AEwDHoECAoQAQ#v=onepage&q=random%20sample%20python%20male%20female%20dataframe&f=false\n",
    "***\n",
    "https://docs.scipy.org/doc/numpy-1.15.1/reference/routines.random.html"
   ]
  },
  {
   "cell_type": "markdown",
   "metadata": {},
   "source": [
    "# End"
   ]
  }
 ],
 "metadata": {
  "kernelspec": {
   "display_name": "Python 3",
   "language": "python",
   "name": "python3"
  },
  "language_info": {
   "codemirror_mode": {
    "name": "ipython",
    "version": 3
   },
   "file_extension": ".py",
   "mimetype": "text/x-python",
   "name": "python",
   "nbconvert_exporter": "python",
   "pygments_lexer": "ipython3",
   "version": "3.7.0"
  }
 },
 "nbformat": 4,
 "nbformat_minor": 2
}
