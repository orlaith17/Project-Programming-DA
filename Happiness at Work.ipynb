{
 "cells": [
  {
   "cell_type": "markdown",
   "metadata": {},
   "source": [
    "For this project you must create a data set by simulating a real-world phenomenon of\n",
    "your choosing. You may pick any phenomenon you wish – you might pick one that is\n",
    "of interest to you in your personal or professional life. Then, rather than collect data\n",
    "related to the phenomenon, you should model and synthesise such data using Python.\n",
    "We suggest you use the numpy.random package for this purpose.\n",
    "Specifically, in this project you should:\n",
    "- Choose a real-world phenomenon that can be measured and for which you could collect at least one-hundred data points across at least four different variables.\n",
    "- Investigate the types of variables involved, their likely distributions, and their relationships with each other.\n",
    "- Synthesise/simulate a data set as closely matching their properties as possible.\n",
    "- Detail your research and implement the simulation in a Jupyter notebook – the data set itself can simply be displayed in an output cell within the notebook."
   ]
  },
  {
   "cell_type": "markdown",
   "metadata": {},
   "source": [
    "# 1. Happiness at Work \n",
    "\n",
    "### 1.1 Real-world Phenomenon with at least one-hundred data points across four variables. \n",
    "\n",
    "![employee happy face](https://www.incimages.com/uploaded_files/image/970x450/getty_175280847_9707219704500142_47976.jpg)\n",
    "\n",
    "There is an assumption that to be successful and paid well in your job will amount to happiness. Happier employees are more productive and organizations try to improve their employees’ happiness with the objective to achieve higher profitability and company value. In fact, a 2015 review of several global studies concluded that happier employees were up to 12% more productive. Basing the project on figures from the workplace (from a variety of studies), I intend to investigate contributing factors to job satisfaction. "
   ]
  },
  {
   "cell_type": "markdown",
   "metadata": {},
   "source": [
    "### 1.2 Identify the Variables \n",
    "\n",
    "Some factors affecting job satisfaction may include but not limited to: \n",
    "\n",
    "- Gender \n",
    "- Marital status \n",
    "- Education \n",
    "- Sector \n",
    "- Pay \n",
    "- Hours of Work \n",
    "- Age \n",
    "- Size of Office "
   ]
  },
  {
   "cell_type": "markdown",
   "metadata": {},
   "source": [
    "# 2. Variables \n",
    "\n",
    "### 2.1 Investigate variables and their likely distributions"
   ]
  },
  {
   "cell_type": "markdown",
   "metadata": {},
   "source": [
    "<img src=\"http://blog.cloudera.com/wp-content/uploads/2015/12/distribution.png\" alt=\"Drawing\" style=\"width: 500px;\"/>"
   ]
  },
  {
   "cell_type": "markdown",
   "metadata": {},
   "source": [
    "#### Explicit/Named Variables\n",
    "\n",
    "Gender \n",
    "- Variable 1: Male\n",
    "- Variable 2: Female\n",
    "- Assumption that there is an equitable distribution of men and women\n",
    "- 50/50 Bernoulli distribution\n",
    "- Categorical variable with 2 possible values\n",
    "\n",
    "Marital status \n",
    "- Variable 1: Single (30%)\n",
    "- Variable 2: Partnered (70%)\n",
    "- Arbitrary assumption\n",
    "- Binomial distribution\n",
    "- Categorical variable with 2 possible values\n",
    "\n",
    "Education \n",
    "- Variable 1: Bachelors (40%)\n",
    "- Variable 2: No Bachelors (40%)\n",
    "- Variable 3: More than a Bachelors (20%)\n",
    "- Assumption based on the amount of third level qualifications from 1991-2016 at the CSO \n",
    "- Binomial distribution\n",
    "- Categorical variable with 3 possible values\n",
    "\n",
    "Sector \n",
    "- 35.7% of the employees’ companies are in private sector and closely held\n",
    "- 28.6% in private sector and public held\n",
    "- 29.5% in public sector, and \n",
    "- 6.2% in charity or non-profits. \n",
    "- 2014 US Happiness @ Work survey\n",
    "- Binomial distribution\n",
    "- Categorical variable with 4 possible values\n",
    "\n",
    "Size of Business \n",
    "- Micro <10 (20%)\n",
    "- Small-Medium 10-250 (60%)\n",
    "- Large 250+ (20%)\n",
    "- Assumption based on OECD Statistic shows that SMEs account for 60-70% of the workforce\n",
    "- Binomial distribution. \n",
    "- Categorical variable with 4 possible values. This could have also been considered as a sliding scale variable with normal distribution peaking somewhere in the middle of the SMEs. \n",
    "\n",
    "#### Sliding Scale Variables\n",
    "\n",
    "Job Satisfaction (0-10)\n",
    "- Mean: 7.308 \n",
    "- Standard Deviation: 1.968\n",
    "- Summary Statistics Survey: European Social\n",
    "- Normal distribution\n",
    "- non-negative real number with 3 decimal places\n",
    "\n",
    "Pay (€)\n",
    "- Minimum: €18,041 (minimum wage in Ireland)\n",
    "- Mean: €45,611 is the mean wage based on 2016 CSO figures\n",
    "- Standard Deviation: €15,000 (Assumption)\n",
    "- Normal distribution\n",
    "- non-negative real number with 2 decimal places\n",
    "\n",
    "Hours of Work (hrs)\n",
    "- Mean: 39 hours based on CSO statistic\n",
    "- Maximum: 48 (Irish legislation)\n",
    "- Normal distribution\n",
    "- non-negative real number with 2 decimal places\n",
    "\n",
    "Age (yrs)\n",
    "- Range: 17-65 \n",
    "- Median: 42.3 years based on a US Age Demographic of workforce\n",
    "- Combined uniform and triangular distribution\n",
    "- non-negative real number with 2 decimal places\n",
    "\n",
    "#### For the purposes of the Project, we will look at (i) Gender, (ii) Education, (iii) Pay, (iv) Hours of Work, (v) Age variables, and, (vi) Job Satisfaction"
   ]
  },
  {
   "cell_type": "code",
   "execution_count": null,
   "metadata": {},
   "outputs": [],
   "source": [
    "# Import numpy as np\n",
    "import numpy as np\n",
    "\n",
    "# import matplot\n",
    "import matplotlib as mat\n",
    "import matplotlib.pyplot as plt\n",
    "\n",
    "#Use the 'inline' backend, so that the matplotlib graphs are included in notebook, next to the code\n",
    "%matplotlib inline\n",
    "\n",
    "# Import pandas\n",
    "import pandas as pd\n",
    "\n",
    "# import seaborn \n",
    "import seaborn as sns"
   ]
  },
  {
   "cell_type": "code",
   "execution_count": null,
   "metadata": {},
   "outputs": [],
   "source": [
    "# Gender \n",
    "\n",
    "gender_arr = ['Male', 'Female']\n",
    "\n",
    "gender = (np.random.choice(gender_arr, 200))\n",
    "gender\n"
   ]
  },
  {
   "cell_type": "code",
   "execution_count": null,
   "metadata": {},
   "outputs": [],
   "source": [
    "# check number of values so that generated figures for all variables will be equal to create the data set\n",
    "len (gender)"
   ]
  },
  {
   "cell_type": "code",
   "execution_count": null,
   "metadata": {},
   "outputs": [],
   "source": [
    "plt.hist(gender) \n",
    "plt.ylabel('Count of 200') # labelling y axis\n",
    "plt.xlabel('Gender') # labelling x axis \n",
    "plt.title('Gender Count') # Adding title\n",
    "\n",
    "plt.show()"
   ]
  },
  {
   "cell_type": "code",
   "execution_count": null,
   "metadata": {},
   "outputs": [],
   "source": [
    "# Education \n",
    "\n",
    "# Set the seed to generate numbers from\n",
    "np.random.seed(55) \n",
    "\n",
    "education_arr = ['Bachelors', 'No Bachelors', 'Post Bachelors']\n",
    "education = np.random.choice(education_arr, 200, p= [0.4, 0.4, 0.2])\n",
    "\n",
    "education"
   ]
  },
  {
   "cell_type": "code",
   "execution_count": null,
   "metadata": {
    "scrolled": true
   },
   "outputs": [],
   "source": [
    "len (education)"
   ]
  },
  {
   "cell_type": "code",
   "execution_count": null,
   "metadata": {},
   "outputs": [],
   "source": [
    "plt.hist(education)\n",
    "plt.ylabel('Count of 200') # labelling y axis\n",
    "plt.title('Education') # Adding title\n",
    "plt.show()"
   ]
  },
  {
   "cell_type": "code",
   "execution_count": null,
   "metadata": {},
   "outputs": [],
   "source": [
    "# Pay\n",
    "\n",
    "# Set the seed to generate numbers from\n",
    "np.random.seed(60) \n",
    "\n",
    "# (mean, standard deviation, size), rounded to one decimal place\n",
    "pay = np.random.normal(45611, 15000, 200).round(2)\n",
    "pay"
   ]
  },
  {
   "cell_type": "code",
   "execution_count": null,
   "metadata": {
    "scrolled": true
   },
   "outputs": [],
   "source": [
    "len (pay)"
   ]
  },
  {
   "cell_type": "code",
   "execution_count": null,
   "metadata": {},
   "outputs": [],
   "source": [
    "plt.hist(pay)\n",
    "plt.ylabel('Count of 200') # labelling y axis\n",
    "plt.xlabel('Payscale') # labelling x axis \n",
    "plt.title('Salary') # Adding title\n",
    "plt.show()"
   ]
  },
  {
   "cell_type": "code",
   "execution_count": null,
   "metadata": {},
   "outputs": [],
   "source": [
    "sns.boxplot(pay, orient=\"h\") "
   ]
  },
  {
   "cell_type": "code",
   "execution_count": null,
   "metadata": {},
   "outputs": [],
   "source": [
    "# Hours at Work\n",
    "\n",
    "# Set the seed to generate numbers from\n",
    "np.random.seed(70) \n",
    "\n",
    "# (mean, standard deviation, size), rounded to one decimal place\n",
    "hours = np.random.normal(39, 4, 200).round(2) \n",
    "hours"
   ]
  },
  {
   "cell_type": "code",
   "execution_count": null,
   "metadata": {
    "scrolled": true
   },
   "outputs": [],
   "source": [
    "len (hours)"
   ]
  },
  {
   "cell_type": "code",
   "execution_count": null,
   "metadata": {},
   "outputs": [],
   "source": [
    "plt.hist(hours)\n",
    "plt.ylabel('Number of People') # labelling y axis\n",
    "plt.xlabel('Number of Hours') # labelling x axis \n",
    "plt.title('Hours in a Week') # Adding title\n",
    "plt.show()"
   ]
  },
  {
   "cell_type": "code",
   "execution_count": null,
   "metadata": {},
   "outputs": [],
   "source": [
    "plt.title('Hours per Week')\n",
    "sns.distplot(hours)"
   ]
  },
  {
   "cell_type": "markdown",
   "metadata": {},
   "source": [
    "The next Variable, in the dataset I will simulate, will be the Adult Age Group. The age variable is a continuous numerical variable. From intensive research online, and reading of countless of reports and articles regarding Homelessness in Ireland. If anything, there seems to be a constant age group where the majority of Homeless Adults fit into. This age group is , ages between 25 -44yrs, with 45 -64yrs being the second largest group. Therefore I will simulate data of a general age from 18 - 80yrs, hoping that any person over the age of 80yrs is been cared for age appropiately, and additional data showcasing the age breakdown. I intend to use Draw samples from a uniform distribution, as this distribution will allow me to set both the lower and upper ranges for the age group, subesequently this is why I will proceed to break down the age range into smaller groups also, on doing this I can then see , which group will fit my data set best."
   ]
  },
  {
   "cell_type": "code",
   "execution_count": null,
   "metadata": {},
   "outputs": [],
   "source": [
    "# Age\n",
    "\n",
    "# Set the seed to generate numbers from\n",
    "np.random.seed(12) \n",
    "\n",
    "# https://stackoverflow.com/questions/36537811/numpy-trapezoidal-distribution-for-age-distribution\n",
    "\n",
    "agex = np.random.uniform(17,65,100) \n",
    "agey = np.random.triangular(17,42.3,65,100)\n",
    "age = np.concatenate((agex,agey)) \n",
    "\n",
    "age.round(1)"
   ]
  },
  {
   "cell_type": "code",
   "execution_count": null,
   "metadata": {
    "scrolled": true
   },
   "outputs": [],
   "source": [
    "len (age)"
   ]
  },
  {
   "cell_type": "code",
   "execution_count": null,
   "metadata": {},
   "outputs": [],
   "source": [
    "plt.hist(age)\n",
    "plt.ylabel('Number of People') # labelling y axis\n",
    "plt.xlabel('Age') # labelling x axis \n",
    "plt.title('Age Distribution') # Adding title\n",
    "plt.show()"
   ]
  },
  {
   "cell_type": "code",
   "execution_count": null,
   "metadata": {},
   "outputs": [],
   "source": [
    "plt.title('Age Distribution')\n",
    "sns.distplot(age)"
   ]
  },
  {
   "cell_type": "code",
   "execution_count": null,
   "metadata": {},
   "outputs": [],
   "source": [
    "# Job Satisfaction \n",
    "\n",
    "# Set the seed to generate numbers from\n",
    "np.random.seed(63) \n",
    "\n",
    "# (mean, standard deviation, size)\n",
    "job = np.random.normal(7.308, 1.968, 200)\n",
    "job"
   ]
  },
  {
   "cell_type": "code",
   "execution_count": null,
   "metadata": {},
   "outputs": [],
   "source": [
    "plt.hist(job)\n",
    "plt.ylabel('Number of People') # labelling y axis\n",
    "plt.xlabel('Job Satisfaction') # labelling x axis \n",
    "plt.title('Job Satisfaction Index') # Adding title\n",
    "plt.show()"
   ]
  },
  {
   "cell_type": "code",
   "execution_count": null,
   "metadata": {},
   "outputs": [],
   "source": [
    "plt.title('Job Satisfaction')\n",
    "sns.distplot(job)"
   ]
  },
  {
   "cell_type": "markdown",
   "metadata": {},
   "source": [
    "the job satisfaction index is marked otu of 10 but values are greater thanb 10, maybe  adifferent distribution????"
   ]
  },
  {
   "cell_type": "code",
   "execution_count": null,
   "metadata": {
    "scrolled": true
   },
   "outputs": [],
   "source": [
    "len (job)"
   ]
  },
  {
   "cell_type": "markdown",
   "metadata": {},
   "source": [
    "### 2.2 Relationships with Each Other\n",
    "Gender and marital status may determine if work-life balance is possible when starting children\n",
    "Good education may lead to a better job\n",
    "Some sectors are high pressure environments leading to stress\n",
    "Less hours and more pay should have a positive impact on your happiness \n",
    "Maybe work gets easier as you climb the ladder and get older\n",
    "Size of office may be capable of offering more benefits to its employees but also lacking in personability"
   ]
  },
  {
   "cell_type": "code",
   "execution_count": null,
   "metadata": {},
   "outputs": [],
   "source": [
    "df = pd.DataFrame({'Job Satisfaction' : job, 'Gender': gender, 'Education': education, 'Pay' : pay, 'Hours': hours, 'Age' : age.round(0)})\n",
    "sns.pairplot(df)"
   ]
  },
  {
   "cell_type": "code",
   "execution_count": null,
   "metadata": {},
   "outputs": [],
   "source": [
    "# pay vs hours, no correlation\n",
    "plt.scatter(pay,hours)"
   ]
  },
  {
   "cell_type": "code",
   "execution_count": null,
   "metadata": {},
   "outputs": [],
   "source": [
    "# pay vs hours, no correlation\n",
    "plt.scatter(job,age)"
   ]
  },
  {
   "cell_type": "code",
   "execution_count": null,
   "metadata": {},
   "outputs": [],
   "source": [
    "# pay vs hours, no correlation\n",
    "plt.scatter(gender,job)"
   ]
  },
  {
   "cell_type": "code",
   "execution_count": null,
   "metadata": {},
   "outputs": [],
   "source": [
    "plt.scatter(pay,job)\n",
    "plt.plot(np.unique(pay), np.poly1d(np.polyfit(pay, job, 1))(np.unique(pay)))"
   ]
  },
  {
   "cell_type": "markdown",
   "metadata": {},
   "source": [
    "esri probable job stress vs support chart"
   ]
  },
  {
   "cell_type": "markdown",
   "metadata": {},
   "source": [
    "# 3. Simulate a Data Set "
   ]
  },
  {
   "cell_type": "markdown",
   "metadata": {},
   "source": [
    "### 3.1 Create a dataframe"
   ]
  },
  {
   "cell_type": "code",
   "execution_count": null,
   "metadata": {},
   "outputs": [],
   "source": [
    "#Create dataframe with all the data randomly generated\n",
    "df = pd.DataFrame({'Job Satisfaction' : job, 'Gender': gender, 'Education': education, 'Pay' : pay, 'Hours': hours, 'Age' : age.round(0)})\n",
    "df.head()"
   ]
  },
  {
   "cell_type": "code",
   "execution_count": null,
   "metadata": {},
   "outputs": [],
   "source": [
    "# Add a new column calculating the Hourly Rate from Pay and Hours column\n",
    "df['Hourly Rate'] = df.Pay/df.Hours/52\n",
    "df.head()"
   ]
  },
  {
   "cell_type": "code",
   "execution_count": null,
   "metadata": {},
   "outputs": [],
   "source": [
    "# Create a column to identify those paid below Minimum Wage\n",
    "np.where(df['Hourly Rate'] < 9.55, 'Underpaid', 'Paid Correctly')\n",
    "\n",
    "df['Above or Below Minimum Wage'] = np.where(df['Hourly Rate'] < 9.55, 'Below', 'Above')\n",
    "df.head()"
   ]
  },
  {
   "cell_type": "code",
   "execution_count": null,
   "metadata": {},
   "outputs": [],
   "source": [
    "# Change column header Education to Third Level Education and change the variable returns in the cells\n",
    "df['Education'].replace({'Bachelors':'Grad', 'Post Bachelors':'Post Grad', 'No Bachelors' : 'None'}, inplace=True)\n",
    "df.head()"
   ]
  },
  {
   "cell_type": "code",
   "execution_count": null,
   "metadata": {},
   "outputs": [],
   "source": [
    "df.rename(columns={'Education': 'Third Level'}).head()"
   ]
  },
  {
   "cell_type": "code",
   "execution_count": null,
   "metadata": {},
   "outputs": [],
   "source": [
    "df.groupby('Gender').describe()"
   ]
  },
  {
   "cell_type": "code",
   "execution_count": null,
   "metadata": {},
   "outputs": [],
   "source": [
    "# Look at one row of data\n",
    "df.loc[25]"
   ]
  },
  {
   "cell_type": "code",
   "execution_count": null,
   "metadata": {},
   "outputs": [],
   "source": [
    "# Find out how many are being paid below Minimum Wage\n",
    "df.loc[df['Above or Below Minimum Wage'] == 'Below']"
   ]
  },
  {
   "cell_type": "code",
   "execution_count": null,
   "metadata": {},
   "outputs": [],
   "source": [
    "# Give the figure for those paid below Minimum Wage\n",
    "len(df.loc[df['Above or Below Minimum Wage'] == 'Below'])"
   ]
  },
  {
   "cell_type": "code",
   "execution_count": null,
   "metadata": {},
   "outputs": [],
   "source": [
    "# How many people have Third Level education\n",
    "df['Education'].value_counts()"
   ]
  },
  {
   "cell_type": "code",
   "execution_count": null,
   "metadata": {},
   "outputs": [],
   "source": [
    "# describe what the values mean in the numerical columns\n",
    "df.describe()"
   ]
  },
  {
   "cell_type": "markdown",
   "metadata": {},
   "source": [
    "Here, the average person's age 41, not far off the existing statistics. \n",
    "there's someone in the data clearly being taken advantage of - €1.70 an hour wage \n",
    "\n",
    "I adjusted the pay standard deviation from €15,000 to €10,000 which improved the figures for hourly rates and only one person was below minimum wage, however, I reset it again to check for outliers. \n"
   ]
  },
  {
   "cell_type": "markdown",
   "metadata": {},
   "source": [
    "### 3.2 Research Analysis"
   ]
  },
  {
   "cell_type": "code",
   "execution_count": null,
   "metadata": {},
   "outputs": [],
   "source": [
    "plt.figure(figsize=(10,10))\n",
    "\n",
    "plt.subplot(2, 1, 2)\n",
    "\n",
    "plt.title('Distribution of Pay')\n",
    "x = sns.boxplot(data=df, orient=\"h\",order=[ \"Pay\"]) ## displays all integer parameters of the dataset in boxplot form\n",
    "y = sns.swarmplot( data=df,orient=\"h\", color=\"0\",order=[\"Pay\"]) \n",
    "\n",
    "## Boxplots and swarmplot of Weight, Price and Price-Weight of the original dataset\n",
    "\n"
   ]
  },
  {
   "cell_type": "code",
   "execution_count": null,
   "metadata": {},
   "outputs": [],
   "source": [
    "plt.figure(figsize=(10,10))\n",
    "\n",
    "plt.subplot(2, 1, 2)\n",
    "\n",
    "plt.title('Number of Hours Per Week')\n",
    "x = sns.boxplot(data=df, orient=\"h\",order=[ \"Hours\"]) ## displays all integer parameters of the dataset in boxplot form\n",
    "y = sns.swarmplot( data=df,orient=\"h\", color=\"0\",order=[\"Hours\"]) "
   ]
  },
  {
   "cell_type": "code",
   "execution_count": null,
   "metadata": {},
   "outputs": [],
   "source": [
    "plt.figure(figsize=(10,10))\n",
    "\n",
    "plt.subplot(2, 1, 2)\n",
    "\n",
    "plt.title('Age Distribution')\n",
    "x = sns.boxplot(data=df, orient=\"h\",order=[ \"Age\"]) ## displays all integer parameters of the dataset in boxplot form\n",
    "y = sns.swarmplot( data=df,orient=\"h\", color=\"0\",order=[\"Age\"]) "
   ]
  },
  {
   "cell_type": "code",
   "execution_count": null,
   "metadata": {},
   "outputs": [],
   "source": [
    "plt.figure(figsize=(10,10))\n",
    "\n",
    "plt.subplot(2, 1, 2)\n",
    "\n",
    "plt.title('Job Satisfaction Index')\n",
    "x = sns.boxplot(data=df, orient=\"h\",order=[ \"Job Satisfaction\"]) ## displays all integer parameters of the dataset in boxplot form\n",
    "y = sns.swarmplot( data=df,orient=\"h\", color=\"0\",order=[\"Job Satisfaction\"]) "
   ]
  },
  {
   "cell_type": "code",
   "execution_count": null,
   "metadata": {},
   "outputs": [],
   "source": [
    "# Change column header Education to Third Level Education and change the variable returns in the cells\n",
    "df['Education'].replace({'Grad':1, 'Post Grad':2, 'None':0}, inplace=True)\n",
    "df['Gender'].replace({'Male':1, 'Female':0}, inplace=True)\n",
    "df['Above or Below Minimum Wage'].replace({'Above':1, 'Below':0}, inplace=True)\n",
    "df.head()"
   ]
  },
  {
   "cell_type": "code",
   "execution_count": null,
   "metadata": {},
   "outputs": [],
   "source": [
    "sns.lineplot(x=\"Hours\", y=\"Job Satisfaction\", hue = \"Gender\",  data=df)"
   ]
  },
  {
   "cell_type": "code",
   "execution_count": null,
   "metadata": {},
   "outputs": [],
   "source": [
    "plt.figure(figsize=(10,10))\n",
    "\n",
    "plt.subplot(2, 1, 2)\n",
    "\n",
    "sns.scatterplot(x=\"Hours\", y=\"Pay\", data=df, hue =\"Job Satisfaction\")\n",
    "\n"
   ]
  },
  {
   "cell_type": "code",
   "execution_count": null,
   "metadata": {},
   "outputs": [],
   "source": [
    "# linear regression indicating positive relationship between male and female infection per month.\n",
    "\n",
    "sns.lmplot(x=\"Pay\", y=\"Hours\", data=df)"
   ]
  },
  {
   "cell_type": "markdown",
   "metadata": {},
   "source": [
    "# K Nearest Neighbours"
   ]
  },
  {
   "cell_type": "code",
   "execution_count": null,
   "metadata": {},
   "outputs": [],
   "source": [
    "# sns.pairplot(df, hue=\"Job Satisfaction\")"
   ]
  },
  {
   "cell_type": "code",
   "execution_count": null,
   "metadata": {},
   "outputs": [],
   "source": [
    "sns.distplot(malc)\n",
    "plt.title('Male Alcohol Consumption in Grams Per Day ')\n",
    "plt.xlabel('Alcohol Consumption in Grams Per day ')\n",
    "plt.ylabel('Prevalence')\n",
    "plt.show()\n",
    "print(\"The mean male alcohol consumption in grams per day is\", np.mean(malc))"
   ]
  },
  {
   "cell_type": "code",
   "execution_count": null,
   "metadata": {},
   "outputs": [],
   "source": [
    "# Create regression plot via Seaborn [12].\n",
    "\n",
    "import warnings # Importing the Python warnings module to ignore a benign \"ImportWarning\" \n",
    "warnings.filterwarnings('ignore')\n",
    "\n",
    "import seaborn as sns\n",
    "\n",
    "sns.set_style(\"whitegrid\") # Adding a grid for better plot referencing \n",
    "sns.lmplot(x='Hours per week study', y='HDip grade', hue = 'Sex', data= dfnewer, palette=\"bright\", height = 5) \n",
    "\n",
    "# Let's also plot a joint plot to show the distributions:\n",
    "sns.set_style(\"darkgrid\")\n",
    "sns.jointplot(x='Hours per week study', y='HDip grade', data= dfnewer, kind=\"reg\")\n",
    "\n",
    "warnings.resetwarnings() # Reset the previously ignored warning to its default state"
   ]
  },
  {
   "cell_type": "code",
   "execution_count": null,
   "metadata": {},
   "outputs": [],
   "source": [
    "sns.pairplot(Batchdf, diag_kind='kde', plot_kws={'alpha':1.0});"
   ]
  },
  {
   "cell_type": "markdown",
   "metadata": {},
   "source": [
    "# References \n",
    "\n",
    "https://www.esri.ie/pubs/RS84.pdf\n",
    "***\n",
    "https://en.wikipedia.org/wiki/Simpson%27s_paradox\n",
    "***\n",
    "https://www.irishtimes.com/life-and-style/health-family/what-makes-us-happy-at-work-1.3347589\n",
    "***\n",
    "https://www.irishtimes.com/business/work/happiness-at-work-requires-good-relationships-purpose-and-vision-1.2025872\n",
    "***\n",
    "https://hbr.org/2017/09/happiness-traps\n",
    "***\n",
    "http://eureka.sbs.ox.ac.uk/6319/1/2017-07.pdf\n",
    "***\n",
    "https://s3.amazonaws.com/happiness-report/2018/WHR_web.pdf\n",
    "***\n",
    "https://drum.lib.umd.edu/bitstream/handle/1903/18191/Huang_umd_0117N_16920.pdf?sequence=1\n",
    "***\n",
    "https://stackoverflow.com/questions/36537811/numpy-trapezoidal-distribution-for-age-distribution\n",
    "***\n",
    "https://www.irishexaminer.com/breakingnews/ireland/this-is-the-average-full-time-wage-in-ireland-795670.html\n",
    "***\n",
    "https://www.cso.ie/en/releasesandpublications/er/elcq/earningsandlabourcostsq22018finalq32018preliminaryestimates/\n",
    "***\n",
    "https://www.cso.ie/en/releasesandpublications/ep/p-wamii/womenandmeninireland2016/employment/\n",
    "***\n",
    "http://www.governing.com/gov-data/ages-of-workforce-for-industries-average-medians.html\n",
    "***\n",
    "https://www.huffingtonpost.com/kristie-arslan/five-big-myths-about-amer_b_866118.html\n",
    "***\n",
    "https://docs.scipy.org/doc/numpy/reference/generated/numpy.random.choice.html\n",
    "***\n",
    "https://www.thejournal.ie/ireland-european-education-rankings-facts-eoghan-murphy-cnbc-2992092-Sep2016/\n",
    "***\n",
    "https://stackoverflow.com/questions/36537811/numpy-trapezoidal-distribution-for-age-distribution\n",
    "***\n",
    "https://books.google.ie/books?id=TPNFDwAAQBAJ&pg=PA82&lpg=PA82&dq=random+sample+python+male+female+dataframe&source=bl&ots=s696v_uf2o&sig=RtWn4gHinAg_CcHHrHfTEbVQ27Y&hl=en&sa=X&ved=2ahUKEwiq2M_h5Z3fAhXhRxUIHZOEB7sQ6AEwDHoECAoQAQ#v=onepage&q=random%20sample%20python%20male%20female%20dataframe&f=false\n",
    "***\n",
    "https://docs.scipy.org/doc/numpy-1.15.1/reference/routines.random.html"
   ]
  },
  {
   "cell_type": "markdown",
   "metadata": {},
   "source": [
    "# End"
   ]
  }
 ],
 "metadata": {
  "kernelspec": {
   "display_name": "Python 3",
   "language": "python",
   "name": "python3"
  },
  "language_info": {
   "codemirror_mode": {
    "name": "ipython",
    "version": 3
   },
   "file_extension": ".py",
   "mimetype": "text/x-python",
   "name": "python",
   "nbconvert_exporter": "python",
   "pygments_lexer": "ipython3",
   "version": "3.7.0"
  }
 },
 "nbformat": 4,
 "nbformat_minor": 2
}
