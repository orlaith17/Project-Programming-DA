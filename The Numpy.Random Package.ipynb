{
 "cells": [
  {
   "cell_type": "markdown",
   "metadata": {},
   "source": [
    "# The Numpy.Random Package\n",
    "\n",
    "The following assignment concerns the numpy.random package in Python. You are\n",
    "required to create a Jupyter notebook explaining the use of the package, including\n",
    "detailed explanations of at least five of the distributions provided for in the package.\n",
    "There are four distinct tasks to be carried out in your Jupyter notebook.\n",
    "1. Explain the overall purpose of the package.\n",
    "2. Explain the use of the “Simple random data” and “Permutations” functions.\n",
    "3. Explain the use and purpose of at least five “Distributions” functions.\n",
    "4. Explain the use of seeds in generating pseudorandom numbers."
   ]
  },
  {
   "cell_type": "markdown",
   "metadata": {},
   "source": [
    "# 1. Explain the overall purpose of the package"
   ]
  },
  {
   "cell_type": "markdown",
   "metadata": {},
   "source": [
    "![numpy logo](https://cdn-images-1.medium.com/max/1600/1*mc5YIn7jvo5uwuqBOUDw7Q.jpeg)\n",
    "\n",
    "Numpy is a really important package in Python because it is the fundamental package for scientific computing and alot of other packages within Python depend on it. \n",
    "\n",
    "The numpy.random module (Random Sampling) is a sub-package of the Numpy package which contains many functions for the generation of random numbers. The numbers are not quite random. They are termed pseudorandom because computers cannot generate random numbers. It takes a parameter to start off the sequence, called the seed. \n",
    "\n",
    "![random number generation](https://i.stack.imgur.com/KwzKK.png)\n",
    "\n",
    "Numpy.random uses a particular algorithm, called the Mersenne Twister, to generate the pseudorandom numbers. The Mersenne Twister is by far the most widely used general-purpose pseudorandom number generator (PRNG)."
   ]
  },
  {
   "cell_type": "markdown",
   "metadata": {},
   "source": [
    "The use of randomness is an important part of the configuration and evaluation of machine learning algorithms. Some uses for random number generators include the:\n",
    "- Random initialization of weights in an artificial neural network\n",
    "- Splitting of data into random train and test set\n",
    "- Random shuffling of a training dataset in stochastic gradient descent"
   ]
  },
  {
   "cell_type": "code",
   "execution_count": 116,
   "metadata": {},
   "outputs": [],
   "source": [
    "# load Numpy\n",
    "import numpy as np\n",
    "\n",
    "# load Matplotlib for plotting\n",
    "import matplotlib.pyplot as plt\n",
    "% matplotlib inline"
   ]
  },
  {
   "cell_type": "markdown",
   "metadata": {},
   "source": [
    "# 2. Explain the use of the “Simple random data” and “Permutations” functions."
   ]
  },
  {
   "cell_type": "markdown",
   "metadata": {},
   "source": [
    "## (i) Simple Random Data\n",
    "\n",
    "(standard and normal are generally the same so there is no need to go into great detail on both)\n",
    "![numpy graph](https://docs.scipy.org/doc/numpy-1.15.0/_images/numpy-random-normal-1.png) "
   ]
  },
  {
   "cell_type": "markdown",
   "metadata": {},
   "source": [
    "In statistics, a simple random sample is a subset of individuals (a sample) chosen from a larger set (a population). Each individual is chosen randomly and entirely by chance, such that each individual has the same probability of being chosen at any stage during the sampling process, and each subset of k individuals has the same probability of being chosen for the sample as any other subset of k individuals. This process and technique is known as simple random sampling, and should not be confused with systematic random sampling. A simple random sample is an unbiased surveying technique.\n",
    "\n",
    "Simple random sampling is a basic type of sampling, since it can be a component of other more complex sampling methods. The principle of simple random sampling is that every object has the same probability of being chosen, e.g. winning the Lottery or a raffle. \n",
    "\n",
    "Simple random sampling refers to a sampling method that has the following properties: \n",
    "- The population consists of N objects.\n",
    "- The sample consists of n objects.\n",
    "- All possible samples of n objects are equally likely to occur.\n",
    "\n",
    "An important benefit of simple random sampling is that it allows researchers to use statistical methods to analyze sample results. \n",
    "\n",
    "The Simple Random Data functions in Numpy.random generate random numbers and number sets for a given distribution. "
   ]
  },
  {
   "cell_type": "code",
   "execution_count": 146,
   "metadata": {
    "scrolled": true
   },
   "outputs": [
    {
     "data": {
      "text/plain": [
       "array([[0.43015136, 0.76453077, 0.59973081],\n",
       "       [0.08094696, 0.70454447, 0.16401332],\n",
       "       [0.03234935, 0.32815036, 0.47386   ],\n",
       "       [0.06808472, 0.3827107 , 0.11855414]])"
      ]
     },
     "execution_count": 146,
     "metadata": {},
     "output_type": "execute_result"
    }
   ],
   "source": [
    "np.random.rand(4,3)\n",
    "\n",
    "# rand function is between [0, 1). [0 includes 0, 1) excludes 1\n",
    "# returns random values in a given shape"
   ]
  },
  {
   "cell_type": "code",
   "execution_count": 147,
   "metadata": {},
   "outputs": [
    {
     "data": {
      "text/plain": [
       "0.8963285184297781"
      ]
     },
     "execution_count": 147,
     "metadata": {},
     "output_type": "execute_result"
    }
   ],
   "source": [
    "np.random.rand()\n",
    "# returns one value when left blank"
   ]
  },
  {
   "cell_type": "code",
   "execution_count": 148,
   "metadata": {},
   "outputs": [
    {
     "data": {
      "text/plain": [
       "array([0.76430853, 0.37540494, 0.02581418, ..., 0.00607009, 0.81728759,\n",
       "       0.37322417])"
      ]
     },
     "execution_count": 148,
     "metadata": {},
     "output_type": "execute_result"
    }
   ],
   "source": [
    "# returns 10000 random numbers between 0 and 1\n",
    "x = np.random.rand(10000)\n",
    "x"
   ]
  },
  {
   "cell_type": "code",
   "execution_count": 123,
   "metadata": {},
   "outputs": [
    {
     "data": {
      "text/plain": [
       "(array([1032.,  987., 1009.,  971., 1019.,  998.,  963., 1014.,  998.,\n",
       "        1009.]),\n",
       " array([3.72555755e-05, 1.00008074e-01, 1.99978892e-01, 2.99949710e-01,\n",
       "        3.99920528e-01, 4.99891346e-01, 5.99862164e-01, 6.99832982e-01,\n",
       "        7.99803800e-01, 8.99774618e-01, 9.99745436e-01]),\n",
       " <a list of 10 Patch objects>)"
      ]
     },
     "execution_count": 123,
     "metadata": {},
     "output_type": "execute_result"
    },
    {
     "data": {
      "image/png": "[encoded data removed]",
      "text/plain": [
       "<Figure size 432x288 with 1 Axes>"
      ]
     },
     "metadata": {
      "needs_background": "light"
     },
     "output_type": "display_data"
    }
   ],
   "source": [
    "# result is a fairly even distribution of numbers\n",
    "plt.hist (x)"
   ]
  },
  {
   "cell_type": "code",
   "execution_count": 149,
   "metadata": {},
   "outputs": [
    {
     "data": {
      "text/plain": [
       "array([7.80842344, 5.94221946, 5.66998396, 5.16822221, 5.32309994,\n",
       "       7.67645331, 5.62811473, 7.20700787, 5.38390611, 5.49465751])"
      ]
     },
     "execution_count": 149,
     "metadata": {},
     "output_type": "execute_result"
    }
   ],
   "source": [
    "# .rand gives you numbers from 0-1 whereas .uniform lets you define the numbers\n",
    "\n",
    "np.random.uniform(5,8,10)\n",
    "# 10 generated random numbers between 5 a"
   ]
  },
  {
   "cell_type": "code",
   "execution_count": 125,
   "metadata": {},
   "outputs": [],
   "source": [
    "y = np.random.uniform(5,8,10)"
   ]
  },
  {
   "cell_type": "code",
   "execution_count": 126,
   "metadata": {},
   "outputs": [
    {
     "data": {
      "text/plain": [
       "(array([1., 0., 1., 2., 0., 2., 1., 1., 0., 2.]),\n",
       " array([5.02648911, 5.3083085 , 5.59012788, 5.87194727, 6.15376665,\n",
       "        6.43558604, 6.71740543, 6.99922481, 7.2810442 , 7.56286359,\n",
       "        7.84468297]),\n",
       " <a list of 10 Patch objects>)"
      ]
     },
     "execution_count": 126,
     "metadata": {},
     "output_type": "execute_result"
    },
    {
     "data": {
      "image/png": "[encoded data removed]",
      "text/plain": [
       "<Figure size 432x288 with 1 Axes>"
      ]
     },
     "metadata": {
      "needs_background": "light"
     },
     "output_type": "display_data"
    }
   ],
   "source": [
    "plt.hist (y)"
   ]
  },
  {
   "cell_type": "code",
   "execution_count": 159,
   "metadata": {},
   "outputs": [
    {
     "data": {
      "text/plain": [
       "array([-0.05986213,  1.08676268,  0.95031773, -1.23741976,  1.4215057 ,\n",
       "       -0.44827569, -2.89264791, -0.80933001, -2.6334924 ,  1.41589235,\n",
       "        0.707915  ])"
      ]
     },
     "execution_count": 159,
     "metadata": {},
     "output_type": "execute_result"
    }
   ],
   "source": [
    "# Return a sample (or samples) from the “standard normal” distribution\n",
    "np.random.randn(11)"
   ]
  },
  {
   "cell_type": "code",
   "execution_count": 160,
   "metadata": {},
   "outputs": [
    {
     "data": {
      "text/plain": [
       "(array([2., 1., 1., 1., 0., 2., 1., 0., 1., 2.]),\n",
       " array([-0.72997075, -0.47467397, -0.21937718,  0.0359196 ,  0.29121639,\n",
       "         0.54651317,  0.80180996,  1.05710675,  1.31240353,  1.56770032,\n",
       "         1.8229971 ]),\n",
       " <a list of 10 Patch objects>)"
      ]
     },
     "execution_count": 160,
     "metadata": {},
     "output_type": "execute_result"
    },
    {
     "data": {
      "image/png": "[encoded data removed]",
      "text/plain": [
       "<Figure size 432x288 with 1 Axes>"
      ]
     },
     "metadata": {
      "needs_background": "light"
     },
     "output_type": "display_data"
    }
   ],
   "source": [
    "plt.hist(np.random.randn(11))"
   ]
  },
  {
   "cell_type": "code",
   "execution_count": 165,
   "metadata": {},
   "outputs": [
    {
     "data": {
      "text/plain": [
       "9"
      ]
     },
     "execution_count": 165,
     "metadata": {},
     "output_type": "execute_result"
    }
   ],
   "source": [
    "# Generates a random sample from a given 1-D array\n",
    "# generates an integer between 0 and 10\n",
    "np.random.choice(11)"
   ]
  },
  {
   "cell_type": "markdown",
   "metadata": {},
   "source": [
    "## (ii) Permutations\n",
    "\n",
    "There are only two functions in the Permutations category of numpy.random; shuffle and permutation. \n",
    "\n",
    "A permutation is an arrangement of all or part of a set of objects, with regard to the order of the arrangement. For example, suppose we have a set of three letters: A, B, and C. We might ask how many ways we can arrange 2 letters from that set. \n",
    "\n",
    "Note the distinction between a permutation and a combination . A combination focuses on the selection of objects without regard to the order in which they are selected. A permutation, in contrast, focuses on the arrangement of objects with regard to the order in which they are arranged. \n",
    "\n",
    "The permutation function is distinct from shuffle since shuffle modifies the sequence of numbers whereas permutation modifies the sequence of numbers and returns a value/string. \n",
    "\n",
    "Parameters\n",
    "- n distinct objects taken r at a time"
   ]
  },
  {
   "cell_type": "code",
   "execution_count": 144,
   "metadata": {},
   "outputs": [
    {
     "data": {
      "text/plain": [
       "array([2, 3, 4, 9, 6, 7, 1, 8, 5, 0])"
      ]
     },
     "execution_count": 144,
     "metadata": {},
     "output_type": "execute_result"
    }
   ],
   "source": [
    "# shuffle(x)\n",
    "# Modify a sequence in-place by shuffling its contents.\n",
    "\n",
    "# string of numbers 0-9\n",
    "arr = np.arange(10)\n",
    "# puts the string of numbers 0-9 in a random order\n",
    "np.random.shuffle(arr)\n",
    "# returns arr\n",
    "arr\n"
   ]
  },
  {
   "cell_type": "code",
   "execution_count": 145,
   "metadata": {},
   "outputs": [
    {
     "data": {
      "text/plain": [
       "array([3, 5, 1, 2, 6, 7, 4, 9, 8, 0])"
      ]
     },
     "execution_count": 145,
     "metadata": {},
     "output_type": "execute_result"
    }
   ],
   "source": [
    "# permutation(x)\n",
    "# Randomly permute a sequence, or return a permuted range.\n",
    "\n",
    "# as above returns the string of numbers 0-9 in a random order with one line of code\n",
    "np.random.permutation(10)\n"
   ]
  },
  {
   "cell_type": "markdown",
   "metadata": {},
   "source": [
    "# 3. Explain the use and purpose of at least five “Distributions” functions."
   ]
  },
  {
   "cell_type": "markdown",
   "metadata": {},
   "source": [
    "Probability distributions describe what we think the probability of each outcome is, which is sometimes more interesting to know than simply which single outcome is most likely. They come in many shapes, but in only one size: probabilities in a distribution always add up to 1."
   ]
  },
  {
   "cell_type": "markdown",
   "metadata": {},
   "source": [
    "![main probability distributions](http://blog.cloudera.com/wp-content/uploads/2015/12/distribution.png)"
   ]
  },
  {
   "cell_type": "markdown",
   "metadata": {},
   "source": [
    "## (i) Bernoulli / Binomial\n",
    "### \"Unfair coin toss\"\n",
    "\n",
    "A distribution over 0 and 1, over 0 heads (i.e. tails) or 1 heads. Both outcomes are equally likely, and that’s what’s illustrated in the diagram. The Bernoulli PDF has two lines of equal height, representing the two equally-probable outcomes of 0 and 1 at either end.\n",
    "\n",
    "The Bernoulli distribution could represent outcomes that aren’t equally likely, like the result of an unfair coin toss. Then, the probability of heads is not 0.5, but some other value p, and the probability of tails is 1-p. \n",
    "\n",
    "If you pass n=1 to the Binomial distribution it is equivalent to the Bernoulli distribution. In this case the function could be thought of simulating coin flips. \n",
    "\n",
    "Parameters:\n",
    "- Trials\n",
    "- Probability\n",
    "- Size\n",
    "\n",
    "A Binomially distributed random variable has two parameters n and p, and can be thought of as the distribution of the number of heads obtained when flipping a biased coin n times, where the probability of getting a head at each flip is p."
   ]
  },
  {
   "cell_type": "code",
   "execution_count": 131,
   "metadata": {},
   "outputs": [
    {
     "data": {
      "text/plain": [
       "array([1, 0, 1, 3, 0, 2, 1, 0, 0, 1, 3, 2, 2, 2, 0, 0, 0, 1, 3, 1, 0, 0,\n",
       "       1, 0, 1, 1, 1, 0, 1, 1])"
      ]
     },
     "execution_count": 131,
     "metadata": {},
     "output_type": "execute_result"
    }
   ],
   "source": [
    "n, p = 10, .1  # number of trials, probability of each trial\n",
    "s = np.random.binomial(n, p, 30)\n",
    "# result of flipping a coin 10 times, tested 30 times.\n",
    "s"
   ]
  },
  {
   "cell_type": "code",
   "execution_count": 132,
   "metadata": {},
   "outputs": [
    {
     "data": {
      "text/plain": [
       "0.040685"
      ]
     },
     "execution_count": 132,
     "metadata": {},
     "output_type": "execute_result"
    }
   ],
   "source": [
    "# 9 trial holes on land by sea. Estimated probability of good soil of 0.3. All trial holes are waterlogged sandy soil. What is the probability of that happening?\n",
    "# Let’s do 200,000 trials of the model, and count the number that generate zero positive results.\n",
    "\n",
    "sum(np.random.binomial(9, 0.3, 200000) == 0)/200000\n",
    "# answer = 0.04, or 4%."
   ]
  },
  {
   "cell_type": "markdown",
   "metadata": {},
   "source": [
    "#### Bernoulli trials are experiments with one of two outcomes: success or failure, e.g. flipping a coin. The geometric distribution models the number of trials that must be run in order to achieve success. "
   ]
  },
  {
   "cell_type": "markdown",
   "metadata": {},
   "source": [
    "## (ii) Geometric\n",
    "### “How many failures until a success?”\n",
    "![geometric distributions](https://www.mql5.com/en/docs/img/demogeometricdistribution.png)\n",
    "\n",
    "\n",
    "\n",
    "Bernoulli trials are experiments with one of two outcomes: success or failure (an example of such an experiment is flipping a coin). The geometric distribution models the number of trials that must be run in order to achieve success. It is therefore also represented by positive integers. \n",
    "\n",
    "Parameters:\t\n",
    "- Probability of success of individual trial\n",
    "- Size"
   ]
  },
  {
   "cell_type": "code",
   "execution_count": 133,
   "metadata": {},
   "outputs": [
    {
     "data": {
      "text/plain": [
       "0.4962"
      ]
     },
     "execution_count": 133,
     "metadata": {},
     "output_type": "execute_result"
    }
   ],
   "source": [
    "# Draw ten thousand values from the geometric distribution, with the probability of an individual success equal to 0.5:\n",
    "z = np.random.geometric(p=0.5, size=10000)\n",
    "# How many trials succeeded after a single run?\n",
    "\n",
    "(z == 1).sum() / 10000.\n",
    "# answer = 0.4963, or 49-50%."
   ]
  },
  {
   "cell_type": "code",
   "execution_count": 134,
   "metadata": {},
   "outputs": [
    {
     "data": {
      "text/plain": [
       "array([ 53,  19,  33,  40,  57,  29,  92,  68,  87, 106])"
      ]
     },
     "execution_count": 134,
     "metadata": {},
     "output_type": "execute_result"
    }
   ],
   "source": [
    "# np.random.geometric(p,n)\n",
    "\n",
    "np.random.geometric(.01, 10)\n",
    "\n",
    "# To make it close to uniform you make p close to 1. p represents the probability of a Bernoulli trial succeeding. When p=1, all trials succeed, so the output is an array of ones. "
   ]
  },
  {
   "cell_type": "markdown",
   "metadata": {},
   "source": [
    "#### The exponent in geometric sequence formula is always integer. Hence if you plot the sequence you get step-function kind of discrete plot with sudden jumps. The exponent of exponential growth is real number. So we have differential (smooth) and continuous plot for the exponential growth."
   ]
  },
  {
   "cell_type": "markdown",
   "metadata": {},
   "source": [
    "## (iii) Exponential\n",
    "\n",
    "### \"How long until the next customer calls in hours, minutes, seconds, milliseconds....infinitismel time slices\"\n",
    "\n",
    "The exponential distribution is a continuous analogue of the geometric distribution. It describes many common situations, such as the size of raindrops measured over many rainstorms, or the time between page requests to Wikipedia. \n",
    "\n",
    "Parameters:\t\n",
    "- Scale\n",
    "- Size\n",
    "\n",
    "How long until the next customer calls? The distribution of this waiting time sounds like it could be geometric, because every second that nobody calls is like a failure, until a second in which finally a customer calls. The number of failures is like the number of the seconds that nobody called, and that’s almost the waiting time until the next call, but almost isn’t close enough. The catch this time is that the sum will always be in whole seconds, but this fails to account for the wait within that second until the customer finally called.\n",
    "\n",
    "As before, take the geometric distribution to the limit, towards infinitesimal time slices, you get the exponential distribution, which accurately describes the distribution of time until a call. It’s a continuous distribution. "
   ]
  },
  {
   "cell_type": "code",
   "execution_count": 135,
   "metadata": {},
   "outputs": [
    {
     "data": {
      "text/plain": [
       "array([0.00988464, 0.01588272, 0.02730588, 0.01141633, 0.01039714,\n",
       "       0.00686317, 0.00232814, 0.00222964, 0.00809282, 0.00820191])"
      ]
     },
     "execution_count": 135,
     "metadata": {},
     "output_type": "execute_result"
    }
   ],
   "source": [
    "np.random.exponential(.01, 10)"
   ]
  },
  {
   "cell_type": "code",
   "execution_count": 136,
   "metadata": {},
   "outputs": [
    {
     "data": {
      "image/png": "[encoded data removed]",
      "text/plain": [
       "<Figure size 432x288 with 1 Axes>"
      ]
     },
     "metadata": {
      "needs_background": "light"
     },
     "output_type": "display_data"
    }
   ],
   "source": [
    "# np.random.exponential(p,n)\n",
    "n = 250\n",
    "p = 1.0/n\n",
    "\n",
    "Y = np.random.exponential(p, 5000)\n",
    "plt.hist(Y)\n",
    "plt.show()"
   ]
  },
  {
   "cell_type": "markdown",
   "metadata": {},
   "source": [
    "#### Echoing the binomial-geometric relationship, Poisson’s “How many events per time?” relates to the exponential’s “How long until an event?” Given events whose count per time follows a Poisson distribution, then the time between events follows an exponential distribution with the same rate parameter. Exponential is a continuous distribution while poisson is a discrete one."
   ]
  },
  {
   "cell_type": "markdown",
   "metadata": {},
   "source": [
    "## (iv) Poisson\n",
    "\n",
    "### \"Count of customers calling a support hotline\" \n",
    "\n",
    "A discrete frequency distribution which gives the probability of a number of independent events occurring in a fixed time.\n",
    "\n",
    "For instance, an individual keeping track of the amount of mail they receive each day may notice that they receive an average number of 4 letters per day. If receiving any particular piece of mail does not affect the arrival times of future pieces of mail, i.e., if pieces of mail from a wide range of sources arrive independently of one another, then a reasonable assumption is that the number of pieces of mail received in a day obeys a Poisson distribution. \n",
    "\n",
    "Like the binomial distribution, the Poisson distribution is the distribution of a count—the count of times something happened. The Poisson distribution is what you must think of when trying to count events over a time given the continuous rate of events occurring.\n",
    "\n",
    "Parameters: \n",
    "- Average number of successes occurring in a given time interval, the constant value of np where n is number of trials and p is probability\n",
    "- Known constant rate of np"
   ]
  },
  {
   "cell_type": "code",
   "execution_count": 137,
   "metadata": {},
   "outputs": [
    {
     "data": {
      "image/png": "[encoded data removed]",
      "text/plain": [
       "<Figure size 432x288 with 1 Axes>"
      ]
     },
     "metadata": {
      "needs_background": "light"
     },
     "output_type": "display_data"
    }
   ],
   "source": [
    "s = np.random.poisson(15, 1000)\n",
    "\n",
    "# Display histogram of the sample:\n",
    "count, bins, ignored = plt.hist(s, 14, density=True)\n",
    "plt.show()"
   ]
  },
  {
   "cell_type": "markdown",
   "metadata": {},
   "source": [
    "#### The sum of Bernoulli trials follows a binomial distribution, and as the number of trials increases, that binomial distribution becomes more like the normal distribution. Its cousin the hypergeometric distribution does too. The Poisson distribution—an extreme form of binomial—also approaches the normal distribution as the rate parameter increases."
   ]
  },
  {
   "cell_type": "markdown",
   "metadata": {},
   "source": [
    "## (v) Normal (Gaussian)\n",
    "\n",
    "### \"Take a bunch of values following the same distribution — any distribution — and sum them\"\n",
    "\n",
    "The Gaussian distribution is a continuous function which approximates the exact binomial distribution of events. It is related to distributions of sums of things. The Gaussian distribution is normalized so that the sum over all values of x gives a probability of 1. It is a bell shaped curve and this particular type of distribution is called the central limit theorem. \n",
    "\n",
    "The normal distributions occurs often in nature. For example, it describes the commonly occurring distribution of samples influenced by a large number of tiny, random disturbances, each with its own unique distribution. \n",
    "\n",
    "Parameters:\t\n",
    "- Mean (mu)\n",
    "- Standard deviation (sigma)"
   ]
  },
  {
   "cell_type": "code",
   "execution_count": 138,
   "metadata": {},
   "outputs": [
    {
     "name": "stderr",
     "output_type": "stream",
     "text": [
      "C:\\Users\\user\\Anaconda3\\lib\\site-packages\\matplotlib\\axes\\_axes.py:6571: UserWarning: The 'normed' kwarg is deprecated, and has been replaced by the 'density' kwarg.\n",
      "  warnings.warn(\"The 'normed' kwarg is deprecated, and has been \"\n"
     ]
    },
    {
     "data": {
      "image/png": "[encoded data removed]",
      "text/plain": [
       "<Figure size 432x288 with 1 Axes>"
      ]
     },
     "metadata": {
      "needs_background": "light"
     },
     "output_type": "display_data"
    }
   ],
   "source": [
    "mu, sigma = 0.5, 0.1\n",
    "s = np.random.normal(mu, sigma, 1000)\n",
    "\n",
    "# Create the bins and histogram\n",
    "count, bins, ignored = plt.hist(s, 20, normed=True)\n",
    "\n",
    "# Plot the distribution curve\n",
    "plt.plot(bins, 1/(sigma * np.sqrt(2 * np.pi)) *\n",
    "    np.exp( - (bins - mu)**2 / (2 * sigma**2) ),       linewidth=3, color='y')\n",
    "plt.show()"
   ]
  },
  {
   "cell_type": "code",
   "execution_count": 150,
   "metadata": {},
   "outputs": [],
   "source": [
    "z = np.random.normal(500, 100, 10000)"
   ]
  },
  {
   "cell_type": "code",
   "execution_count": 151,
   "metadata": {},
   "outputs": [
    {
     "data": {
      "text/plain": [
       "(array([  10.,  117.,  662., 1797., 2945., 2675., 1363.,  373.,   52.,\n",
       "           6.]), array([122.83392194, 201.15152626, 279.46913057, 357.78673488,\n",
       "        436.10433919, 514.4219435 , 592.73954782, 671.05715213,\n",
       "        749.37475644, 827.69236075, 906.00996506]), <a list of 10 Patch objects>)"
      ]
     },
     "execution_count": 151,
     "metadata": {},
     "output_type": "execute_result"
    },
    {
     "data": {
      "image/png": "[encoded data removed]",
      "text/plain": [
       "<Figure size 432x288 with 1 Axes>"
      ]
     },
     "metadata": {
      "needs_background": "light"
     },
     "output_type": "display_data"
    }
   ],
   "source": [
    "plt.hist (z)"
   ]
  },
  {
   "cell_type": "markdown",
   "metadata": {},
   "source": [
    "# 4. Explain the use of seeds in generating pseudorandom numbers"
   ]
  },
  {
   "cell_type": "markdown",
   "metadata": {},
   "source": [
    "The source of randomness that we inject into our programs and algorithms is a mathematical trick called a pseudorandom number generator. A random number generator is a system that generates random numbers from a true source of randomness. In machine learning, pseudorandomness is a sample of numbers that look close to true random, but were generated using a deterministic process, meaning the sequence is seeded with an initial number and given the same seed, it will produce the same sequence of numbers every time. The choice of seed does not matter. \n",
    "\n",
    "The seed is the key piece of information related to the beginning of the generation of numbers. Generally, if you do not explicitly seed the pseudorandom number generator, then it may use the current system time in seconds or milliseconds as the seed.\n",
    "\n",
    "Pi has a decimel expansion that never repeats or ends which makes it a simple example of picking a seed and random number generation.  \n",
    "\n",
    "Parameters:\t\n",
    "- For an input x called seed and a count n, returns a set of values "
   ]
  },
  {
   "cell_type": "code",
   "execution_count": 139,
   "metadata": {},
   "outputs": [
    {
     "name": "stdout",
     "output_type": "stream",
     "text": [
      "0.13436424411240122 0.8474337369372327 0.763774618976614\n",
      "0.13436424411240122 0.8474337369372327 0.763774618976614\n"
     ]
    }
   ],
   "source": [
    "# seed the pseudorandom number generator\n",
    "from random import seed\n",
    "from random import random\n",
    "# seed random number generator\n",
    "seed(1)\n",
    "# generate some random numbers\n",
    "print(random(), random(), random())\n",
    "# reset the seed\n",
    "seed(1)\n",
    "# generate some random numbers\n",
    "print(random(), random(), random())"
   ]
  },
  {
   "cell_type": "markdown",
   "metadata": {},
   "source": [
    "Running the example seeds the pseudorandom number generator with the value 1, generates 3 random numbers, reseeds the generator, and shows that the same three random numbers are generated."
   ]
  },
  {
   "cell_type": "code",
   "execution_count": 140,
   "metadata": {},
   "outputs": [
    {
     "data": {
      "text/plain": [
       "array([[0.27259261, 0.27646426, 0.80187218],\n",
       "       [0.95813935, 0.87593263, 0.35781727]])"
      ]
     },
     "execution_count": 140,
     "metadata": {},
     "output_type": "execute_result"
    }
   ],
   "source": [
    "np.random.seed(1234)\n",
    "\n",
    "np.random.uniform(0, 10, 5)\n",
    "\n",
    "np.random.rand(2,3)"
   ]
  },
  {
   "cell_type": "code",
   "execution_count": 141,
   "metadata": {},
   "outputs": [
    {
     "data": {
      "text/plain": [
       "array([[0.50308317, 0.01376845, 0.77282662],\n",
       "       [0.88264119, 0.36488598, 0.61539618]])"
      ]
     },
     "execution_count": 141,
     "metadata": {},
     "output_type": "execute_result"
    }
   ],
   "source": [
    "np.random.RandomState(1234)\n",
    "\n",
    "np.random.uniform(0, 10, 5)\n",
    "\n",
    "np.random.rand(2,3)"
   ]
  },
  {
   "cell_type": "markdown",
   "metadata": {},
   "source": [
    "np.random.seed(0) resets the state of the existing global RandomState instance that underlies the functions in the np.random namespace. np.random.RandomState(0) returns a new seeded RandomState instance but otherwise does not change anything. You have to use the returned RandomState instance to get consistent pseudorandom numbers. If you use the functions in the numpy.random namespace, you will not get consistent pseudorandom numbers because they are pulling from a different RandomState instance than the one just created. In the interest of reproducibility, it is highly preferable to structure your code to pass around RandomState instances. These functions make the random numbers predictable which is useful when testing using random number generators. "
   ]
  },
  {
   "cell_type": "markdown",
   "metadata": {},
   "source": [
    "# References \n",
    "\n",
    "https://machinelearningmastery.com/how-to-generate-random-numbers-in-python/\n",
    "***\n",
    "https://en.wikipedia.org/wiki/Mersenne_Twister\n",
    "***\n",
    "https://stattrek.com/survey-research/simple-random-sampling.aspx\n",
    "***\n",
    "https://stattrek.com/statistics/dictionary.aspx?definition=permutation\n",
    "***\n",
    "https://docs.scipy.org/doc/numpy-1.14.1/reference/routines.random.html\n",
    "***\n",
    "https://www.packtpub.com/mapt/book/big_data_and_business_intelligence/9781785285110/2/ch02lvl1sec16/numpy-random-numbers\n",
    "***\n",
    "https://stattrek.com/survey-research/simple-random-sampling.aspx\n",
    "***\n",
    "https://stackoverflow.com/questions/47231852/np-random-rand-vs-np-random-random\n",
    "***\n",
    "https://towardsdatascience.com/a-quick-introduction-to-the-numpy-library-6f61b7dee4db\n",
    "***\n",
    "https://en.wikipedia.org/wiki/Simple_random_sample\n",
    "***\n",
    "https://en.wikipedia.org/wiki/Random_seed\n",
    "***\n",
    "https://www.quora.com/What-is-seed-in-random-number-generation\n",
    "***\n",
    "http://blog.cloudera.com/blog/2015/12/common-probability-distributions-the-data-scientists-crib-sheet/\n",
    "***\n",
    "https://stackoverflow.com/questions/16317420/sample-integers-from-truncated-geometric-distribution\n",
    "***\n",
    "https://stackoverflow.com/questions/15091982/manipulating-the-numpy-random-exponential-distribution-in-python\n",
    "***\n",
    "https://en.wikipedia.org/wiki/Poisson_distribution\n",
    "***\n",
    "https://stackoverflow.com/questions/35729290/python-numpy-poisson-distribution\n",
    "***\n",
    "http://hyperphysics.phy-astr.gsu.edu/hbase/Math/gaufcn.html\n",
    "***\n",
    "https://www.quora.com/What-is-seed-in-random-number-generation\n",
    "***\n",
    "https://www.tutorialspoint.com/python/python_normal_distribution.htm\n",
    "***"
   ]
  },
  {
   "cell_type": "markdown",
   "metadata": {},
   "source": [
    "# End"
   ]
  }
 ],
 "metadata": {
  "kernelspec": {
   "display_name": "Python 3",
   "language": "python",
   "name": "python3"
  },
  "language_info": {
   "codemirror_mode": {
    "name": "ipython",
    "version": 3
   },
   "file_extension": ".py",
   "mimetype": "text/x-python",
   "name": "python",
   "nbconvert_exporter": "python",
   "pygments_lexer": "ipython3",
   "version": "3.7.0"
  }
 },
 "nbformat": 4,
 "nbformat_minor": 2
}
