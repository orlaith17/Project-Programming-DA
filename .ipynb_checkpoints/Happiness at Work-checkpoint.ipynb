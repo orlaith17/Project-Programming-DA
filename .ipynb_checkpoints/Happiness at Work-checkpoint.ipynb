{
 "cells": [
  {
   "cell_type": "markdown",
   "metadata": {},
   "source": [
    "For this project you must create a data set by simulating a real-world phenomenon of\n",
    "your choosing. You may pick any phenomenon you wish – you might pick one that is\n",
    "of interest to you in your personal or professional life. Then, rather than collect data\n",
    "related to the phenomenon, you should model and synthesise such data using Python.\n",
    "We suggest you use the numpy.random package for this purpose.\n",
    "Specifically, in this project you should:\n",
    "- Choose a real-world phenomenon that can be measured and for which you could collect at least one-hundred data points across at least four different variables.\n",
    "- Investigate the types of variables involved, their likely distributions, and their relationships with each other.\n",
    "- Synthesise/simulate a data set as closely matching their properties as possible.\n",
    "- Detail your research and implement the simulation in a Jupyter notebook – the data set itself can simply be displayed in an output cell within the notebook."
   ]
  },
  {
   "cell_type": "markdown",
   "metadata": {},
   "source": [
    "# 1. Happiness at Work \n",
    "\n",
    "### Real-world Phenomenon with at least one-hundred data points across four variables. \n",
    "\n",
    "![employee happy face](https://www.incimages.com/uploaded_files/image/970x450/getty_175280847_9707219704500142_47976.jpg)\n",
    "\n",
    "There is an assumption that to be successful and paid well in your job will amount to happiness. Happier employees are more productive and organizations try to improve their employees’ happiness with the objective to achieve higher profitability and company value. In fact, a 2015 review of several global studies concluded that happier employees were up to 12% more productive. Basing the project on the figures from the workplace I intend to investigate some contributing factors to happiness in the workplace. "
   ]
  },
  {
   "cell_type": "markdown",
   "metadata": {},
   "source": [
    "### Identify the Variables \n",
    "\n",
    "Some factors affecting your happiness at work may include but not limited to: \n",
    "\n",
    "- Gender \n",
    "- Marital status \n",
    "- Education \n",
    "- Sector \n",
    "- Pay \n",
    "- Hours of Work \n",
    "- Age \n",
    "- Size of Office "
   ]
  },
  {
   "cell_type": "markdown",
   "metadata": {},
   "source": [
    "# 2. Variables \n",
    "\n",
    "### Investigate variables, their likely distributions and relationships with each other"
   ]
  },
  {
   "cell_type": "markdown",
   "metadata": {},
   "source": [
    "<img src=\"http://blog.cloudera.com/wp-content/uploads/2015/12/distribution.png\" alt=\"Drawing\" style=\"width: 500px;\"/>"
   ]
  },
  {
   "cell_type": "markdown",
   "metadata": {},
   "source": [
    "### Explicit/Named Variables\n",
    "\n",
    "Gender \n",
    "- Variable 1: Male\n",
    "- Variable 2: Female\n",
    "- Assumption that there is an equitable distribution of men and women\n",
    "- 50/50 Bernoulli distribution\n",
    "\n",
    "Marital status \n",
    "- Variable 1: Single (30%)\n",
    "- Variable 2: Partnered (70%)\n",
    "- Arbitrary assumption\n",
    "- Binomial distribution\n",
    "\n",
    "Education \n",
    "- Variable 1: Bachelors (40%)\n",
    "- Variable 2: No Bachelors (40%)\n",
    "- Variable 3: More than a Bachelors (20%)\n",
    "- Assumption based on the amount of third level qualifications from 1991-2016 at the CSO \n",
    "- Binomial distribution\n",
    "\n",
    "Sector \n",
    "- 35.7% of the employees’ companies are in private sector and closely held\n",
    "- 28.6% in private sector and public held\n",
    "- 29.5% in public sector, and \n",
    "- 6.2% in charity or non-profits. \n",
    "- 2014 US Happiness @ Work survey\n",
    "- Binomial distribution\n",
    "\n",
    "Size of Business \n",
    "- Micro <10 (20%)\n",
    "- Small-Medium 10-250 (60%)\n",
    "- Large 250+ (20%)\n",
    "- Assumption based on OECD Statistic shows that SMEs account for 60-70% of the workforce\n",
    "- Binomial distribution. This could have also been considered as a sliding scale variable with normal distribution peaking somewhere in the middle of the SMEs. \n",
    "\n",
    "### Sliding Scale Variables\n",
    "\n",
    "Pay (€)\n",
    "- Minimum: €18,041 (minimum wage in Ireland)\n",
    "- Mean: €45,611 is the mean wage based on 2016 CSO figures\n",
    "- Standard Deviation: €15,000 (Assumption)\n",
    "- Normal distribution\n",
    "\n",
    "Hours of Work (hrs)\n",
    "- Mean: 39 hours based on CSO statistic\n",
    "- Maximum: 48 (Irish legislation)\n",
    "- Normal distribution\n",
    "\n",
    "Age (yrs)\n",
    "- Range: 17-65 \n",
    "- Median: 42.3 years based on a US Age Demographic of workforce\n",
    "- Combined uniform and triangular distribution\n",
    "\n",
    "#### For the purposes of the Project, we will look at (i) Gender, (ii) Education, (iii) Pay, (iv) Hours of Work and (v) Age variables"
   ]
  },
  {
   "cell_type": "code",
   "execution_count": 355,
   "metadata": {},
   "outputs": [],
   "source": [
    "# Import numpy as np\n",
    "import numpy as np\n",
    "\n",
    "# import matplot\n",
    "import matplotlib.pyplot as plt\n",
    "\n",
    "#Use the 'inline' backend, so that the matplotlib graphs are included in notebook, next to the code\n",
    "%matplotlib inline\n",
    "\n",
    "# Import pandas\n",
    "import pandas as pd\n",
    "\n",
    "# import seaborn \n",
    "import seaborn as sns"
   ]
  },
  {
   "cell_type": "code",
   "execution_count": 356,
   "metadata": {},
   "outputs": [
    {
     "data": {
      "text/plain": [
       "array(['Female', 'Male', 'Female', 'Male', 'Female', 'Male', 'Female',\n",
       "       'Female', 'Female', 'Female', 'Male', 'Female', 'Male', 'Female',\n",
       "       'Female', 'Male', 'Male', 'Female', 'Male', 'Male', 'Female',\n",
       "       'Female', 'Female', 'Male', 'Male', 'Male', 'Female', 'Female',\n",
       "       'Female', 'Female', 'Female', 'Female', 'Female', 'Male', 'Female',\n",
       "       'Male', 'Female', 'Male', 'Female', 'Male', 'Male', 'Male', 'Male',\n",
       "       'Male', 'Male', 'Male', 'Male', 'Female', 'Female', 'Female',\n",
       "       'Male', 'Female', 'Male', 'Male', 'Female', 'Female', 'Male',\n",
       "       'Female', 'Male', 'Female', 'Female', 'Male', 'Female', 'Male',\n",
       "       'Male', 'Male', 'Female', 'Female', 'Male', 'Male', 'Male', 'Male',\n",
       "       'Male', 'Female', 'Female', 'Female', 'Female', 'Male', 'Female',\n",
       "       'Male', 'Female', 'Male', 'Female', 'Male', 'Female', 'Male',\n",
       "       'Female', 'Male', 'Female', 'Male', 'Female', 'Male', 'Female',\n",
       "       'Female', 'Female', 'Female', 'Male', 'Female', 'Female', 'Female',\n",
       "       'Male', 'Male', 'Male', 'Female', 'Male', 'Female', 'Male',\n",
       "       'Female', 'Female', 'Male', 'Female', 'Male', 'Male', 'Female',\n",
       "       'Female', 'Female', 'Female', 'Male', 'Male', 'Male', 'Female',\n",
       "       'Male', 'Male', 'Male', 'Male', 'Male', 'Male', 'Male', 'Female',\n",
       "       'Male', 'Male', 'Female', 'Female', 'Male', 'Male', 'Male',\n",
       "       'Female', 'Male', 'Male', 'Female', 'Female', 'Male', 'Male',\n",
       "       'Female', 'Female', 'Male', 'Male', 'Female', 'Female', 'Male',\n",
       "       'Male', 'Female', 'Female', 'Male', 'Female', 'Male', 'Male',\n",
       "       'Female', 'Female', 'Female', 'Male', 'Male', 'Female', 'Female',\n",
       "       'Female', 'Male', 'Male', 'Male', 'Female', 'Female', 'Male',\n",
       "       'Male', 'Female', 'Female', 'Female', 'Male', 'Female', 'Female',\n",
       "       'Female', 'Female', 'Female', 'Female', 'Male', 'Male', 'Female',\n",
       "       'Male', 'Female', 'Female', 'Male', 'Female', 'Female', 'Male',\n",
       "       'Male', 'Male', 'Female', 'Male', 'Female', 'Male', 'Male', 'Male'],\n",
       "      dtype='<U6')"
      ]
     },
     "execution_count": 356,
     "metadata": {},
     "output_type": "execute_result"
    }
   ],
   "source": [
    "# Gender \n",
    "\n",
    "gender_arr = ['Male', 'Female']\n",
    "\n",
    "gender = (np.random.choice(a, 200))\n",
    "gender\n"
   ]
  },
  {
   "cell_type": "code",
   "execution_count": 357,
   "metadata": {},
   "outputs": [
    {
     "data": {
      "text/plain": [
       "200"
      ]
     },
     "execution_count": 357,
     "metadata": {},
     "output_type": "execute_result"
    }
   ],
   "source": [
    "len (gender)"
   ]
  },
  {
   "cell_type": "code",
   "execution_count": 358,
   "metadata": {},
   "outputs": [
    {
     "data": {
      "image/png": "[encoded data removed]",
      "text/plain": [
       "<Figure size 432x288 with 1 Axes>"
      ]
     },
     "metadata": {
      "needs_background": "light"
     },
     "output_type": "display_data"
    }
   ],
   "source": [
    "plt.hist(gender) \n",
    "plt.ylabel('Count of 200') # labelling y axis\n",
    "plt.xlabel('Gender') # labelling x axis \n",
    "plt.title('Gender Count') # Adding title\n",
    "\n",
    "plt.show()"
   ]
  },
  {
   "cell_type": "code",
   "execution_count": 359,
   "metadata": {},
   "outputs": [
    {
     "data": {
      "text/plain": [
       "array(['Bachelors', 'Post Bachelors', 'No Bachelors', 'Bachelors',\n",
       "       'No Bachelors', 'Bachelors', 'Post Bachelors', 'Bachelors',\n",
       "       'Bachelors', 'No Bachelors', 'Bachelors', 'No Bachelors',\n",
       "       'Bachelors', 'No Bachelors', 'Post Bachelors', 'Post Bachelors',\n",
       "       'Post Bachelors', 'No Bachelors', 'Bachelors', 'Post Bachelors',\n",
       "       'Bachelors', 'No Bachelors', 'Bachelors', 'Post Bachelors',\n",
       "       'No Bachelors', 'No Bachelors', 'No Bachelors', 'No Bachelors',\n",
       "       'Post Bachelors', 'No Bachelors', 'No Bachelors', 'No Bachelors',\n",
       "       'Bachelors', 'Bachelors', 'Bachelors', 'Bachelors',\n",
       "       'Post Bachelors', 'Bachelors', 'Bachelors', 'Post Bachelors',\n",
       "       'No Bachelors', 'No Bachelors', 'Post Bachelors', 'No Bachelors',\n",
       "       'Bachelors', 'Bachelors', 'Post Bachelors', 'No Bachelors',\n",
       "       'No Bachelors', 'Post Bachelors', 'No Bachelors', 'Bachelors',\n",
       "       'Bachelors', 'Bachelors', 'Bachelors', 'Bachelors', 'No Bachelors',\n",
       "       'Post Bachelors', 'Bachelors', 'No Bachelors', 'Post Bachelors',\n",
       "       'No Bachelors', 'Bachelors', 'Bachelors', 'Bachelors', 'Bachelors',\n",
       "       'Bachelors', 'Bachelors', 'Post Bachelors', 'No Bachelors',\n",
       "       'Bachelors', 'Bachelors', 'No Bachelors', 'Post Bachelors',\n",
       "       'Bachelors', 'No Bachelors', 'Post Bachelors', 'Bachelors',\n",
       "       'Post Bachelors', 'No Bachelors', 'Bachelors', 'No Bachelors',\n",
       "       'Bachelors', 'Bachelors', 'No Bachelors', 'No Bachelors',\n",
       "       'Bachelors', 'No Bachelors', 'No Bachelors', 'Bachelors',\n",
       "       'No Bachelors', 'Post Bachelors', 'Bachelors', 'No Bachelors',\n",
       "       'Bachelors', 'Post Bachelors', 'No Bachelors', 'Post Bachelors',\n",
       "       'Bachelors', 'Bachelors', 'Bachelors', 'No Bachelors',\n",
       "       'No Bachelors', 'No Bachelors', 'Bachelors', 'Post Bachelors',\n",
       "       'Bachelors', 'No Bachelors', 'No Bachelors', 'No Bachelors',\n",
       "       'Post Bachelors', 'No Bachelors', 'No Bachelors', 'No Bachelors',\n",
       "       'Bachelors', 'Post Bachelors', 'No Bachelors', 'Bachelors',\n",
       "       'Bachelors', 'No Bachelors', 'No Bachelors', 'Bachelors',\n",
       "       'No Bachelors', 'Bachelors', 'No Bachelors', 'No Bachelors',\n",
       "       'Bachelors', 'Post Bachelors', 'Bachelors', 'No Bachelors',\n",
       "       'Bachelors', 'No Bachelors', 'Bachelors', 'Bachelors',\n",
       "       'No Bachelors', 'Post Bachelors', 'No Bachelors', 'No Bachelors',\n",
       "       'No Bachelors', 'Bachelors', 'Bachelors', 'Bachelors', 'Bachelors',\n",
       "       'Bachelors', 'Bachelors', 'No Bachelors', 'No Bachelors',\n",
       "       'Bachelors', 'No Bachelors', 'Bachelors', 'Post Bachelors',\n",
       "       'No Bachelors', 'Post Bachelors', 'Bachelors', 'Bachelors',\n",
       "       'Bachelors', 'Bachelors', 'No Bachelors', 'Bachelors', 'Bachelors',\n",
       "       'No Bachelors', 'No Bachelors', 'No Bachelors', 'No Bachelors',\n",
       "       'Bachelors', 'Bachelors', 'No Bachelors', 'No Bachelors',\n",
       "       'Bachelors', 'Post Bachelors', 'Bachelors', 'Post Bachelors',\n",
       "       'Post Bachelors', 'No Bachelors', 'No Bachelors', 'Post Bachelors',\n",
       "       'Bachelors', 'Bachelors', 'Bachelors', 'Bachelors', 'No Bachelors',\n",
       "       'Post Bachelors', 'No Bachelors', 'Bachelors', 'No Bachelors',\n",
       "       'Bachelors', 'Bachelors', 'Bachelors', 'No Bachelors', 'Bachelors',\n",
       "       'Bachelors', 'Bachelors', 'No Bachelors', 'Bachelors',\n",
       "       'Post Bachelors', 'No Bachelors', 'Bachelors', 'Bachelors',\n",
       "       'No Bachelors', 'Bachelors'], dtype='<U14')"
      ]
     },
     "execution_count": 359,
     "metadata": {},
     "output_type": "execute_result"
    }
   ],
   "source": [
    "# Education \n",
    "\n",
    "# Set the seed to generate numbers from\n",
    "np.random.seed(55) \n",
    "\n",
    "education_arr = ['Bachelors', 'No Bachelors', 'Post Bachelors']\n",
    "education = np.random.choice(education_arr, 200, p= [0.4, 0.4, 0.2])\n",
    "\n",
    "education"
   ]
  },
  {
   "cell_type": "code",
   "execution_count": 360,
   "metadata": {
    "scrolled": true
   },
   "outputs": [
    {
     "data": {
      "text/plain": [
       "200"
      ]
     },
     "execution_count": 360,
     "metadata": {},
     "output_type": "execute_result"
    }
   ],
   "source": [
    "len (education)"
   ]
  },
  {
   "cell_type": "code",
   "execution_count": 361,
   "metadata": {},
   "outputs": [
    {
     "data": {
      "image/png": "[encoded data removed]",
      "text/plain": [
       "<Figure size 432x288 with 1 Axes>"
      ]
     },
     "metadata": {
      "needs_background": "light"
     },
     "output_type": "display_data"
    }
   ],
   "source": [
    "plt.hist(education)\n",
    "plt.ylabel('Count of 200') # labelling y axis\n",
    "plt.title('Education') # Adding title\n",
    "plt.show()"
   ]
  },
  {
   "cell_type": "code",
   "execution_count": 362,
   "metadata": {},
   "outputs": [
    {
     "data": {
      "text/plain": [
       "array([31784.44, 36816.24, 63070.99, 26985.14, 15832.55, 65211.63,\n",
       "       56678.11, 51297.67, 45625.84, 29035.48, 31461.39, 34805.44,\n",
       "       79830.34, 46135.51, 35492.47, 48883.07, 63114.26, 49813.22,\n",
       "       54023.79, 46475.22, 49586.64, 12446.49, 45181.08, 41658.61,\n",
       "       65292.36, 59761.97, 58207.41, 33917.94, 46185.34, 53320.73,\n",
       "       45547.43,  3412.36, 34529.08, 62402.18, 51401.78, 29154.87,\n",
       "       63731.69, 54479.64, 46516.87, 53542.4 , 75235.19, 41045.18,\n",
       "       62394.02, 59593.18, 58034.59, 46005.46, 30652.85, 13639.28,\n",
       "       20683.91, 40112.93, 46049.24, 57332.07, 60330.11, 52881.29,\n",
       "       18966.97, 44215.19, 58529.14, 36120.09, 17024.36, 36351.03,\n",
       "       66555.13, 69940.76, 73418.84, 44785.3 , 35969.33, 82976.42,\n",
       "       67944.96, 38175.96, 44486.67, 40453.05, 71147.3 , 46275.49,\n",
       "       64088.62, 45217.69, 70632.55, 62942.89, 54201.45, 75950.79,\n",
       "       39193.57, 39746.45, 43116.48, 23656.78, 56763.53, 42180.25,\n",
       "       37598.5 , 39298.3 , 60398.52, 52779.31, 44003.89, 21591.19,\n",
       "       28626.03, 52725.63, 46534.27, 51373.73, 26462.72, 30398.9 ,\n",
       "       51848.88, 70111.62, 61575.49, 38071.58, 21349.22, 78132.16,\n",
       "       55057.58, 68327.65, 23061.99, 41885.34, 63643.01, 42239.74,\n",
       "       48102.21, 29267.13, 39452.05, 53474.39, 29710.08, 56865.77,\n",
       "       25543.74, 39746.14, 42867.43, 29519.94, 55187.5 , 30342.07,\n",
       "       27528.05, 54091.42, 52377.13, 72722.27, 28766.1 , 37662.54,\n",
       "       85140.39, 32315.61, 65959.76, 43431.69, 30855.69, 45182.76,\n",
       "       41337.17, 20913.28, 26585.61, 26904.28, 66692.62, 28964.97,\n",
       "       49186.16, 67195.5 , 43388.75, 67865.1 , 36118.31, 35086.46,\n",
       "       28913.06, 33098.91, 25044.37, 49876.87, 32650.07, 56566.32,\n",
       "       58786.43, 51074.44, 41950.29, 40718.94, 37722.63, 45916.14,\n",
       "       27870.24, 38777.9 , 38984.76, 53427.55, 72605.86, 66648.12,\n",
       "       12250.34, 74642.5 , 47960.01, 29467.99, 45157.2 , 35181.08,\n",
       "       37708.98, 51232.37, 71519.91, 48331.83, 53648.31, 47787.77,\n",
       "       56958.57, 37564.54, 27719.64, 44997.75, 41458.61, 28442.4 ,\n",
       "       29209.92, 34158.94, 59089.28, 44478.02, 42955.67, 39535.67,\n",
       "       65057.76, 25672.09, 29029.21, 62189.46, 40065.98, 45330.75,\n",
       "       26506.6 , 33383.94, 61570.38, 46176.92, 43603.51, 56328.84,\n",
       "       34962.95, 52635.25])"
      ]
     },
     "execution_count": 362,
     "metadata": {},
     "output_type": "execute_result"
    }
   ],
   "source": [
    "# Pay\n",
    "\n",
    "# Set the seed to generate numbers from\n",
    "np.random.seed(60) \n",
    "\n",
    "# (mean, standard deviation, size), rounded to one decimal place\n",
    "pay = np.random.normal(45611, 15000, 200).round(2)\n",
    "pay"
   ]
  },
  {
   "cell_type": "code",
   "execution_count": 363,
   "metadata": {
    "scrolled": true
   },
   "outputs": [
    {
     "data": {
      "text/plain": [
       "200"
      ]
     },
     "execution_count": 363,
     "metadata": {},
     "output_type": "execute_result"
    }
   ],
   "source": [
    "len (pay)"
   ]
  },
  {
   "cell_type": "code",
   "execution_count": 364,
   "metadata": {},
   "outputs": [
    {
     "data": {
      "image/png": "[encoded data removed]",
      "text/plain": [
       "<Figure size 432x288 with 1 Axes>"
      ]
     },
     "metadata": {
      "needs_background": "light"
     },
     "output_type": "display_data"
    }
   ],
   "source": [
    "plt.hist(pay)\n",
    "plt.ylabel('Count of 200') # labelling y axis\n",
    "plt.xlabel('Payscale') # labelling x axis \n",
    "plt.title('Salary') # Adding title\n",
    "plt.show()"
   ]
  },
  {
   "cell_type": "code",
   "execution_count": 365,
   "metadata": {},
   "outputs": [
    {
     "data": {
      "image/png": "[encoded data removed]",
      "text/plain": [
       "<Figure size 432x288 with 1 Axes>"
      ]
     },
     "metadata": {
      "needs_background": "light"
     },
     "output_type": "display_data"
    }
   ],
   "source": [
    "plt.boxplot(pay)\n",
    "plt.ylabel('Distribution of Pay') # labelling y axis\n",
    "plt.title('Salary') # Adding title\n",
    "plt.show()"
   ]
  },
  {
   "cell_type": "code",
   "execution_count": 366,
   "metadata": {},
   "outputs": [
    {
     "data": {
      "text/plain": [
       "array([42.4 , 39.71, 35.59, 37.22, 38.19, 43.4 , 26.86, 37.34, 33.63,\n",
       "       35.91, 32.3 , 42.22, 37.02, 36.98, 36.62, 40.5 , 40.65, 38.27,\n",
       "       41.61, 43.3 , 33.86, 33.96, 51.36, 34.05, 36.83, 41.08, 35.86,\n",
       "       33.54, 38.65, 40.23, 33.33, 38.7 , 41.79, 36.5 , 36.15, 35.02,\n",
       "       38.25, 28.33, 37.68, 37.83, 38.42, 35.17, 48.08, 41.65, 42.6 ,\n",
       "       37.54, 40.85, 39.32, 37.62, 42.86, 42.88, 35.81, 42.14, 40.23,\n",
       "       43.43, 41.67, 41.99, 38.16, 38.84, 37.35, 35.96, 35.02, 34.01,\n",
       "       37.1 , 37.77, 36.75, 39.41, 35.76, 39.02, 47.6 , 39.09, 37.95,\n",
       "       42.09, 43.25, 40.53, 37.85, 39.52, 40.65, 42.13, 39.83, 42.55,\n",
       "       39.86, 30.21, 38.36, 36.14, 41.34, 41.33, 37.59, 45.61, 32.66,\n",
       "       31.75, 42.87, 41.42, 42.09, 28.33, 46.41, 39.95, 35.62, 37.93,\n",
       "       36.82, 41.87, 43.18, 36.28, 34.57, 41.08, 36.34, 33.76, 39.41,\n",
       "       47.67, 35.72, 31.69, 37.95, 35.82, 40.92, 35.24, 40.81, 32.25,\n",
       "       42.13, 34.37, 42.84, 39.54, 47.88, 38.  , 40.43, 46.77, 33.8 ,\n",
       "       42.87, 38.89, 43.25, 37.42, 38.22, 39.25, 43.32, 36.95, 39.76,\n",
       "       37.62, 48.06, 45.72, 32.26, 38.15, 37.83, 30.04, 36.18, 38.85,\n",
       "       46.31, 37.84, 40.84, 33.75, 37.99, 41.57, 39.88, 36.26, 37.38,\n",
       "       37.05, 38.41, 50.44, 46.62, 38.11, 35.36, 45.21, 38.36, 40.53,\n",
       "       37.94, 35.09, 44.86, 40.92, 35.37, 39.09, 37.9 , 37.09, 37.14,\n",
       "       38.26, 35.27, 33.74, 43.59, 33.63, 45.11, 42.02, 33.96, 40.28,\n",
       "       44.36, 31.38, 49.36, 44.31, 41.22, 43.64, 41.  , 37.18, 38.99,\n",
       "       33.95, 39.92, 38.95, 40.02, 37.45, 36.84, 35.66, 39.6 , 35.96,\n",
       "       45.72, 36.35])"
      ]
     },
     "execution_count": 366,
     "metadata": {},
     "output_type": "execute_result"
    }
   ],
   "source": [
    "# Hours at Work\n",
    "\n",
    "# Set the seed to generate numbers from\n",
    "np.random.seed(70) \n",
    "\n",
    "# (mean, standard deviation, size), rounded to one decimal place\n",
    "hours = np.random.normal(39, 4, 200).round(2) \n",
    "hours"
   ]
  },
  {
   "cell_type": "code",
   "execution_count": 367,
   "metadata": {
    "scrolled": true
   },
   "outputs": [
    {
     "data": {
      "text/plain": [
       "200"
      ]
     },
     "execution_count": 367,
     "metadata": {},
     "output_type": "execute_result"
    }
   ],
   "source": [
    "len (hours)"
   ]
  },
  {
   "cell_type": "code",
   "execution_count": 368,
   "metadata": {},
   "outputs": [
    {
     "data": {
      "image/png": "[encoded data removed]",
      "text/plain": [
       "<Figure size 432x288 with 1 Axes>"
      ]
     },
     "metadata": {
      "needs_background": "light"
     },
     "output_type": "display_data"
    }
   ],
   "source": [
    "plt.hist(hours)\n",
    "plt.ylabel('Number of People') # labelling y axis\n",
    "plt.xlabel('Number of Hours') # labelling x axis \n",
    "plt.title('Hours in a Week') # Adding title\n",
    "plt.show()"
   ]
  },
  {
   "cell_type": "code",
   "execution_count": 369,
   "metadata": {},
   "outputs": [
    {
     "data": {
      "text/plain": [
       "array([49.5, 41.6, 46.9, 39.9, 39.1, 62.6, 64.3, 58. , 45.4, 26.8, 29.6,\n",
       "       20.2, 48.1, 51.5, 33.9, 62.7, 45.6, 64.7, 43.1, 20.4, 23.8, 26.9,\n",
       "       41.3, 42.7, 42.5, 28.2, 46.1, 50.7, 20.2, 28.4, 24.6, 63.7, 51.1,\n",
       "       21. , 43.3, 23.8, 22.1, 46.6, 60.8, 60.5, 22.1, 33.3, 29.6, 29.7,\n",
       "       25.7, 19.8, 56.2, 38.9, 53.1, 54.8, 20.1, 39.2, 31. , 57.9, 32.3,\n",
       "       50.1, 32.1, 55.5, 18.1, 26.9, 47.5, 50.9, 31.8, 23.7, 45.9, 38.4,\n",
       "       28.5, 29.5, 56.7, 46.7, 17.7, 21.5, 17.3, 25.4, 34.3, 21.1, 30.6,\n",
       "       45.3, 52.9, 57.2, 63.3, 57.1, 50.1, 27.1, 18.5, 44.9, 29.8, 55. ,\n",
       "       40.5, 50. , 37.5, 20.8, 55.4, 60.8, 62.7, 26. , 50.8, 48.2, 31.3,\n",
       "       56.1, 39.7, 62.9, 23.4, 42.3, 64.4, 37.6, 36.7, 24.8, 61.9, 33. ,\n",
       "       17.2, 23.5, 22.4, 60.2, 49.4, 28.8, 34.7, 25.3, 55.3, 35.5, 41.6,\n",
       "       56.5, 52.8, 34.1, 56.4, 53.5, 47.4, 34.5, 35.1, 25.9, 23.7, 37.8,\n",
       "       54.5, 18. , 38.1, 59.7, 42.6, 42.9, 28.9, 26.4, 29.1, 35.9, 18.2,\n",
       "       48.9, 26.8, 61.9, 33.1, 44.7, 28.2, 41.6, 35.3, 17.7, 64.4, 56.4,\n",
       "       22.9, 57.2, 57.1, 58.2, 59.7, 23.3, 63.3, 35. , 37.2, 48.8, 47.6,\n",
       "       58.5, 42.8, 21.3, 36.6, 19.4, 48. , 57.1, 43.6, 41.9, 47.3, 60.7,\n",
       "       25.1, 41.3, 55.9, 44.9, 19.4, 39.3, 24.1, 40.4, 24.1, 55.4, 42.1,\n",
       "       57.4, 64.4, 27.2, 43. , 34.1, 38.4, 26.2, 63.8, 63.9, 47.4, 42. ,\n",
       "       52.2, 32.8, 26.6, 42.3, 38.4, 47.6, 49. , 38.2, 37. , 44.6, 48. ,\n",
       "       34.5, 29.2, 34.9, 62.3, 28.7, 44.3, 57. , 44.4, 39. , 44.3, 53.8,\n",
       "       42.6, 43.7, 32.7, 42.2, 44.9, 43.9, 34.3, 34.3, 37.6, 49.7, 49.8,\n",
       "       47.3, 36.3, 39.7, 39.8, 45.8, 50.9, 54.5, 49.6, 40.3, 35.7, 39.8,\n",
       "       45.7, 29.2, 54.5, 41.1, 39.8, 53. , 37.8, 28.5, 37.6, 35.1, 49.2,\n",
       "       47.7, 36.3, 42.5, 32.3, 43.1, 47.2, 35.6, 45.9, 38.9, 40. , 57.5,\n",
       "       57.1, 48. , 41. , 33.7, 50.9, 45.3, 46.6, 35.5, 55.2, 47.2, 23.5,\n",
       "       53.7, 61.4, 58.3, 39.4, 28.4, 44.3, 48.2, 43.8, 39. , 44.2, 41.6,\n",
       "       40.4, 44.5, 26.7, 43.6, 38.9, 40.8, 29.9, 54.2, 38.3, 55.3, 40.6,\n",
       "       40.4, 42.4, 48. , 37.3, 32.3, 38.5, 45. , 55.9, 54.4, 44.9, 50. ,\n",
       "       40. , 45.7, 59.6, 62.1, 46.7, 46.3, 48.7, 42.8, 44.9, 50. , 44.3,\n",
       "       54. , 41. , 44. , 47. , 56.2, 49.4])"
      ]
     },
     "execution_count": 369,
     "metadata": {},
     "output_type": "execute_result"
    }
   ],
   "source": [
    "# Age\n",
    "\n",
    "# Set the seed to generate numbers from\n",
    "np.random.seed(120) \n",
    "\n",
    "# https://stackoverflow.com/questions/36537811/numpy-trapezoidal-distribution-for-age-distribution\n",
    "\n",
    "agex = np.random.uniform(17,65,100) \n",
    "agey = np.random.triangular(17,42.3,65,100)\n",
    "age = np.concatenate((Agex,Agey)) \n",
    "\n",
    "age.round(1)"
   ]
  },
  {
   "cell_type": "code",
   "execution_count": 370,
   "metadata": {
    "scrolled": true
   },
   "outputs": [
    {
     "data": {
      "text/plain": [
       "325"
      ]
     },
     "execution_count": 370,
     "metadata": {},
     "output_type": "execute_result"
    }
   ],
   "source": [
    "#can't figure out why this isn't 200???\n",
    "len (age)"
   ]
  },
  {
   "cell_type": "code",
   "execution_count": 371,
   "metadata": {},
   "outputs": [
    {
     "data": {
      "image/png": "[encoded data removed]",
      "text/plain": [
       "<Figure size 432x288 with 1 Axes>"
      ]
     },
     "metadata": {
      "needs_background": "light"
     },
     "output_type": "display_data"
    }
   ],
   "source": [
    "plt.hist(age)\n",
    "plt.ylabel('Number of People') # labelling y axis\n",
    "plt.xlabel('Age') # labelling x axis \n",
    "plt.title('Age Distribution') # Adding title\n",
    "plt.show()"
   ]
  },
  {
   "cell_type": "code",
   "execution_count": 372,
   "metadata": {},
   "outputs": [
    {
     "data": {
      "image/png": "[encoded data removed]",
      "text/plain": [
       "<Figure size 432x288 with 1 Axes>"
      ]
     },
     "metadata": {
      "needs_background": "light"
     },
     "output_type": "display_data"
    }
   ],
   "source": [
    "plt.boxplot(age)\n",
    "plt.ylabel('Age') # labelling y axis \n",
    "plt.title('Age Distribution') # Adding title\n",
    "plt.show()"
   ]
  },
  {
   "cell_type": "markdown",
   "metadata": {},
   "source": [
    "### Possible Relationships with Each Other\n",
    "Gender and marital status may determine if work-life balance is possible when starting children\n",
    "Good education may lead to a better job\n",
    "Some sectors are high pressure environments leading to stress\n",
    "Less hours and more pay should have a positive impact on your happiness \n",
    "Maybe work gets easier as you climb the ladder and get older\n",
    "Size of office may be capable of offering more benefits to its employees but also lacking in personability"
   ]
  },
  {
   "cell_type": "markdown",
   "metadata": {},
   "source": [
    "esri probable job stress vs support chart"
   ]
  },
  {
   "cell_type": "markdown",
   "metadata": {},
   "source": [
    "# 3. Synthesise/simulate a data set \n",
    "\n",
    "Create a dataframe in pandas\n",
    "\n",
    "we should be capable to prepare the dataframe but that your research analysis will show your understanding of that information created\n",
    "\n",
    "use a seed to generate the numbers"
   ]
  },
  {
   "cell_type": "markdown",
   "metadata": {},
   "source": [
    "ians added two columns together - hourly rate???"
   ]
  },
  {
   "cell_type": "code",
   "execution_count": 373,
   "metadata": {},
   "outputs": [
    {
     "data": {
      "text/html": [
       "<div>\n",
       "<style scoped>\n",
       "    .dataframe tbody tr th:only-of-type {\n",
       "        vertical-align: middle;\n",
       "    }\n",
       "\n",
       "    .dataframe tbody tr th {\n",
       "        vertical-align: top;\n",
       "    }\n",
       "\n",
       "    .dataframe thead th {\n",
       "        text-align: right;\n",
       "    }\n",
       "</style>\n",
       "<table border=\"1\" class=\"dataframe\">\n",
       "  <thead>\n",
       "    <tr style=\"text-align: right;\">\n",
       "      <th></th>\n",
       "      <th>Gender</th>\n",
       "      <th>Education</th>\n",
       "      <th>Pay</th>\n",
       "      <th>Hours</th>\n",
       "    </tr>\n",
       "  </thead>\n",
       "  <tbody>\n",
       "    <tr>\n",
       "      <th>0</th>\n",
       "      <td>Female</td>\n",
       "      <td>Bachelors</td>\n",
       "      <td>31784.44</td>\n",
       "      <td>42.40</td>\n",
       "    </tr>\n",
       "    <tr>\n",
       "      <th>1</th>\n",
       "      <td>Male</td>\n",
       "      <td>Post Bachelors</td>\n",
       "      <td>36816.24</td>\n",
       "      <td>39.71</td>\n",
       "    </tr>\n",
       "    <tr>\n",
       "      <th>2</th>\n",
       "      <td>Female</td>\n",
       "      <td>No Bachelors</td>\n",
       "      <td>63070.99</td>\n",
       "      <td>35.59</td>\n",
       "    </tr>\n",
       "    <tr>\n",
       "      <th>3</th>\n",
       "      <td>Male</td>\n",
       "      <td>Bachelors</td>\n",
       "      <td>26985.14</td>\n",
       "      <td>37.22</td>\n",
       "    </tr>\n",
       "    <tr>\n",
       "      <th>4</th>\n",
       "      <td>Female</td>\n",
       "      <td>No Bachelors</td>\n",
       "      <td>15832.55</td>\n",
       "      <td>38.19</td>\n",
       "    </tr>\n",
       "  </tbody>\n",
       "</table>\n",
       "</div>"
      ],
      "text/plain": [
       "   Gender       Education       Pay  Hours\n",
       "0  Female       Bachelors  31784.44  42.40\n",
       "1    Male  Post Bachelors  36816.24  39.71\n",
       "2  Female    No Bachelors  63070.99  35.59\n",
       "3    Male       Bachelors  26985.14  37.22\n",
       "4  Female    No Bachelors  15832.55  38.19"
      ]
     },
     "execution_count": 373,
     "metadata": {},
     "output_type": "execute_result"
    }
   ],
   "source": [
    "#Create dataframe with all the data randomly generated\n",
    "\n",
    "\n",
    "\n",
    "df = pd.DataFrame({'Gender': gender, 'Education': education, 'Pay' : pay, 'Hours': hours})\n",
    "\n",
    "df.head()\n"
   ]
  },
  {
   "cell_type": "code",
   "execution_count": 374,
   "metadata": {},
   "outputs": [
    {
     "data": {
      "text/html": [
       "<div>\n",
       "<style scoped>\n",
       "    .dataframe tbody tr th:only-of-type {\n",
       "        vertical-align: middle;\n",
       "    }\n",
       "\n",
       "    .dataframe tbody tr th {\n",
       "        vertical-align: top;\n",
       "    }\n",
       "\n",
       "    .dataframe thead th {\n",
       "        text-align: right;\n",
       "    }\n",
       "</style>\n",
       "<table border=\"1\" class=\"dataframe\">\n",
       "  <thead>\n",
       "    <tr style=\"text-align: right;\">\n",
       "      <th></th>\n",
       "      <th>Gender</th>\n",
       "      <th>Education</th>\n",
       "      <th>Pay</th>\n",
       "      <th>Hours</th>\n",
       "      <th>Hourly Rate</th>\n",
       "    </tr>\n",
       "  </thead>\n",
       "  <tbody>\n",
       "    <tr>\n",
       "      <th>0</th>\n",
       "      <td>Female</td>\n",
       "      <td>Bachelors</td>\n",
       "      <td>31784.44</td>\n",
       "      <td>42.40</td>\n",
       "      <td>14.416020</td>\n",
       "    </tr>\n",
       "    <tr>\n",
       "      <th>1</th>\n",
       "      <td>Male</td>\n",
       "      <td>Post Bachelors</td>\n",
       "      <td>36816.24</td>\n",
       "      <td>39.71</td>\n",
       "      <td>17.829378</td>\n",
       "    </tr>\n",
       "    <tr>\n",
       "      <th>2</th>\n",
       "      <td>Female</td>\n",
       "      <td>No Bachelors</td>\n",
       "      <td>63070.99</td>\n",
       "      <td>35.59</td>\n",
       "      <td>34.079900</td>\n",
       "    </tr>\n",
       "    <tr>\n",
       "      <th>3</th>\n",
       "      <td>Male</td>\n",
       "      <td>Bachelors</td>\n",
       "      <td>26985.14</td>\n",
       "      <td>37.22</td>\n",
       "      <td>13.942638</td>\n",
       "    </tr>\n",
       "    <tr>\n",
       "      <th>4</th>\n",
       "      <td>Female</td>\n",
       "      <td>No Bachelors</td>\n",
       "      <td>15832.55</td>\n",
       "      <td>38.19</td>\n",
       "      <td>7.972561</td>\n",
       "    </tr>\n",
       "  </tbody>\n",
       "</table>\n",
       "</div>"
      ],
      "text/plain": [
       "   Gender       Education       Pay  Hours  Hourly Rate\n",
       "0  Female       Bachelors  31784.44  42.40    14.416020\n",
       "1    Male  Post Bachelors  36816.24  39.71    17.829378\n",
       "2  Female    No Bachelors  63070.99  35.59    34.079900\n",
       "3    Male       Bachelors  26985.14  37.22    13.942638\n",
       "4  Female    No Bachelors  15832.55  38.19     7.972561"
      ]
     },
     "execution_count": 374,
     "metadata": {},
     "output_type": "execute_result"
    }
   ],
   "source": [
    "df['Hourly Rate'] = df.Pay/df.Hours/52\n",
    "df.head()"
   ]
  },
  {
   "cell_type": "code",
   "execution_count": 375,
   "metadata": {},
   "outputs": [
    {
     "data": {
      "text/html": [
       "<div>\n",
       "<style scoped>\n",
       "    .dataframe tbody tr th:only-of-type {\n",
       "        vertical-align: middle;\n",
       "    }\n",
       "\n",
       "    .dataframe tbody tr th {\n",
       "        vertical-align: top;\n",
       "    }\n",
       "\n",
       "    .dataframe thead th {\n",
       "        text-align: right;\n",
       "    }\n",
       "</style>\n",
       "<table border=\"1\" class=\"dataframe\">\n",
       "  <thead>\n",
       "    <tr style=\"text-align: right;\">\n",
       "      <th></th>\n",
       "      <th>Gender</th>\n",
       "      <th>Education</th>\n",
       "      <th>Pay</th>\n",
       "      <th>Hours</th>\n",
       "      <th>Hourly Rate</th>\n",
       "      <th>Above or Below Minimum Wage</th>\n",
       "    </tr>\n",
       "  </thead>\n",
       "  <tbody>\n",
       "    <tr>\n",
       "      <th>0</th>\n",
       "      <td>Female</td>\n",
       "      <td>Bachelors</td>\n",
       "      <td>31784.44</td>\n",
       "      <td>42.40</td>\n",
       "      <td>14.416020</td>\n",
       "      <td>Above</td>\n",
       "    </tr>\n",
       "    <tr>\n",
       "      <th>1</th>\n",
       "      <td>Male</td>\n",
       "      <td>Post Bachelors</td>\n",
       "      <td>36816.24</td>\n",
       "      <td>39.71</td>\n",
       "      <td>17.829378</td>\n",
       "      <td>Above</td>\n",
       "    </tr>\n",
       "    <tr>\n",
       "      <th>2</th>\n",
       "      <td>Female</td>\n",
       "      <td>No Bachelors</td>\n",
       "      <td>63070.99</td>\n",
       "      <td>35.59</td>\n",
       "      <td>34.079900</td>\n",
       "      <td>Above</td>\n",
       "    </tr>\n",
       "    <tr>\n",
       "      <th>3</th>\n",
       "      <td>Male</td>\n",
       "      <td>Bachelors</td>\n",
       "      <td>26985.14</td>\n",
       "      <td>37.22</td>\n",
       "      <td>13.942638</td>\n",
       "      <td>Above</td>\n",
       "    </tr>\n",
       "    <tr>\n",
       "      <th>4</th>\n",
       "      <td>Female</td>\n",
       "      <td>No Bachelors</td>\n",
       "      <td>15832.55</td>\n",
       "      <td>38.19</td>\n",
       "      <td>7.972561</td>\n",
       "      <td>Below</td>\n",
       "    </tr>\n",
       "  </tbody>\n",
       "</table>\n",
       "</div>"
      ],
      "text/plain": [
       "   Gender       Education       Pay  Hours  Hourly Rate  \\\n",
       "0  Female       Bachelors  31784.44  42.40    14.416020   \n",
       "1    Male  Post Bachelors  36816.24  39.71    17.829378   \n",
       "2  Female    No Bachelors  63070.99  35.59    34.079900   \n",
       "3    Male       Bachelors  26985.14  37.22    13.942638   \n",
       "4  Female    No Bachelors  15832.55  38.19     7.972561   \n",
       "\n",
       "  Above or Below Minimum Wage  \n",
       "0                       Above  \n",
       "1                       Above  \n",
       "2                       Above  \n",
       "3                       Above  \n",
       "4                       Below  "
      ]
     },
     "execution_count": 375,
     "metadata": {},
     "output_type": "execute_result"
    }
   ],
   "source": [
    "np.where(df['Hourly Rate'] < 9.55, 'Underpaid', 'Paid Correctly')\n",
    "\n",
    "df['Above or Below Minimum Wage'] = np.where(df['Hourly Rate'] < 9.55, 'Below', 'Above')\n",
    "df.head()"
   ]
  },
  {
   "cell_type": "code",
   "execution_count": 376,
   "metadata": {},
   "outputs": [
    {
     "data": {
      "text/html": [
       "<div>\n",
       "<style scoped>\n",
       "    .dataframe tbody tr th:only-of-type {\n",
       "        vertical-align: middle;\n",
       "    }\n",
       "\n",
       "    .dataframe tbody tr th {\n",
       "        vertical-align: top;\n",
       "    }\n",
       "\n",
       "    .dataframe thead th {\n",
       "        text-align: right;\n",
       "    }\n",
       "</style>\n",
       "<table border=\"1\" class=\"dataframe\">\n",
       "  <thead>\n",
       "    <tr style=\"text-align: right;\">\n",
       "      <th></th>\n",
       "      <th>Pay</th>\n",
       "      <th>Hours</th>\n",
       "      <th>Hourly Rate</th>\n",
       "    </tr>\n",
       "  </thead>\n",
       "  <tbody>\n",
       "    <tr>\n",
       "      <th>count</th>\n",
       "      <td>200.000000</td>\n",
       "      <td>200.000000</td>\n",
       "      <td>200.000000</td>\n",
       "    </tr>\n",
       "    <tr>\n",
       "      <th>mean</th>\n",
       "      <td>45678.575850</td>\n",
       "      <td>38.897250</td>\n",
       "      <td>22.859610</td>\n",
       "    </tr>\n",
       "    <tr>\n",
       "      <th>std</th>\n",
       "      <td>15514.397613</td>\n",
       "      <td>4.181342</td>\n",
       "      <td>8.245822</td>\n",
       "    </tr>\n",
       "    <tr>\n",
       "      <th>min</th>\n",
       "      <td>3412.360000</td>\n",
       "      <td>26.860000</td>\n",
       "      <td>1.695667</td>\n",
       "    </tr>\n",
       "    <tr>\n",
       "      <th>25%</th>\n",
       "      <td>34736.350000</td>\n",
       "      <td>36.240000</td>\n",
       "      <td>17.330884</td>\n",
       "    </tr>\n",
       "    <tr>\n",
       "      <th>50%</th>\n",
       "      <td>45169.140000</td>\n",
       "      <td>38.360000</td>\n",
       "      <td>22.097052</td>\n",
       "    </tr>\n",
       "    <tr>\n",
       "      <th>75%</th>\n",
       "      <td>56699.465000</td>\n",
       "      <td>41.580000</td>\n",
       "      <td>27.878883</td>\n",
       "    </tr>\n",
       "    <tr>\n",
       "      <th>max</th>\n",
       "      <td>85140.390000</td>\n",
       "      <td>51.360000</td>\n",
       "      <td>43.445342</td>\n",
       "    </tr>\n",
       "  </tbody>\n",
       "</table>\n",
       "</div>"
      ],
      "text/plain": [
       "                Pay       Hours  Hourly Rate\n",
       "count    200.000000  200.000000   200.000000\n",
       "mean   45678.575850   38.897250    22.859610\n",
       "std    15514.397613    4.181342     8.245822\n",
       "min     3412.360000   26.860000     1.695667\n",
       "25%    34736.350000   36.240000    17.330884\n",
       "50%    45169.140000   38.360000    22.097052\n",
       "75%    56699.465000   41.580000    27.878883\n",
       "max    85140.390000   51.360000    43.445342"
      ]
     },
     "execution_count": 376,
     "metadata": {},
     "output_type": "execute_result"
    }
   ],
   "source": [
    "df.describe()"
   ]
  },
  {
   "cell_type": "code",
   "execution_count": null,
   "metadata": {},
   "outputs": [],
   "source": [
    "sns.pairplot(Batchdf, diag_kind='kde', plot_kws={'alpha':1.0});"
   ]
  },
  {
   "cell_type": "markdown",
   "metadata": {},
   "source": [
    "# 4. Detail your research and implement the simulation "
   ]
  },
  {
   "cell_type": "markdown",
   "metadata": {},
   "source": [
    "# 2. Explain the use of the “Simple random data” and “Permutations” functions."
   ]
  },
  {
   "cell_type": "markdown",
   "metadata": {},
   "source": [
    "## (i) Simple Random Data\n",
    "\n",
    "(standard and normal are generally the same so there is no need to go into great detail on both)\n",
    "![numpy graph](https://docs.scipy.org/doc/numpy-1.15.0/_images/numpy-random-normal-1.png) "
   ]
  },
  {
   "cell_type": "markdown",
   "metadata": {},
   "source": [
    "In statistics, a simple random sample is a subset of individuals (a sample) chosen from a larger set (a population). Each individual is chosen randomly and entirely by chance, such that each individual has the same probability of being chosen at any stage during the sampling process, and each subset of k individuals has the same probability of being chosen for the sample as any other subset of k individuals. This process and technique is known as simple random sampling, and should not be confused with systematic random sampling. A simple random sample is an unbiased surveying technique.\n",
    "\n",
    "Simple random sampling is a basic type of sampling, since it can be a component of other more complex sampling methods. The principle of simple random sampling is that every object has the same probability of being chosen, e.g. winning the Lottery or a raffle. \n",
    "\n",
    "Simple random sampling refers to a sampling method that has the following properties: \n",
    "- The population consists of N objects.\n",
    "- The sample consists of n objects.\n",
    "- All possible samples of n objects are equally likely to occur.\n",
    "\n",
    "An important benefit of simple random sampling is that it allows researchers to use statistical methods to analyze sample results. \n",
    "\n",
    "The Simple Random Data functions in Numpy.random generate random numbers and number sets for a given distribution. "
   ]
  },
  {
   "cell_type": "code",
   "execution_count": 380,
   "metadata": {
    "scrolled": true
   },
   "outputs": [
    {
     "data": {
      "text/plain": [
       "array([[0.07530298, 0.52604684, 0.37658901],\n",
       "       [0.72202485, 0.76549966, 0.37002354],\n",
       "       [0.32959523, 0.61666538, 0.73584634],\n",
       "       [0.25089952, 0.12272263, 0.26307668]])"
      ]
     },
     "execution_count": 380,
     "metadata": {},
     "output_type": "execute_result"
    }
   ],
   "source": [
    "np.random.rand(4,3)\n",
    "\n",
    "# rand function is between [0, 1). [0 includes 0, 1) excludes 1\n",
    "# returns random values in a given shape"
   ]
  },
  {
   "cell_type": "code",
   "execution_count": 381,
   "metadata": {},
   "outputs": [
    {
     "data": {
      "text/plain": [
       "0.9932278913466019"
      ]
     },
     "execution_count": 381,
     "metadata": {},
     "output_type": "execute_result"
    }
   ],
   "source": [
    "np.random.rand()\n",
    "# returns one value when left blank"
   ]
  },
  {
   "cell_type": "code",
   "execution_count": 382,
   "metadata": {},
   "outputs": [
    {
     "data": {
      "text/plain": [
       "array([0.11210338, 0.60570102, 0.94091583, ..., 0.97397671, 0.56349496,\n",
       "       0.5147849 ])"
      ]
     },
     "execution_count": 382,
     "metadata": {},
     "output_type": "execute_result"
    }
   ],
   "source": [
    "# returns 10000 random numbers between 0 and 1\n",
    "x = np.random.rand(10000)\n",
    "x"
   ]
  },
  {
   "cell_type": "code",
   "execution_count": 383,
   "metadata": {},
   "outputs": [
    {
     "data": {
      "text/plain": [
       "(array([ 994., 1026.,  982.,  985., 1002.,  948., 1018.,  998., 1014.,\n",
       "        1033.]),\n",
       " array([1.83819061e-05, 9.99868139e-02, 1.99955246e-01, 2.99923678e-01,\n",
       "        3.99892110e-01, 4.99860542e-01, 5.99828974e-01, 6.99797406e-01,\n",
       "        7.99765838e-01, 8.99734270e-01, 9.99702702e-01]),\n",
       " <a list of 10 Patch objects>)"
      ]
     },
     "execution_count": 383,
     "metadata": {},
     "output_type": "execute_result"
    },
    {
     "data": {
      "image/png": "[encoded data removed]",
      "text/plain": [
       "<Figure size 432x288 with 1 Axes>"
      ]
     },
     "metadata": {
      "needs_background": "light"
     },
     "output_type": "display_data"
    }
   ],
   "source": [
    "# result is a fairly even distribution of numbers\n",
    "plt.hist (x)"
   ]
  },
  {
   "cell_type": "code",
   "execution_count": 384,
   "metadata": {},
   "outputs": [
    {
     "data": {
      "text/plain": [
       "array([6.97705   , 6.44588828, 7.11395602, 5.4377035 , 6.02204891,\n",
       "       7.63100428, 6.46507339, 6.10750315, 6.11212607, 6.30875144])"
      ]
     },
     "execution_count": 384,
     "metadata": {},
     "output_type": "execute_result"
    }
   ],
   "source": [
    "# .rand gives you numbers from 0-1 whereas .uniform lets you define the numbers\n",
    "\n",
    "np.random.uniform(5,8,10)\n",
    "# 10 generated random numbers between 5 a"
   ]
  },
  {
   "cell_type": "code",
   "execution_count": 385,
   "metadata": {},
   "outputs": [],
   "source": [
    "y = np.random.uniform(5,8,10)"
   ]
  },
  {
   "cell_type": "code",
   "execution_count": 386,
   "metadata": {},
   "outputs": [
    {
     "data": {
      "text/plain": [
       "(array([3., 0., 2., 1., 1., 1., 1., 0., 0., 1.]),\n",
       " array([5.14823429, 5.42718927, 5.70614425, 5.98509924, 6.26405422,\n",
       "        6.54300921, 6.82196419, 7.10091917, 7.37987416, 7.65882914,\n",
       "        7.93778412]),\n",
       " <a list of 10 Patch objects>)"
      ]
     },
     "execution_count": 386,
     "metadata": {},
     "output_type": "execute_result"
    },
    {
     "data": {
      "image/png": "[encoded data removed]",
      "text/plain": [
       "<Figure size 432x288 with 1 Axes>"
      ]
     },
     "metadata": {
      "needs_background": "light"
     },
     "output_type": "display_data"
    }
   ],
   "source": [
    "plt.hist (y)"
   ]
  },
  {
   "cell_type": "code",
   "execution_count": 387,
   "metadata": {},
   "outputs": [
    {
     "data": {
      "text/plain": [
       "array([ 2.12541913,  1.03156469, -0.78266836,  1.17943757, -1.20216643,\n",
       "        0.38763115,  1.0075035 ,  0.26627664,  0.23218616,  1.07708023,\n",
       "        0.72704398])"
      ]
     },
     "execution_count": 387,
     "metadata": {},
     "output_type": "execute_result"
    }
   ],
   "source": [
    "# Return a sample (or samples) from the “standard normal” distribution\n",
    "np.random.randn(11)"
   ]
  },
  {
   "cell_type": "code",
   "execution_count": 388,
   "metadata": {},
   "outputs": [
    {
     "data": {
      "text/plain": [
       "(array([1., 1., 0., 1., 4., 0., 2., 0., 1., 1.]),\n",
       " array([-2.12737996, -1.76247618, -1.39757241, -1.03266863, -0.66776486,\n",
       "        -0.30286108,  0.06204269,  0.42694647,  0.79185024,  1.15675402,\n",
       "         1.52165779]),\n",
       " <a list of 10 Patch objects>)"
      ]
     },
     "execution_count": 388,
     "metadata": {},
     "output_type": "execute_result"
    },
    {
     "data": {
      "image/png": "[encoded data removed]",
      "text/plain": [
       "<Figure size 432x288 with 1 Axes>"
      ]
     },
     "metadata": {
      "needs_background": "light"
     },
     "output_type": "display_data"
    }
   ],
   "source": [
    "plt.hist(np.random.randn(11))"
   ]
  },
  {
   "cell_type": "code",
   "execution_count": 389,
   "metadata": {},
   "outputs": [
    {
     "data": {
      "text/plain": [
       "8"
      ]
     },
     "execution_count": 389,
     "metadata": {},
     "output_type": "execute_result"
    }
   ],
   "source": [
    "# Generates a random sample from a given 1-D array\n",
    "# generates an integer between 0 and 10\n",
    "np.random.choice(11)"
   ]
  },
  {
   "cell_type": "markdown",
   "metadata": {},
   "source": [
    "## (ii) Permutations\n",
    "\n",
    "There are only two functions in the Permutations category of numpy.random; shuffle and permutation. \n",
    "\n",
    "A permutation is an arrangement of all or part of a set of objects, with regard to the order of the arrangement. For example, suppose we have a set of three letters: A, B, and C. We might ask how many ways we can arrange 2 letters from that set. \n",
    "\n",
    "Note the distinction between a permutation and a combination . A combination focuses on the selection of objects without regard to the order in which they are selected. A permutation, in contrast, focuses on the arrangement of objects with regard to the order in which they are arranged. \n",
    "\n",
    "The permutation function is distinct from shuffle since shuffle modifies the sequence of numbers whereas permutation modifies the sequence of numbers and returns a value/string. \n",
    "\n",
    "Parameters\n",
    "- n distinct objects taken r at a time"
   ]
  },
  {
   "cell_type": "code",
   "execution_count": 390,
   "metadata": {},
   "outputs": [
    {
     "data": {
      "text/plain": [
       "array([8, 3, 2, 5, 4, 6, 0, 1, 7, 9])"
      ]
     },
     "execution_count": 390,
     "metadata": {},
     "output_type": "execute_result"
    }
   ],
   "source": [
    "# shuffle(x)\n",
    "# Modify a sequence in-place by shuffling its contents.\n",
    "\n",
    "# string of numbers 0-9\n",
    "arr = np.arange(10)\n",
    "# puts the string of numbers 0-9 in a random order\n",
    "np.random.shuffle(arr)\n",
    "# returns arr\n",
    "arr\n"
   ]
  },
  {
   "cell_type": "code",
   "execution_count": 391,
   "metadata": {},
   "outputs": [
    {
     "data": {
      "text/plain": [
       "array([3, 6, 7, 4, 1, 0, 5, 2, 9, 8])"
      ]
     },
     "execution_count": 391,
     "metadata": {},
     "output_type": "execute_result"
    }
   ],
   "source": [
    "# permutation(x)\n",
    "# Randomly permute a sequence, or return a permuted range.\n",
    "\n",
    "# as above returns the string of numbers 0-9 in a random order with one line of code\n",
    "np.random.permutation(10)\n"
   ]
  },
  {
   "cell_type": "markdown",
   "metadata": {},
   "source": [
    "# 3. Explain the use and purpose of at least five “Distributions” functions."
   ]
  },
  {
   "cell_type": "markdown",
   "metadata": {},
   "source": [
    "Probability distributions describe what we think the probability of each outcome is, which is sometimes more interesting to know than simply which single outcome is most likely. They come in many shapes, but in only one size: probabilities in a distribution always add up to 1."
   ]
  },
  {
   "cell_type": "markdown",
   "metadata": {},
   "source": [
    "## (i) Bernoulli / Binomial\n",
    "### \"Unfair coin toss\"\n",
    "\n",
    "A distribution over 0 and 1, over 0 heads (i.e. tails) or 1 heads. Both outcomes are equally likely, and that’s what’s illustrated in the diagram. The Bernoulli PDF has two lines of equal height, representing the two equally-probable outcomes of 0 and 1 at either end.\n",
    "\n",
    "The Bernoulli distribution could represent outcomes that aren’t equally likely, like the result of an unfair coin toss. Then, the probability of heads is not 0.5, but some other value p, and the probability of tails is 1-p. \n",
    "\n",
    "If you pass n=1 to the Binomial distribution it is equivalent to the Bernoulli distribution. In this case the function could be thought of simulating coin flips. \n",
    "\n",
    "Parameters:\n",
    "- Trials\n",
    "- Probability\n",
    "- Size\n",
    "\n",
    "A Binomially distributed random variable has two parameters n and p, and can be thought of as the distribution of the number of heads obtained when flipping a biased coin n times, where the probability of getting a head at each flip is p."
   ]
  },
  {
   "cell_type": "code",
   "execution_count": 392,
   "metadata": {},
   "outputs": [
    {
     "data": {
      "text/plain": [
       "array([1, 2, 1, 1, 1, 0, 2, 2, 2, 1, 1, 1, 3, 1, 0, 1, 1, 1, 1, 0, 0, 2,\n",
       "       2, 2, 0, 0, 0, 1, 3, 0])"
      ]
     },
     "execution_count": 392,
     "metadata": {},
     "output_type": "execute_result"
    }
   ],
   "source": [
    "n, p = 10, .1  # number of trials, probability of each trial\n",
    "s = np.random.binomial(n, p, 30)\n",
    "# result of flipping a coin 10 times, tested 30 times.\n",
    "s"
   ]
  },
  {
   "cell_type": "code",
   "execution_count": 393,
   "metadata": {},
   "outputs": [
    {
     "data": {
      "text/plain": [
       "0.040525"
      ]
     },
     "execution_count": 393,
     "metadata": {},
     "output_type": "execute_result"
    }
   ],
   "source": [
    "# 9 trial holes on land by sea. Estimated probability of good soil of 0.3. All trial holes are waterlogged sandy soil. What is the probability of that happening?\n",
    "# Let’s do 200,000 trials of the model, and count the number that generate zero positive results.\n",
    "\n",
    "sum(np.random.binomial(9, 0.3, 200000) == 0)/200000\n",
    "# answer = 0.04, or 4%."
   ]
  },
  {
   "cell_type": "markdown",
   "metadata": {},
   "source": [
    "#### Bernoulli trials are experiments with one of two outcomes: success or failure, e.g. flipping a coin. The geometric distribution models the number of trials that must be run in order to achieve success. "
   ]
  },
  {
   "cell_type": "markdown",
   "metadata": {},
   "source": [
    "## (ii) Geometric\n",
    "### “How many failures until a success?”\n",
    "![geometric distributions](https://www.mql5.com/en/docs/img/demogeometricdistribution.png)\n",
    "\n",
    "\n",
    "\n",
    "Bernoulli trials are experiments with one of two outcomes: success or failure (an example of such an experiment is flipping a coin). The geometric distribution models the number of trials that must be run in order to achieve success. It is therefore also represented by positive integers. \n",
    "\n",
    "Parameters:\t\n",
    "- Probability of success of individual trial\n",
    "- Size"
   ]
  },
  {
   "cell_type": "code",
   "execution_count": 394,
   "metadata": {},
   "outputs": [
    {
     "data": {
      "text/plain": [
       "0.4977"
      ]
     },
     "execution_count": 394,
     "metadata": {},
     "output_type": "execute_result"
    }
   ],
   "source": [
    "# Draw ten thousand values from the geometric distribution, with the probability of an individual success equal to 0.5:\n",
    "z = np.random.geometric(p=0.5, size=10000)\n",
    "# How many trials succeeded after a single run?\n",
    "\n",
    "(z == 1).sum() / 10000.\n",
    "# answer = 0.4963, or 49-50%."
   ]
  },
  {
   "cell_type": "code",
   "execution_count": 395,
   "metadata": {},
   "outputs": [
    {
     "data": {
      "text/plain": [
       "array([259, 152, 241,  16,  60,   7, 131,  29,  88,   5])"
      ]
     },
     "execution_count": 395,
     "metadata": {},
     "output_type": "execute_result"
    }
   ],
   "source": [
    "# np.random.geometric(p,n)\n",
    "\n",
    "np.random.geometric(.01, 10)\n",
    "\n",
    "# To make it close to uniform you make p close to 1. p represents the probability of a Bernoulli trial succeeding. When p=1, all trials succeed, so the output is an array of ones. "
   ]
  },
  {
   "cell_type": "markdown",
   "metadata": {},
   "source": [
    "#### The exponent in geometric sequence formula is always integer. Hence if you plot the sequence you get step-function kind of discrete plot with sudden jumps. The exponent of exponential growth is real number. So we have differential (smooth) and continuous plot for the exponential growth."
   ]
  },
  {
   "cell_type": "markdown",
   "metadata": {},
   "source": [
    "## (iii) Exponential\n",
    "\n",
    "### \"How long until the next customer calls in hours, minutes, seconds, milliseconds....infinitismel time slices\"\n",
    "\n",
    "The exponential distribution is a continuous analogue of the geometric distribution. It describes many common situations, such as the size of raindrops measured over many rainstorms, or the time between page requests to Wikipedia. \n",
    "\n",
    "Parameters:\t\n",
    "- Scale\n",
    "- Size\n",
    "\n",
    "How long until the next customer calls? The distribution of this waiting time sounds like it could be geometric, because every second that nobody calls is like a failure, until a second in which finally a customer calls. The number of failures is like the number of the seconds that nobody called, and that’s almost the waiting time until the next call, but almost isn’t close enough. The catch this time is that the sum will always be in whole seconds, but this fails to account for the wait within that second until the customer finally called.\n",
    "\n",
    "As before, take the geometric distribution to the limit, towards infinitesimal time slices, you get the exponential distribution, which accurately describes the distribution of time until a call. It’s a continuous distribution. "
   ]
  },
  {
   "cell_type": "code",
   "execution_count": 396,
   "metadata": {},
   "outputs": [
    {
     "data": {
      "text/plain": [
       "array([0.00271625, 0.00387364, 0.00105207, 0.00304906, 0.01169554,\n",
       "       0.00384515, 0.00789831, 0.00035269, 0.01347935, 0.00344115])"
      ]
     },
     "execution_count": 396,
     "metadata": {},
     "output_type": "execute_result"
    }
   ],
   "source": [
    "np.random.exponential(.01, 10)"
   ]
  },
  {
   "cell_type": "code",
   "execution_count": 397,
   "metadata": {},
   "outputs": [
    {
     "data": {
      "image/png": "[encoded data removed]",
      "text/plain": [
       "<Figure size 432x288 with 1 Axes>"
      ]
     },
     "metadata": {
      "needs_background": "light"
     },
     "output_type": "display_data"
    }
   ],
   "source": [
    "# np.random.exponential(p,n)\n",
    "n = 250\n",
    "p = 1.0/n\n",
    "\n",
    "Y = np.random.exponential(p, 5000)\n",
    "plt.hist(Y)\n",
    "plt.show()"
   ]
  },
  {
   "cell_type": "markdown",
   "metadata": {},
   "source": [
    "#### Echoing the binomial-geometric relationship, Poisson’s “How many events per time?” relates to the exponential’s “How long until an event?” Given events whose count per time follows a Poisson distribution, then the time between events follows an exponential distribution with the same rate parameter. Exponential is a continuous distribution while poisson is a discrete one."
   ]
  },
  {
   "cell_type": "markdown",
   "metadata": {},
   "source": [
    "## (iv) Poisson\n",
    "\n",
    "### \"Count of customers calling a support hotline\" \n",
    "\n",
    "A discrete frequency distribution which gives the probability of a number of independent events occurring in a fixed time.\n",
    "\n",
    "For instance, an individual keeping track of the amount of mail they receive each day may notice that they receive an average number of 4 letters per day. If receiving any particular piece of mail does not affect the arrival times of future pieces of mail, i.e., if pieces of mail from a wide range of sources arrive independently of one another, then a reasonable assumption is that the number of pieces of mail received in a day obeys a Poisson distribution. \n",
    "\n",
    "Like the binomial distribution, the Poisson distribution is the distribution of a count—the count of times something happened. The Poisson distribution is what you must think of when trying to count events over a time given the continuous rate of events occurring.\n",
    "\n",
    "Parameters: \n",
    "- Average number of successes occurring in a given time interval, the constant value of np where n is number of trials and p is probability\n",
    "- Known constant rate of np"
   ]
  },
  {
   "cell_type": "code",
   "execution_count": 398,
   "metadata": {},
   "outputs": [
    {
     "data": {
      "image/png": "[encoded data removed]",
      "text/plain": [
       "<Figure size 432x288 with 1 Axes>"
      ]
     },
     "metadata": {
      "needs_background": "light"
     },
     "output_type": "display_data"
    }
   ],
   "source": [
    "s = np.random.poisson(15, 1000)\n",
    "\n",
    "# Display histogram of the sample:\n",
    "count, bins, ignored = plt.hist(s, 14, density=True)\n",
    "plt.show()"
   ]
  },
  {
   "cell_type": "markdown",
   "metadata": {},
   "source": [
    "#### The sum of Bernoulli trials follows a binomial distribution, and as the number of trials increases, that binomial distribution becomes more like the normal distribution. Its cousin the hypergeometric distribution does too. The Poisson distribution—an extreme form of binomial—also approaches the normal distribution as the rate parameter increases."
   ]
  },
  {
   "cell_type": "markdown",
   "metadata": {},
   "source": [
    "## (v) Normal (Gaussian)\n",
    "\n",
    "### \"Take a bunch of values following the same distribution — any distribution — and sum them\"\n",
    "\n",
    "The Gaussian distribution is a continuous function which approximates the exact binomial distribution of events. It is related to distributions of sums of things. The Gaussian distribution is normalized so that the sum over all values of x gives a probability of 1. It is a bell shaped curve and this particular type of distribution is called the central limit theorem. \n",
    "\n",
    "The normal distributions occurs often in nature. For example, it describes the commonly occurring distribution of samples influenced by a large number of tiny, random disturbances, each with its own unique distribution. \n",
    "\n",
    "Parameters:\t\n",
    "- Mean (mu)\n",
    "- Standard deviation (sigma)"
   ]
  },
  {
   "cell_type": "code",
   "execution_count": 399,
   "metadata": {},
   "outputs": [
    {
     "name": "stderr",
     "output_type": "stream",
     "text": [
      "C:\\Users\\user\\Anaconda3\\lib\\site-packages\\matplotlib\\axes\\_axes.py:6571: UserWarning: The 'normed' kwarg is deprecated, and has been replaced by the 'density' kwarg.\n",
      "  warnings.warn(\"The 'normed' kwarg is deprecated, and has been \"\n"
     ]
    },
    {
     "data": {
      "image/png": "[encoded data removed]",
      "text/plain": [
       "<Figure size 432x288 with 1 Axes>"
      ]
     },
     "metadata": {
      "needs_background": "light"
     },
     "output_type": "display_data"
    }
   ],
   "source": [
    "mu, sigma = 0.5, 0.1\n",
    "s = np.random.normal(mu, sigma, 1000)\n",
    "\n",
    "# Create the bins and histogram\n",
    "count, bins, ignored = plt.hist(s, 20, normed=True)\n",
    "\n",
    "# Plot the distribution curve\n",
    "plt.plot(bins, 1/(sigma * np.sqrt(2 * np.pi)) *\n",
    "    np.exp( - (bins - mu)**2 / (2 * sigma**2) ),       linewidth=3, color='y')\n",
    "plt.show()"
   ]
  },
  {
   "cell_type": "code",
   "execution_count": 400,
   "metadata": {},
   "outputs": [],
   "source": [
    "z = np.random.normal(500, 100, 10000)"
   ]
  },
  {
   "cell_type": "code",
   "execution_count": 401,
   "metadata": {},
   "outputs": [
    {
     "data": {
      "text/plain": [
       "(array([  11.,  118.,  541., 1475., 2578., 2725., 1714.,  660.,  153.,\n",
       "          25.]), array([129.74085131, 202.86372066, 275.98659001, 349.10945936,\n",
       "        422.23232871, 495.35519807, 568.47806742, 641.60093677,\n",
       "        714.72380612, 787.84667548, 860.96954483]), <a list of 10 Patch objects>)"
      ]
     },
     "execution_count": 401,
     "metadata": {},
     "output_type": "execute_result"
    },
    {
     "data": {
      "image/png": "[encoded data removed]",
      "text/plain": [
       "<Figure size 432x288 with 1 Axes>"
      ]
     },
     "metadata": {
      "needs_background": "light"
     },
     "output_type": "display_data"
    }
   ],
   "source": [
    "plt.hist (z)"
   ]
  },
  {
   "cell_type": "markdown",
   "metadata": {},
   "source": [
    "# 4. Explain the use of seeds in generating pseudorandom numbers"
   ]
  },
  {
   "cell_type": "markdown",
   "metadata": {},
   "source": [
    "The source of randomness that we inject into our programs and algorithms is a mathematical trick called a pseudorandom number generator. A random number generator is a system that generates random numbers from a true source of randomness. In machine learning, pseudorandomness is a sample of numbers that look close to true random, but were generated using a deterministic process, meaning the sequence is seeded with an initial number and given the same seed, it will produce the same sequence of numbers every time. The choice of seed does not matter. \n",
    "\n",
    "The seed is the key piece of information related to the beginning of the generation of numbers. Generally, if you do not explicitly seed the pseudorandom number generator, then it may use the current system time in seconds or milliseconds as the seed.\n",
    "\n",
    "Pi has a decimel expansion that never repeats or ends which makes it a simple example of picking a seed and random number generation.  \n",
    "\n",
    "Parameters:\t\n",
    "- For an input x called seed and a count n, returns a set of values "
   ]
  },
  {
   "cell_type": "code",
   "execution_count": 402,
   "metadata": {},
   "outputs": [
    {
     "name": "stdout",
     "output_type": "stream",
     "text": [
      "0.13436424411240122 0.8474337369372327 0.763774618976614\n",
      "0.13436424411240122 0.8474337369372327 0.763774618976614\n"
     ]
    }
   ],
   "source": [
    "# seed the pseudorandom number generator\n",
    "from random import seed\n",
    "from random import random\n",
    "# seed random number generator\n",
    "seed(1)\n",
    "# generate some random numbers\n",
    "print(random(), random(), random())\n",
    "# reset the seed\n",
    "seed(1)\n",
    "# generate some random numbers\n",
    "print(random(), random(), random())"
   ]
  },
  {
   "cell_type": "markdown",
   "metadata": {},
   "source": [
    "Running the example seeds the pseudorandom number generator with the value 1, generates 3 random numbers, reseeds the generator, and shows that the same three random numbers are generated."
   ]
  },
  {
   "cell_type": "code",
   "execution_count": 403,
   "metadata": {},
   "outputs": [
    {
     "data": {
      "text/plain": [
       "array([[0.27259261, 0.27646426, 0.80187218],\n",
       "       [0.95813935, 0.87593263, 0.35781727]])"
      ]
     },
     "execution_count": 403,
     "metadata": {},
     "output_type": "execute_result"
    }
   ],
   "source": [
    "np.random.seed(1234)\n",
    "\n",
    "np.random.uniform(0, 10, 5)\n",
    "\n",
    "np.random.rand(2,3)"
   ]
  },
  {
   "cell_type": "code",
   "execution_count": 404,
   "metadata": {},
   "outputs": [
    {
     "data": {
      "text/plain": [
       "array([[0.50308317, 0.01376845, 0.77282662],\n",
       "       [0.88264119, 0.36488598, 0.61539618]])"
      ]
     },
     "execution_count": 404,
     "metadata": {},
     "output_type": "execute_result"
    }
   ],
   "source": [
    "np.random.RandomState(1234)\n",
    "\n",
    "np.random.uniform(0, 10, 5)\n",
    "\n",
    "np.random.rand(2,3)"
   ]
  },
  {
   "cell_type": "markdown",
   "metadata": {},
   "source": [
    "np.random.seed(0) resets the state of the existing global RandomState instance that underlies the functions in the np.random namespace. np.random.RandomState(0) returns a new seeded RandomState instance but otherwise does not change anything. You have to use the returned RandomState instance to get consistent pseudorandom numbers. If you use the functions in the numpy.random namespace, you will not get consistent pseudorandom numbers because they are pulling from a different RandomState instance than the one just created. In the interest of reproducibility, it is highly preferable to structure your code to pass around RandomState instances. These functions make the random numbers predictable which is useful when testing using random number generators. "
   ]
  },
  {
   "cell_type": "markdown",
   "metadata": {},
   "source": [
    "# References \n",
    "\n",
    "https://www.esri.ie/pubs/RS84.pdf\n",
    "***\n",
    "https://en.wikipedia.org/wiki/Simpson%27s_paradox\n",
    "***\n",
    "https://www.irishtimes.com/life-and-style/health-family/what-makes-us-happy-at-work-1.3347589\n",
    "***\n",
    "https://www.irishtimes.com/business/work/happiness-at-work-requires-good-relationships-purpose-and-vision-1.2025872\n",
    "***\n",
    "https://hbr.org/2017/09/happiness-traps\n",
    "***\n",
    "http://eureka.sbs.ox.ac.uk/6319/1/2017-07.pdf\n",
    "***\n",
    "https://s3.amazonaws.com/happiness-report/2018/WHR_web.pdf\n",
    "***\n",
    "https://drum.lib.umd.edu/bitstream/handle/1903/18191/Huang_umd_0117N_16920.pdf?sequence=1\n",
    "***\n",
    "https://stackoverflow.com/questions/36537811/numpy-trapezoidal-distribution-for-age-distribution\n",
    "***\n",
    "https://www.irishexaminer.com/breakingnews/ireland/this-is-the-average-full-time-wage-in-ireland-795670.html\n",
    "***\n",
    "https://www.cso.ie/en/releasesandpublications/er/elcq/earningsandlabourcostsq22018finalq32018preliminaryestimates/\n",
    "***\n",
    "https://www.cso.ie/en/releasesandpublications/ep/p-wamii/womenandmeninireland2016/employment/\n",
    "***\n",
    "http://www.governing.com/gov-data/ages-of-workforce-for-industries-average-medians.html\n",
    "***\n",
    "https://www.huffingtonpost.com/kristie-arslan/five-big-myths-about-amer_b_866118.html\n",
    "***\n",
    "https://docs.scipy.org/doc/numpy/reference/generated/numpy.random.choice.html\n",
    "***\n",
    "https://www.thejournal.ie/ireland-european-education-rankings-facts-eoghan-murphy-cnbc-2992092-Sep2016/\n",
    "***\n",
    "https://stackoverflow.com/questions/36537811/numpy-trapezoidal-distribution-for-age-distribution\n",
    "***\n",
    "https://books.google.ie/books?id=TPNFDwAAQBAJ&pg=PA82&lpg=PA82&dq=random+sample+python+male+female+dataframe&source=bl&ots=s696v_uf2o&sig=RtWn4gHinAg_CcHHrHfTEbVQ27Y&hl=en&sa=X&ved=2ahUKEwiq2M_h5Z3fAhXhRxUIHZOEB7sQ6AEwDHoECAoQAQ#v=onepage&q=random%20sample%20python%20male%20female%20dataframe&f=false\n",
    "***\n",
    "https://docs.scipy.org/doc/numpy-1.15.1/reference/routines.random.html"
   ]
  },
  {
   "cell_type": "markdown",
   "metadata": {},
   "source": [
    "# End"
   ]
  }
 ],
 "metadata": {
  "kernelspec": {
   "display_name": "Python 3",
   "language": "python",
   "name": "python3"
  },
  "language_info": {
   "codemirror_mode": {
    "name": "ipython",
    "version": 3
   },
   "file_extension": ".py",
   "mimetype": "text/x-python",
   "name": "python",
   "nbconvert_exporter": "python",
   "pygments_lexer": "ipython3",
   "version": "3.7.0"
  }
 },
 "nbformat": 4,
 "nbformat_minor": 2
}
